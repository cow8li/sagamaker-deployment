{
 "cells": [
  {
   "cell_type": "markdown",
   "metadata": {},
   "source": [
    "# Sentiment Analysis Web App\n",
    "\n",
    "_Deep Learning Nanodegree Program | Deployment_\n",
    "\n",
    "---\n",
    "\n",
    "In this notebook we will use Amazon's SageMaker service to construct a random tree model to predict the sentiment of a movie review. In addition, we will deploy this model to an endpoint and construct a very simple web app which will interact with our model's deployed endpoint.\n",
    "\n",
    "## General Outline\n",
    "\n",
    "Typically, when using a notebook instance with SageMaker, you will proceed through the following steps. Of course, not every step will need to be done with each project. Also, there is quite a lot of room for variation in many of the steps, as you will see throughout these lessons.\n",
    "\n",
    "1. Download or otherwise retrieve the data.\n",
    "2. Process / Prepare the data.\n",
    "3. Upload the processed data to S3.\n",
    "4. Train a chosen model.\n",
    "5. Test the trained model (typically using a batch transform job).\n",
    "6. Deploy the trained model.\n",
    "7. Use the deployed model.\n",
    "\n",
    "In this notebook we will progress through each of the steps above. We will also see that the final step, using the deployed model, can be quite challenging."
   ]
  },
  {
   "cell_type": "code",
   "execution_count": null,
   "metadata": {},
   "outputs": [],
   "source": [
    "# Make sure that we use SageMaker 1.x\n",
    "!pip install sagemaker==1.72.0"
   ]
  },
  {
   "cell_type": "markdown",
   "metadata": {},
   "source": [
    "## Step 1: Downloading the data\n",
    "\n",
    "The dataset we are going to use is very popular among researchers in Natural Language Processing, usually referred to as the [IMDb dataset](http://ai.stanford.edu/~amaas/data/sentiment/). It consists of movie reviews from the website [imdb.com](http://www.imdb.com/), each labeled as either '**pos**itive', if the reviewer enjoyed the film, or '**neg**ative' otherwise.\n",
    "\n",
    "> Maas, Andrew L., et al. [Learning Word Vectors for Sentiment Analysis](http://ai.stanford.edu/~amaas/data/sentiment/). In _Proceedings of the 49th Annual Meeting of the Association for Computational Linguistics: Human Language Technologies_. Association for Computational Linguistics, 2011.\n",
    "\n",
    "We begin by using some Jupyter Notebook magic to download and extract the dataset."
   ]
  },
  {
   "cell_type": "code",
   "execution_count": 2,
   "metadata": {},
   "outputs": [
    {
     "name": "stdout",
     "output_type": "stream",
     "text": [
      "--2021-01-15 18:51:54--  http://ai.stanford.edu/~amaas/data/sentiment/aclImdb_v1.tar.gz\n",
      "Resolving ai.stanford.edu (ai.stanford.edu)... 171.64.68.10\n",
      "Connecting to ai.stanford.edu (ai.stanford.edu)|171.64.68.10|:80... connected.\n",
      "HTTP request sent, awaiting response... 200 OK\n",
      "Length: 84125825 (80M) [application/x-gzip]\n",
      "Saving to: ‘../data/aclImdb_v1.tar.gz’\n",
      "\n",
      "../data/aclImdb_v1. 100%[===================>]  80.23M  25.6MB/s    in 3.3s    \n",
      "\n",
      "2021-01-15 18:51:58 (24.4 MB/s) - ‘../data/aclImdb_v1.tar.gz’ saved [84125825/84125825]\n",
      "\n"
     ]
    }
   ],
   "source": [
    "%mkdir ../data\n",
    "!wget -O ../data/aclImdb_v1.tar.gz http://ai.stanford.edu/~amaas/data/sentiment/aclImdb_v1.tar.gz\n",
    "!tar -zxf ../data/aclImdb_v1.tar.gz -C ../data"
   ]
  },
  {
   "cell_type": "markdown",
   "metadata": {},
   "source": [
    "## Step 2: Preparing and Processing the data\n",
    "\n",
    "The data we have downloaded is split into various files, each of which contains a single review. It will be much easier going forward if we combine these individual files into two large files, one for training and one for testing."
   ]
  },
  {
   "cell_type": "code",
   "execution_count": 3,
   "metadata": {},
   "outputs": [],
   "source": [
    "import os\n",
    "import glob\n",
    "\n",
    "def read_imdb_data(data_dir='../data/aclImdb'):\n",
    "    data = {}\n",
    "    labels = {}\n",
    "    \n",
    "    for data_type in ['train', 'test']:\n",
    "        data[data_type] = {}\n",
    "        labels[data_type] = {}\n",
    "        \n",
    "        for sentiment in ['pos', 'neg']:\n",
    "            data[data_type][sentiment] = []\n",
    "            labels[data_type][sentiment] = []\n",
    "            \n",
    "            path = os.path.join(data_dir, data_type, sentiment, '*.txt')\n",
    "            files = glob.glob(path)\n",
    "            \n",
    "            for f in files:\n",
    "                with open(f) as review:\n",
    "                    data[data_type][sentiment].append(review.read())\n",
    "                    # Here we represent a positive review by '1' and a negative review by '0'\n",
    "                    labels[data_type][sentiment].append(1 if sentiment == 'pos' else 0)\n",
    "                    \n",
    "            assert len(data[data_type][sentiment]) == len(labels[data_type][sentiment]), \\\n",
    "                    \"{}/{} data size does not match labels size\".format(data_type, sentiment)\n",
    "                \n",
    "    return data, labels"
   ]
  },
  {
   "cell_type": "code",
   "execution_count": 4,
   "metadata": {},
   "outputs": [
    {
     "name": "stdout",
     "output_type": "stream",
     "text": [
      "IMDB reviews: train = 12500 pos / 12500 neg, test = 12500 pos / 12500 neg\n"
     ]
    }
   ],
   "source": [
    "data, labels = read_imdb_data()\n",
    "print(\"IMDB reviews: train = {} pos / {} neg, test = {} pos / {} neg\".format(\n",
    "            len(data['train']['pos']), len(data['train']['neg']),\n",
    "            len(data['test']['pos']), len(data['test']['neg'])))"
   ]
  },
  {
   "cell_type": "code",
   "execution_count": 5,
   "metadata": {},
   "outputs": [],
   "source": [
    "from sklearn.utils import shuffle\n",
    "\n",
    "def prepare_imdb_data(data, labels):\n",
    "    \"\"\"Prepare training and test sets from IMDb movie reviews.\"\"\"\n",
    "    \n",
    "    #Combine positive and negative reviews and labels\n",
    "    data_train = data['train']['pos'] + data['train']['neg']\n",
    "    data_test = data['test']['pos'] + data['test']['neg']\n",
    "    labels_train = labels['train']['pos'] + labels['train']['neg']\n",
    "    labels_test = labels['test']['pos'] + labels['test']['neg']\n",
    "    \n",
    "    #Shuffle reviews and corresponding labels within training and test sets\n",
    "    data_train, labels_train = shuffle(data_train, labels_train)\n",
    "    data_test, labels_test = shuffle(data_test, labels_test)\n",
    "    \n",
    "    # Return a unified training data, test data, training labels, test labets\n",
    "    return data_train, data_test, labels_train, labels_test"
   ]
  },
  {
   "cell_type": "code",
   "execution_count": 6,
   "metadata": {},
   "outputs": [
    {
     "name": "stdout",
     "output_type": "stream",
     "text": [
      "IMDb reviews (combined): train = 25000, test = 25000\n"
     ]
    }
   ],
   "source": [
    "train_X, test_X, train_y, test_y = prepare_imdb_data(data, labels)\n",
    "print(\"IMDb reviews (combined): train = {}, test = {}\".format(len(train_X), len(test_X)))"
   ]
  },
  {
   "cell_type": "code",
   "execution_count": 7,
   "metadata": {},
   "outputs": [
    {
     "data": {
      "text/plain": [
       "'\"Once in the life\" is a very good movie. However it\\'s not good for everybody, due to the extensive use of vulgar language and the violence of some of the situations. The movie manages to represent in an anecdotic, believable way the \"life\" in NYC neighborhoods where drug problems are important. This depiction is in turn used as the decor for a most thoughtful and suspenseful drama backed up by powerful dialogs (however I had a hard time understanding some of them because english is not my mother tongue. On video it\\'s OK). There is a little overplay sometimes, but I think it fits quite well to the general orientation Fishburne gave to the movie, which gives matter for reflexion more than just being a good style exercise, notably in the time/action management. The characters, even though not simple, are easy to relate to and actors do a fine job at impersonating them. By the way I much enjoyed the soundtrack (B. Marsalis). If you\\'re not too prude, you should enjoy seeing that movie once, twice, three times. I rated the movie 9/10.'"
      ]
     },
     "execution_count": 7,
     "metadata": {},
     "output_type": "execute_result"
    }
   ],
   "source": [
    "train_X[100]"
   ]
  },
  {
   "cell_type": "markdown",
   "metadata": {},
   "source": [
    "## Processing the data\n",
    "\n",
    "Now that we have our training and testing datasets merged and ready to use, we need to start processing the raw data into something that will be useable by our machine learning algorithm. To begin with, we remove any html formatting and any non-alpha numeric characters that may appear in the reviews. We will do this in a very simplistic way using Python's regular expression module. We will discuss the reason for this rather simplistic pre-processing later on."
   ]
  },
  {
   "cell_type": "code",
   "execution_count": 8,
   "metadata": {},
   "outputs": [],
   "source": [
    "import re\n",
    "\n",
    "REPLACE_NO_SPACE = re.compile(\"(\\.)|(\\;)|(\\:)|(\\!)|(\\')|(\\?)|(\\,)|(\\\")|(\\()|(\\))|(\\[)|(\\])\")\n",
    "REPLACE_WITH_SPACE = re.compile(\"(<br\\s*/><br\\s*/>)|(\\-)|(\\/)\")\n",
    "\n",
    "def review_to_words(review):\n",
    "    words = REPLACE_NO_SPACE.sub(\"\", review.lower())\n",
    "    words = REPLACE_WITH_SPACE.sub(\" \", words)\n",
    "    return words"
   ]
  },
  {
   "cell_type": "code",
   "execution_count": 9,
   "metadata": {},
   "outputs": [
    {
     "data": {
      "text/plain": [
       "'once in the life is a very good movie however its not good for everybody due to the extensive use of vulgar language and the violence of some of the situations the movie manages to represent in an anecdotic believable way the life in nyc neighborhoods where drug problems are important this depiction is in turn used as the decor for a most thoughtful and suspenseful drama backed up by powerful dialogs however i had a hard time understanding some of them because english is not my mother tongue on video its ok there is a little overplay sometimes but i think it fits quite well to the general orientation fishburne gave to the movie which gives matter for reflexion more than just being a good style exercise notably in the time action management the characters even though not simple are easy to relate to and actors do a fine job at impersonating them by the way i much enjoyed the soundtrack b marsalis if youre not too prude you should enjoy seeing that movie once twice three times i rated the movie 9 10'"
      ]
     },
     "execution_count": 9,
     "metadata": {},
     "output_type": "execute_result"
    }
   ],
   "source": [
    "review_to_words(train_X[100])"
   ]
  },
  {
   "cell_type": "code",
   "execution_count": 10,
   "metadata": {},
   "outputs": [],
   "source": [
    "import pickle\n",
    "\n",
    "cache_dir = os.path.join(\"../cache\", \"sentiment_web_app\")  # where to store cache files\n",
    "os.makedirs(cache_dir, exist_ok=True)  # ensure cache directory exists\n",
    "\n",
    "def preprocess_data(data_train, data_test, labels_train, labels_test,\n",
    "                    cache_dir=cache_dir, cache_file=\"preprocessed_data.pkl\"):\n",
    "    \"\"\"Convert each review to words; read from cache if available.\"\"\"\n",
    "\n",
    "    # If cache_file is not None, try to read from it first\n",
    "    cache_data = None\n",
    "    if cache_file is not None:\n",
    "        try:\n",
    "            with open(os.path.join(cache_dir, cache_file), \"rb\") as f:\n",
    "                cache_data = pickle.load(f)\n",
    "            print(\"Read preprocessed data from cache file:\", cache_file)\n",
    "        except:\n",
    "            pass  # unable to read from cache, but that's okay\n",
    "    \n",
    "    # If cache is missing, then do the heavy lifting\n",
    "    if cache_data is None:\n",
    "        # Preprocess training and test data to obtain words for each review\n",
    "        #words_train = list(map(review_to_words, data_train))\n",
    "        #words_test = list(map(review_to_words, data_test))\n",
    "        words_train = [review_to_words(review) for review in data_train]\n",
    "        words_test = [review_to_words(review) for review in data_test]\n",
    "        \n",
    "        # Write to cache file for future runs\n",
    "        if cache_file is not None:\n",
    "            cache_data = dict(words_train=words_train, words_test=words_test,\n",
    "                              labels_train=labels_train, labels_test=labels_test)\n",
    "            with open(os.path.join(cache_dir, cache_file), \"wb\") as f:\n",
    "                pickle.dump(cache_data, f)\n",
    "            print(\"Wrote preprocessed data to cache file:\", cache_file)\n",
    "    else:\n",
    "        # Unpack data loaded from cache file\n",
    "        words_train, words_test, labels_train, labels_test = (cache_data['words_train'],\n",
    "                cache_data['words_test'], cache_data['labels_train'], cache_data['labels_test'])\n",
    "    \n",
    "    return words_train, words_test, labels_train, labels_test"
   ]
  },
  {
   "cell_type": "code",
   "execution_count": 11,
   "metadata": {},
   "outputs": [
    {
     "name": "stdout",
     "output_type": "stream",
     "text": [
      "Wrote preprocessed data to cache file: preprocessed_data.pkl\n"
     ]
    }
   ],
   "source": [
    "# Preprocess data\n",
    "train_X, test_X, train_y, test_y = preprocess_data(train_X, test_X, train_y, test_y)"
   ]
  },
  {
   "cell_type": "markdown",
   "metadata": {},
   "source": [
    "### Extract Bag-of-Words features\n",
    "\n",
    "For the model we will be implementing, rather than using the reviews directly, we are going to transform each review into a Bag-of-Words feature representation. Keep in mind that 'in the wild' we will only have access to the training set so our transformer can only use the training set to construct a representation."
   ]
  },
  {
   "cell_type": "code",
   "execution_count": 12,
   "metadata": {},
   "outputs": [],
   "source": [
    "import numpy as np\n",
    "from sklearn.feature_extraction.text import CountVectorizer\n",
    "\n",
    "# sklearn.externals.joblib is deprecated in 0.21 and will be removed in 0.23. \n",
    "# from sklearn.externals import joblib\n",
    "\n",
    "# Import joblib package directly\n",
    "import joblib\n",
    "# joblib is an enhanced version of pickle that is more efficient for storing NumPy arrays\n",
    "\n",
    "def extract_BoW_features(words_train, words_test, vocabulary_size=5000,\n",
    "                         cache_dir=cache_dir, cache_file=\"bow_features.pkl\"):\n",
    "    \"\"\"Extract Bag-of-Words for a given set of documents, already preprocessed into words.\"\"\"\n",
    "    \n",
    "    # If cache_file is not None, try to read from it first\n",
    "    cache_data = None\n",
    "    if cache_file is not None:\n",
    "        try:\n",
    "            with open(os.path.join(cache_dir, cache_file), \"rb\") as f:\n",
    "                cache_data = joblib.load(f)\n",
    "            print(\"Read features from cache file:\", cache_file)\n",
    "        except:\n",
    "            pass  # unable to read from cache, but that's okay\n",
    "    \n",
    "    # If cache is missing, then do the heavy lifting\n",
    "    if cache_data is None:\n",
    "        # Fit a vectorizer to training documents and use it to transform them\n",
    "        # NOTE: Training documents have already been preprocessed and tokenized into words;\n",
    "        #       pass in dummy functions to skip those steps, e.g. preprocessor=lambda x: x\n",
    "        vectorizer = CountVectorizer(max_features=vocabulary_size)\n",
    "        features_train = vectorizer.fit_transform(words_train).toarray()\n",
    "\n",
    "        # Apply the same vectorizer to transform the test documents (ignore unknown words)\n",
    "        features_test = vectorizer.transform(words_test).toarray()\n",
    "        \n",
    "        # NOTE: Remember to convert the features using .toarray() for a compact representation\n",
    "        \n",
    "        # Write to cache file for future runs (store vocabulary as well)\n",
    "        if cache_file is not None:\n",
    "            vocabulary = vectorizer.vocabulary_\n",
    "            cache_data = dict(features_train=features_train, features_test=features_test,\n",
    "                             vocabulary=vocabulary)\n",
    "            with open(os.path.join(cache_dir, cache_file), \"wb\") as f:\n",
    "                joblib.dump(cache_data, f)\n",
    "            print(\"Wrote features to cache file:\", cache_file)\n",
    "    else:\n",
    "        # Unpack data loaded from cache file\n",
    "        features_train, features_test, vocabulary = (cache_data['features_train'],\n",
    "                cache_data['features_test'], cache_data['vocabulary'])\n",
    "    \n",
    "    # Return both the extracted features as well as the vocabulary\n",
    "    return features_train, features_test, vocabulary"
   ]
  },
  {
   "cell_type": "code",
   "execution_count": 13,
   "metadata": {},
   "outputs": [
    {
     "name": "stdout",
     "output_type": "stream",
     "text": [
      "Wrote features to cache file: bow_features.pkl\n"
     ]
    }
   ],
   "source": [
    "# Extract Bag of Words features for both training and test datasets\n",
    "train_X, test_X, vocabulary = extract_BoW_features(train_X, test_X)"
   ]
  },
  {
   "cell_type": "code",
   "execution_count": 14,
   "metadata": {},
   "outputs": [
    {
     "data": {
      "text/plain": [
       "5000"
      ]
     },
     "execution_count": 14,
     "metadata": {},
     "output_type": "execute_result"
    }
   ],
   "source": [
    "len(train_X[100])"
   ]
  },
  {
   "cell_type": "markdown",
   "metadata": {},
   "source": [
    "## Step 3: Upload data to S3\n",
    "\n",
    "Now that we have created the feature representation of our training (and testing) data, it is time to start setting up and using the XGBoost classifier provided by SageMaker.\n",
    "\n",
    "### Writing the datasets\n",
    "\n",
    "The XGBoost classifier that we will be using requires the dataset to be written to a file and stored using Amazon S3. To do this, we will start by splitting the training dataset into two parts, the data we will train the model with and a validation set. Then, we will write those datasets to a file locally and then upload the files to S3. In addition, we will write the test set to a file and upload that file to S3. This is so that we can use SageMakers Batch Transform functionality to test our model once we've fit it."
   ]
  },
  {
   "cell_type": "code",
   "execution_count": 15,
   "metadata": {},
   "outputs": [],
   "source": [
    "import pandas as pd\n",
    "\n",
    "# Earlier we shuffled the training dataset so to make things simple we can just assign\n",
    "# the first 10 000 reviews to the validation set and use the remaining reviews for training.\n",
    "val_X = pd.DataFrame(train_X[:10000])\n",
    "train_X = pd.DataFrame(train_X[10000:])\n",
    "\n",
    "val_y = pd.DataFrame(train_y[:10000])\n",
    "train_y = pd.DataFrame(train_y[10000:])"
   ]
  },
  {
   "cell_type": "markdown",
   "metadata": {},
   "source": [
    "The documentation for the XGBoost algorithm in SageMaker requires that the training and validation datasets should contain no headers or index and that the label should occur first for each sample.\n",
    "\n",
    "For more information about this and other algorithms, the SageMaker developer documentation can be found on __[Amazon's website.](https://docs.aws.amazon.com/sagemaker/latest/dg/)__"
   ]
  },
  {
   "cell_type": "code",
   "execution_count": 16,
   "metadata": {},
   "outputs": [],
   "source": [
    "# First we make sure that the local directory in which we'd like to store the training and validation csv files exists.\n",
    "data_dir = '../data/sentiment_web_app'\n",
    "if not os.path.exists(data_dir):\n",
    "    os.makedirs(data_dir)"
   ]
  },
  {
   "cell_type": "code",
   "execution_count": 17,
   "metadata": {},
   "outputs": [],
   "source": [
    "pd.DataFrame(test_X).to_csv(os.path.join(data_dir, 'test.csv'), header=False, index=False)\n",
    "\n",
    "pd.concat([val_y, val_X], axis=1).to_csv(os.path.join(data_dir, 'validation.csv'), header=False, index=False)\n",
    "pd.concat([train_y, train_X], axis=1).to_csv(os.path.join(data_dir, 'train.csv'), header=False, index=False)"
   ]
  },
  {
   "cell_type": "code",
   "execution_count": 18,
   "metadata": {},
   "outputs": [],
   "source": [
    "# To save a bit of memory we can set text_X, train_X, val_X, train_y and val_y to None.\n",
    "\n",
    "test_X = train_X = val_X = train_y = val_y = None"
   ]
  },
  {
   "cell_type": "markdown",
   "metadata": {},
   "source": [
    "### Uploading Training / Validation files to S3\n",
    "\n",
    "Amazon's S3 service allows us to store files that can be accessed by both the built-in training models such as the XGBoost model we will be using as well as custom models such as the one we will see a little later.\n",
    "\n",
    "For this and most other tasks we will be doing using SageMaker, there are two methods we could use. The first is to use the low level functionality of SageMaker which requires knowing each of the objects involved in the SageMaker environment. The second is to use the high level functionality in which certain choices have been made on the user's behalf. The low level approach benefits from allowing the user a great deal of flexibility while the high level approach makes development much quicker. For our purposes we will opt to use the high level approach although using the low-level approach is certainly an option.\n",
    "\n",
    "Recall the method `upload_data()` which is a member of the object representing our current SageMaker session. What this method does is upload the data to the default bucket (which is created if it does not exist) into the path described by the key_prefix variable. To see this for yourself, once you have uploaded the data files, go to the S3 console and look to see where the files have been uploaded.\n",
    "\n",
    "For additional resources, see the __[SageMaker API documentation](http://sagemaker.readthedocs.io/en/latest/)__ and in addition the __[SageMaker Developer Guide.](https://docs.aws.amazon.com/sagemaker/latest/dg/)__"
   ]
  },
  {
   "cell_type": "code",
   "execution_count": 19,
   "metadata": {},
   "outputs": [],
   "source": [
    "import sagemaker\n",
    "\n",
    "session = sagemaker.Session() # Store the current SageMaker session\n",
    "\n",
    "# S3 prefix (which folder will we use)\n",
    "prefix = 'sentiment-web-app'\n",
    "\n",
    "test_location = session.upload_data(os.path.join(data_dir, 'test.csv'), key_prefix=prefix)\n",
    "val_location = session.upload_data(os.path.join(data_dir, 'validation.csv'), key_prefix=prefix)\n",
    "train_location = session.upload_data(os.path.join(data_dir, 'train.csv'), key_prefix=prefix)"
   ]
  },
  {
   "cell_type": "markdown",
   "metadata": {},
   "source": [
    "## Step 4: Creating the XGBoost model\n",
    "\n",
    "Now that the data has been uploaded it is time to create the XGBoost model. To begin with, we need to do some setup. At this point it is worth discussing what a model is in SageMaker. It is easiest to think of a model of comprising three different objects in the SageMaker ecosystem, which interact with one another.\n",
    "\n",
    "- Model Artifacts\n",
    "- Training Code (Container)\n",
    "- Inference Code (Container)\n",
    "\n",
    "The Model Artifacts are what you might think of as the actual model itself. For example, if you were building a neural network, the model artifacts would be the weights of the various layers. In our case, for an XGBoost model, the artifacts are the actual trees that are created during training.\n",
    "\n",
    "The other two objects, the training code and the inference code are then used to manipulate the training artifacts. More precisely, the training code uses the training data that is provided and creates the model artifacts, while the inference code uses the model artifacts to make predictions on new data.\n",
    "\n",
    "The way that SageMaker runs the training and inference code is by making use of Docker containers. For now, think of a container as being a way of packaging code up so that dependencies aren't an issue."
   ]
  },
  {
   "cell_type": "code",
   "execution_count": 20,
   "metadata": {},
   "outputs": [],
   "source": [
    "from sagemaker import get_execution_role\n",
    "\n",
    "# Our current execution role is required when creating the model as the training\n",
    "# and inference code will need to access the model artifacts.\n",
    "role = get_execution_role()"
   ]
  },
  {
   "cell_type": "code",
   "execution_count": 21,
   "metadata": {},
   "outputs": [
    {
     "name": "stderr",
     "output_type": "stream",
     "text": [
      "'get_image_uri' method will be deprecated in favor of 'ImageURIProvider' class in SageMaker Python SDK v2.\n",
      "There is a more up to date SageMaker XGBoost image. To use the newer image, please set 'repo_version'='1.0-1'. For example:\n",
      "\tget_image_uri(region, 'xgboost', '1.0-1').\n"
     ]
    }
   ],
   "source": [
    "# We need to retrieve the location of the container which is provided by Amazon for using XGBoost.\n",
    "# As a matter of convenience, the training and inference code both use the same container.\n",
    "from sagemaker.amazon.amazon_estimator import get_image_uri\n",
    "\n",
    "container = get_image_uri(session.boto_region_name, 'xgboost')"
   ]
  },
  {
   "cell_type": "code",
   "execution_count": 22,
   "metadata": {},
   "outputs": [
    {
     "name": "stderr",
     "output_type": "stream",
     "text": [
      "Parameter image_name will be renamed to image_uri in SageMaker Python SDK v2.\n"
     ]
    }
   ],
   "source": [
    "# First we create a SageMaker estimator object for our model.\n",
    "xgb = sagemaker.estimator.Estimator(container, # The location of the container we wish to use\n",
    "                                    role,                                    # What is our current IAM Role\n",
    "                                    train_instance_count=1,                  # How many compute instances\n",
    "                                    train_instance_type='ml.m4.xlarge',      # What kind of compute instances\n",
    "                                    output_path='s3://{}/{}/output'.format(session.default_bucket(), prefix),\n",
    "                                    sagemaker_session=session)\n",
    "\n",
    "# And then set the algorithm specific parameters.\n",
    "xgb.set_hyperparameters(max_depth=5,\n",
    "                        eta=0.2,\n",
    "                        gamma=4,\n",
    "                        min_child_weight=6,\n",
    "                        subsample=0.8,\n",
    "                        silent=0,\n",
    "                        objective='binary:logistic',\n",
    "                        early_stopping_rounds=10,\n",
    "                        num_round=500)"
   ]
  },
  {
   "cell_type": "markdown",
   "metadata": {},
   "source": [
    "### Fit the XGBoost model\n",
    "\n",
    "Now that our model has been set up we simply need to attach the training and validation datasets and then ask SageMaker to set up the computation."
   ]
  },
  {
   "cell_type": "code",
   "execution_count": 23,
   "metadata": {},
   "outputs": [
    {
     "name": "stderr",
     "output_type": "stream",
     "text": [
      "'s3_input' class will be renamed to 'TrainingInput' in SageMaker Python SDK v2.\n",
      "'s3_input' class will be renamed to 'TrainingInput' in SageMaker Python SDK v2.\n"
     ]
    }
   ],
   "source": [
    "s3_input_train = sagemaker.s3_input(s3_data=train_location, content_type='csv')\n",
    "s3_input_validation = sagemaker.s3_input(s3_data=val_location, content_type='csv')"
   ]
  },
  {
   "cell_type": "code",
   "execution_count": 24,
   "metadata": {},
   "outputs": [
    {
     "name": "stdout",
     "output_type": "stream",
     "text": [
      "2021-01-15 18:57:08 Starting - Starting the training job...\n",
      "2021-01-15 18:57:09 Starting - Launching requested ML instances......\n",
      "2021-01-15 18:58:13 Starting - Preparing the instances for training...\n",
      "2021-01-15 18:59:00 Downloading - Downloading input data...\n",
      "2021-01-15 18:59:35 Training - Training image download completed. Training in progress..\u001b[34mArguments: train\u001b[0m\n",
      "\u001b[34m[2021-01-15:18:59:36:INFO] Running standalone xgboost training.\u001b[0m\n",
      "\u001b[34m[2021-01-15:18:59:36:INFO] File size need to be processed in the node: 238.5mb. Available memory size in the node: 8422.69mb\u001b[0m\n",
      "\u001b[34m[2021-01-15:18:59:36:INFO] Determined delimiter of CSV input is ','\u001b[0m\n",
      "\u001b[34m[18:59:36] S3DistributionType set as FullyReplicated\u001b[0m\n",
      "\u001b[34m[18:59:38] 15000x5000 matrix with 75000000 entries loaded from /opt/ml/input/data/train?format=csv&label_column=0&delimiter=,\u001b[0m\n",
      "\u001b[34m[2021-01-15:18:59:38:INFO] Determined delimiter of CSV input is ','\u001b[0m\n",
      "\u001b[34m[18:59:38] S3DistributionType set as FullyReplicated\u001b[0m\n",
      "\u001b[34m[18:59:39] 10000x5000 matrix with 50000000 entries loaded from /opt/ml/input/data/validation?format=csv&label_column=0&delimiter=,\u001b[0m\n",
      "\u001b[34m[18:59:43] src/tree/updater_prune.cc:74: tree pruning end, 1 roots, 46 extra nodes, 4 pruned nodes, max_depth=5\u001b[0m\n",
      "\u001b[34m[0]#011train-error:0.304467#011validation-error:0.3117\u001b[0m\n",
      "\u001b[34mMultiple eval metrics have been passed: 'validation-error' will be used for early stopping.\n",
      "\u001b[0m\n",
      "\u001b[34mWill train until validation-error hasn't improved in 10 rounds.\u001b[0m\n",
      "\u001b[34m[18:59:44] src/tree/updater_prune.cc:74: tree pruning end, 1 roots, 42 extra nodes, 2 pruned nodes, max_depth=5\u001b[0m\n",
      "\u001b[34m[1]#011train-error:0.302067#011validation-error:0.3104\u001b[0m\n",
      "\u001b[34m[18:59:45] src/tree/updater_prune.cc:74: tree pruning end, 1 roots, 40 extra nodes, 8 pruned nodes, max_depth=5\u001b[0m\n",
      "\u001b[34m[2]#011train-error:0.288867#011validation-error:0.2943\u001b[0m\n",
      "\u001b[34m[18:59:47] src/tree/updater_prune.cc:74: tree pruning end, 1 roots, 24 extra nodes, 6 pruned nodes, max_depth=5\u001b[0m\n",
      "\u001b[34m[3]#011train-error:0.284667#011validation-error:0.2901\u001b[0m\n",
      "\u001b[34m[18:59:48] src/tree/updater_prune.cc:74: tree pruning end, 1 roots, 46 extra nodes, 6 pruned nodes, max_depth=5\u001b[0m\n",
      "\u001b[34m[4]#011train-error:0.278267#011validation-error:0.2851\u001b[0m\n",
      "\u001b[34m[18:59:50] src/tree/updater_prune.cc:74: tree pruning end, 1 roots, 36 extra nodes, 8 pruned nodes, max_depth=5\u001b[0m\n",
      "\u001b[34m[5]#011train-error:0.267533#011validation-error:0.2783\u001b[0m\n",
      "\u001b[34m[18:59:51] src/tree/updater_prune.cc:74: tree pruning end, 1 roots, 30 extra nodes, 4 pruned nodes, max_depth=5\u001b[0m\n",
      "\u001b[34m[6]#011train-error:0.263067#011validation-error:0.2741\u001b[0m\n",
      "\u001b[34m[18:59:52] src/tree/updater_prune.cc:74: tree pruning end, 1 roots, 32 extra nodes, 6 pruned nodes, max_depth=5\u001b[0m\n",
      "\u001b[34m[7]#011train-error:0.252333#011validation-error:0.26\u001b[0m\n",
      "\u001b[34m[18:59:54] src/tree/updater_prune.cc:74: tree pruning end, 1 roots, 32 extra nodes, 8 pruned nodes, max_depth=5\u001b[0m\n",
      "\u001b[34m[8]#011train-error:0.245133#011validation-error:0.2504\u001b[0m\n",
      "\u001b[34m[18:59:55] src/tree/updater_prune.cc:74: tree pruning end, 1 roots, 28 extra nodes, 2 pruned nodes, max_depth=5\u001b[0m\n",
      "\u001b[34m[9]#011train-error:0.2378#011validation-error:0.2449\u001b[0m\n",
      "\u001b[34m[18:59:56] src/tree/updater_prune.cc:74: tree pruning end, 1 roots, 36 extra nodes, 4 pruned nodes, max_depth=5\u001b[0m\n",
      "\u001b[34m[10]#011train-error:0.230733#011validation-error:0.2388\u001b[0m\n",
      "\u001b[34m[18:59:57] src/tree/updater_prune.cc:74: tree pruning end, 1 roots, 30 extra nodes, 6 pruned nodes, max_depth=5\u001b[0m\n",
      "\u001b[34m[11]#011train-error:0.2252#011validation-error:0.2349\u001b[0m\n",
      "\u001b[34m[18:59:59] src/tree/updater_prune.cc:74: tree pruning end, 1 roots, 38 extra nodes, 2 pruned nodes, max_depth=5\u001b[0m\n",
      "\u001b[34m[12]#011train-error:0.2188#011validation-error:0.2308\u001b[0m\n",
      "\u001b[34m[19:00:00] src/tree/updater_prune.cc:74: tree pruning end, 1 roots, 30 extra nodes, 8 pruned nodes, max_depth=5\u001b[0m\n",
      "\u001b[34m[13]#011train-error:0.216#011validation-error:0.2257\u001b[0m\n",
      "\u001b[34m[19:00:01] src/tree/updater_prune.cc:74: tree pruning end, 1 roots, 30 extra nodes, 16 pruned nodes, max_depth=5\u001b[0m\n",
      "\u001b[34m[14]#011train-error:0.213067#011validation-error:0.2226\u001b[0m\n",
      "\u001b[34m[19:00:03] src/tree/updater_prune.cc:74: tree pruning end, 1 roots, 30 extra nodes, 8 pruned nodes, max_depth=5\u001b[0m\n",
      "\u001b[34m[15]#011train-error:0.208467#011validation-error:0.2192\u001b[0m\n",
      "\u001b[34m[19:00:05] src/tree/updater_prune.cc:74: tree pruning end, 1 roots, 34 extra nodes, 10 pruned nodes, max_depth=5\u001b[0m\n",
      "\u001b[34m[16]#011train-error:0.2038#011validation-error:0.2166\u001b[0m\n",
      "\u001b[34m[19:00:06] src/tree/updater_prune.cc:74: tree pruning end, 1 roots, 18 extra nodes, 12 pruned nodes, max_depth=5\u001b[0m\n",
      "\u001b[34m[17]#011train-error:0.200933#011validation-error:0.2138\u001b[0m\n",
      "\u001b[34m[19:00:07] src/tree/updater_prune.cc:74: tree pruning end, 1 roots, 44 extra nodes, 4 pruned nodes, max_depth=5\u001b[0m\n",
      "\u001b[34m[18]#011train-error:0.198933#011validation-error:0.2108\u001b[0m\n",
      "\u001b[34m[19:00:09] src/tree/updater_prune.cc:74: tree pruning end, 1 roots, 24 extra nodes, 6 pruned nodes, max_depth=5\u001b[0m\n",
      "\u001b[34m[19]#011train-error:0.196333#011validation-error:0.2098\u001b[0m\n",
      "\u001b[34m[19:00:10] src/tree/updater_prune.cc:74: tree pruning end, 1 roots, 24 extra nodes, 6 pruned nodes, max_depth=5\u001b[0m\n",
      "\u001b[34m[20]#011train-error:0.193733#011validation-error:0.2072\u001b[0m\n",
      "\u001b[34m[19:00:11] src/tree/updater_prune.cc:74: tree pruning end, 1 roots, 40 extra nodes, 8 pruned nodes, max_depth=5\u001b[0m\n",
      "\u001b[34m[21]#011train-error:0.188267#011validation-error:0.2045\u001b[0m\n",
      "\u001b[34m[19:00:13] src/tree/updater_prune.cc:74: tree pruning end, 1 roots, 36 extra nodes, 10 pruned nodes, max_depth=5\u001b[0m\n",
      "\u001b[34m[22]#011train-error:0.1854#011validation-error:0.2038\u001b[0m\n",
      "\u001b[34m[19:00:14] src/tree/updater_prune.cc:74: tree pruning end, 1 roots, 24 extra nodes, 8 pruned nodes, max_depth=5\u001b[0m\n",
      "\u001b[34m[23]#011train-error:0.183267#011validation-error:0.2034\u001b[0m\n",
      "\u001b[34m[19:00:15] src/tree/updater_prune.cc:74: tree pruning end, 1 roots, 12 extra nodes, 12 pruned nodes, max_depth=5\u001b[0m\n",
      "\u001b[34m[24]#011train-error:0.181867#011validation-error:0.2006\u001b[0m\n",
      "\u001b[34m[19:00:17] src/tree/updater_prune.cc:74: tree pruning end, 1 roots, 26 extra nodes, 4 pruned nodes, max_depth=5\u001b[0m\n",
      "\u001b[34m[25]#011train-error:0.1804#011validation-error:0.2005\u001b[0m\n",
      "\u001b[34m[19:00:18] src/tree/updater_prune.cc:74: tree pruning end, 1 roots, 34 extra nodes, 10 pruned nodes, max_depth=5\u001b[0m\n",
      "\u001b[34m[26]#011train-error:0.176667#011validation-error:0.1989\u001b[0m\n",
      "\u001b[34m[19:00:19] src/tree/updater_prune.cc:74: tree pruning end, 1 roots, 40 extra nodes, 4 pruned nodes, max_depth=5\u001b[0m\n",
      "\u001b[34m[27]#011train-error:0.173733#011validation-error:0.1956\u001b[0m\n",
      "\u001b[34m[19:00:20] src/tree/updater_prune.cc:74: tree pruning end, 1 roots, 28 extra nodes, 6 pruned nodes, max_depth=5\u001b[0m\n",
      "\u001b[34m[28]#011train-error:0.170733#011validation-error:0.1928\u001b[0m\n",
      "\u001b[34m[19:00:22] src/tree/updater_prune.cc:74: tree pruning end, 1 roots, 40 extra nodes, 4 pruned nodes, max_depth=5\u001b[0m\n",
      "\u001b[34m[29]#011train-error:0.1688#011validation-error:0.1915\u001b[0m\n",
      "\u001b[34m[19:00:23] src/tree/updater_prune.cc:74: tree pruning end, 1 roots, 36 extra nodes, 6 pruned nodes, max_depth=5\u001b[0m\n",
      "\u001b[34m[30]#011train-error:0.167267#011validation-error:0.1905\u001b[0m\n",
      "\u001b[34m[19:00:24] src/tree/updater_prune.cc:74: tree pruning end, 1 roots, 36 extra nodes, 6 pruned nodes, max_depth=5\u001b[0m\n",
      "\u001b[34m[31]#011train-error:0.1646#011validation-error:0.1871\u001b[0m\n",
      "\u001b[34m[19:00:26] src/tree/updater_prune.cc:74: tree pruning end, 1 roots, 28 extra nodes, 14 pruned nodes, max_depth=5\u001b[0m\n",
      "\u001b[34m[32]#011train-error:0.161533#011validation-error:0.1857\u001b[0m\n",
      "\u001b[34m[19:00:27] src/tree/updater_prune.cc:74: tree pruning end, 1 roots, 18 extra nodes, 12 pruned nodes, max_depth=5\u001b[0m\n",
      "\u001b[34m[33]#011train-error:0.160667#011validation-error:0.1846\u001b[0m\n",
      "\u001b[34m[19:00:28] src/tree/updater_prune.cc:74: tree pruning end, 1 roots, 18 extra nodes, 12 pruned nodes, max_depth=5\u001b[0m\n",
      "\u001b[34m[34]#011train-error:0.159533#011validation-error:0.1856\u001b[0m\n",
      "\u001b[34m[19:00:30] src/tree/updater_prune.cc:74: tree pruning end, 1 roots, 28 extra nodes, 6 pruned nodes, max_depth=5\u001b[0m\n",
      "\u001b[34m[35]#011train-error:0.1576#011validation-error:0.1836\u001b[0m\n",
      "\u001b[34m[19:00:31] src/tree/updater_prune.cc:74: tree pruning end, 1 roots, 24 extra nodes, 10 pruned nodes, max_depth=5\u001b[0m\n",
      "\u001b[34m[36]#011train-error:0.1554#011validation-error:0.1814\u001b[0m\n",
      "\u001b[34m[19:00:32] src/tree/updater_prune.cc:74: tree pruning end, 1 roots, 30 extra nodes, 12 pruned nodes, max_depth=5\u001b[0m\n",
      "\u001b[34m[37]#011train-error:0.153867#011validation-error:0.1811\u001b[0m\n",
      "\u001b[34m[19:00:33] src/tree/updater_prune.cc:74: tree pruning end, 1 roots, 30 extra nodes, 8 pruned nodes, max_depth=5\u001b[0m\n",
      "\u001b[34m[38]#011train-error:0.150533#011validation-error:0.179\u001b[0m\n",
      "\u001b[34m[19:00:35] src/tree/updater_prune.cc:74: tree pruning end, 1 roots, 24 extra nodes, 8 pruned nodes, max_depth=5\u001b[0m\n",
      "\u001b[34m[39]#011train-error:0.15#011validation-error:0.1794\u001b[0m\n",
      "\u001b[34m[19:00:36] src/tree/updater_prune.cc:74: tree pruning end, 1 roots, 20 extra nodes, 6 pruned nodes, max_depth=5\u001b[0m\n",
      "\u001b[34m[40]#011train-error:0.148933#011validation-error:0.1788\u001b[0m\n",
      "\u001b[34m[19:00:37] src/tree/updater_prune.cc:74: tree pruning end, 1 roots, 18 extra nodes, 8 pruned nodes, max_depth=5\u001b[0m\n",
      "\u001b[34m[41]#011train-error:0.149067#011validation-error:0.179\u001b[0m\n",
      "\u001b[34m[19:00:39] src/tree/updater_prune.cc:74: tree pruning end, 1 roots, 32 extra nodes, 2 pruned nodes, max_depth=5\u001b[0m\n",
      "\u001b[34m[42]#011train-error:0.146867#011validation-error:0.1773\u001b[0m\n",
      "\u001b[34m[19:00:40] src/tree/updater_prune.cc:74: tree pruning end, 1 roots, 20 extra nodes, 10 pruned nodes, max_depth=5\u001b[0m\n",
      "\u001b[34m[43]#011train-error:0.146267#011validation-error:0.1778\u001b[0m\n",
      "\u001b[34m[19:00:41] src/tree/updater_prune.cc:74: tree pruning end, 1 roots, 14 extra nodes, 6 pruned nodes, max_depth=5\u001b[0m\n",
      "\u001b[34m[44]#011train-error:0.145267#011validation-error:0.1772\u001b[0m\n",
      "\u001b[34m[19:00:42] src/tree/updater_prune.cc:74: tree pruning end, 1 roots, 18 extra nodes, 8 pruned nodes, max_depth=5\u001b[0m\n",
      "\u001b[34m[45]#011train-error:0.143333#011validation-error:0.1774\u001b[0m\n",
      "\u001b[34m[19:00:44] src/tree/updater_prune.cc:74: tree pruning end, 1 roots, 30 extra nodes, 8 pruned nodes, max_depth=5\u001b[0m\n",
      "\u001b[34m[46]#011train-error:0.1422#011validation-error:0.1757\u001b[0m\n",
      "\u001b[34m[19:00:45] src/tree/updater_prune.cc:74: tree pruning end, 1 roots, 18 extra nodes, 12 pruned nodes, max_depth=5\u001b[0m\n",
      "\u001b[34m[47]#011train-error:0.141733#011validation-error:0.1746\u001b[0m\n",
      "\u001b[34m[19:00:46] src/tree/updater_prune.cc:74: tree pruning end, 1 roots, 20 extra nodes, 6 pruned nodes, max_depth=5\u001b[0m\n",
      "\u001b[34m[48]#011train-error:0.140667#011validation-error:0.1753\u001b[0m\n",
      "\u001b[34m[19:00:48] src/tree/updater_prune.cc:74: tree pruning end, 1 roots, 24 extra nodes, 14 pruned nodes, max_depth=5\u001b[0m\n",
      "\u001b[34m[49]#011train-error:0.140467#011validation-error:0.1728\u001b[0m\n",
      "\u001b[34m[19:00:49] src/tree/updater_prune.cc:74: tree pruning end, 1 roots, 20 extra nodes, 4 pruned nodes, max_depth=5\u001b[0m\n",
      "\u001b[34m[50]#011train-error:0.140133#011validation-error:0.1739\u001b[0m\n",
      "\u001b[34m[19:00:50] src/tree/updater_prune.cc:74: tree pruning end, 1 roots, 22 extra nodes, 14 pruned nodes, max_depth=5\u001b[0m\n",
      "\u001b[34m[51]#011train-error:0.1382#011validation-error:0.1714\u001b[0m\n",
      "\u001b[34m[19:00:52] src/tree/updater_prune.cc:74: tree pruning end, 1 roots, 30 extra nodes, 8 pruned nodes, max_depth=5\u001b[0m\n",
      "\u001b[34m[52]#011train-error:0.136067#011validation-error:0.17\u001b[0m\n",
      "\u001b[34m[19:00:53] src/tree/updater_prune.cc:74: tree pruning end, 1 roots, 24 extra nodes, 8 pruned nodes, max_depth=5\u001b[0m\n",
      "\u001b[34m[53]#011train-error:0.135467#011validation-error:0.1691\u001b[0m\n",
      "\u001b[34m[19:00:54] src/tree/updater_prune.cc:74: tree pruning end, 1 roots, 20 extra nodes, 12 pruned nodes, max_depth=5\u001b[0m\n",
      "\u001b[34m[54]#011train-error:0.134667#011validation-error:0.1688\u001b[0m\n",
      "\u001b[34m[19:00:55] src/tree/updater_prune.cc:74: tree pruning end, 1 roots, 30 extra nodes, 4 pruned nodes, max_depth=5\u001b[0m\n",
      "\u001b[34m[55]#011train-error:0.133267#011validation-error:0.1679\u001b[0m\n",
      "\u001b[34m[19:00:57] src/tree/updater_prune.cc:74: tree pruning end, 1 roots, 28 extra nodes, 4 pruned nodes, max_depth=5\u001b[0m\n",
      "\u001b[34m[56]#011train-error:0.132533#011validation-error:0.1676\u001b[0m\n",
      "\u001b[34m[19:00:58] src/tree/updater_prune.cc:74: tree pruning end, 1 roots, 18 extra nodes, 10 pruned nodes, max_depth=5\u001b[0m\n",
      "\u001b[34m[57]#011train-error:0.131933#011validation-error:0.1669\u001b[0m\n",
      "\u001b[34m[19:00:59] src/tree/updater_prune.cc:74: tree pruning end, 1 roots, 34 extra nodes, 10 pruned nodes, max_depth=5\u001b[0m\n",
      "\u001b[34m[58]#011train-error:0.1294#011validation-error:0.1667\u001b[0m\n",
      "\u001b[34m[19:01:01] src/tree/updater_prune.cc:74: tree pruning end, 1 roots, 26 extra nodes, 6 pruned nodes, max_depth=5\u001b[0m\n",
      "\u001b[34m[59]#011train-error:0.127267#011validation-error:0.1655\u001b[0m\n",
      "\u001b[34m[19:01:02] src/tree/updater_prune.cc:74: tree pruning end, 1 roots, 26 extra nodes, 16 pruned nodes, max_depth=5\u001b[0m\n",
      "\u001b[34m[60]#011train-error:0.128067#011validation-error:0.165\u001b[0m\n",
      "\u001b[34m[19:01:03] src/tree/updater_prune.cc:74: tree pruning end, 1 roots, 36 extra nodes, 10 pruned nodes, max_depth=5\u001b[0m\n",
      "\u001b[34m[61]#011train-error:0.1258#011validation-error:0.1627\u001b[0m\n",
      "\u001b[34m[19:01:05] src/tree/updater_prune.cc:74: tree pruning end, 1 roots, 12 extra nodes, 6 pruned nodes, max_depth=5\u001b[0m\n",
      "\u001b[34m[62]#011train-error:0.1258#011validation-error:0.1628\u001b[0m\n",
      "\u001b[34m[19:01:06] src/tree/updater_prune.cc:74: tree pruning end, 1 roots, 16 extra nodes, 8 pruned nodes, max_depth=5\u001b[0m\n",
      "\u001b[34m[63]#011train-error:0.125067#011validation-error:0.1626\u001b[0m\n",
      "\u001b[34m[19:01:08] src/tree/updater_prune.cc:74: tree pruning end, 1 roots, 28 extra nodes, 8 pruned nodes, max_depth=5\u001b[0m\n",
      "\u001b[34m[64]#011train-error:0.1244#011validation-error:0.1632\u001b[0m\n",
      "\u001b[34m[19:01:09] src/tree/updater_prune.cc:74: tree pruning end, 1 roots, 22 extra nodes, 16 pruned nodes, max_depth=5\u001b[0m\n",
      "\u001b[34m[65]#011train-error:0.1228#011validation-error:0.1631\u001b[0m\n",
      "\u001b[34m[19:01:11] src/tree/updater_prune.cc:74: tree pruning end, 1 roots, 10 extra nodes, 12 pruned nodes, max_depth=5\u001b[0m\n",
      "\u001b[34m[66]#011train-error:0.122667#011validation-error:0.1627\u001b[0m\n",
      "\u001b[34m[19:01:12] src/tree/updater_prune.cc:74: tree pruning end, 1 roots, 18 extra nodes, 8 pruned nodes, max_depth=5\u001b[0m\n",
      "\u001b[34m[67]#011train-error:0.123133#011validation-error:0.1612\u001b[0m\n",
      "\u001b[34m[19:01:13] src/tree/updater_prune.cc:74: tree pruning end, 1 roots, 22 extra nodes, 10 pruned nodes, max_depth=5\u001b[0m\n",
      "\u001b[34m[68]#011train-error:0.122533#011validation-error:0.1613\u001b[0m\n",
      "\u001b[34m[19:01:14] src/tree/updater_prune.cc:74: tree pruning end, 1 roots, 36 extra nodes, 4 pruned nodes, max_depth=5\u001b[0m\n",
      "\u001b[34m[69]#011train-error:0.120467#011validation-error:0.1624\u001b[0m\n",
      "\u001b[34m[19:01:16] src/tree/updater_prune.cc:74: tree pruning end, 1 roots, 10 extra nodes, 18 pruned nodes, max_depth=5\u001b[0m\n",
      "\u001b[34m[70]#011train-error:0.1208#011validation-error:0.1615\u001b[0m\n",
      "\u001b[34m[19:01:17] src/tree/updater_prune.cc:74: tree pruning end, 1 roots, 34 extra nodes, 4 pruned nodes, max_depth=5\u001b[0m\n",
      "\u001b[34m[71]#011train-error:0.120333#011validation-error:0.1624\u001b[0m\n",
      "\u001b[34m[19:01:18] src/tree/updater_prune.cc:74: tree pruning end, 1 roots, 18 extra nodes, 12 pruned nodes, max_depth=5\u001b[0m\n",
      "\u001b[34m[72]#011train-error:0.119467#011validation-error:0.1621\u001b[0m\n",
      "\u001b[34m[19:01:20] src/tree/updater_prune.cc:74: tree pruning end, 1 roots, 20 extra nodes, 10 pruned nodes, max_depth=5\u001b[0m\n",
      "\u001b[34m[73]#011train-error:0.118933#011validation-error:0.1614\u001b[0m\n",
      "\u001b[34m[19:01:21] src/tree/updater_prune.cc:74: tree pruning end, 1 roots, 14 extra nodes, 8 pruned nodes, max_depth=5\u001b[0m\n",
      "\u001b[34m[74]#011train-error:0.118267#011validation-error:0.1608\u001b[0m\n",
      "\u001b[34m[19:01:22] src/tree/updater_prune.cc:74: tree pruning end, 1 roots, 22 extra nodes, 4 pruned nodes, max_depth=5\u001b[0m\n",
      "\u001b[34m[75]#011train-error:0.1182#011validation-error:0.1591\u001b[0m\n",
      "\u001b[34m[19:01:23] src/tree/updater_prune.cc:74: tree pruning end, 1 roots, 18 extra nodes, 10 pruned nodes, max_depth=5\u001b[0m\n",
      "\u001b[34m[76]#011train-error:0.1184#011validation-error:0.1586\u001b[0m\n",
      "\u001b[34m[19:01:25] src/tree/updater_prune.cc:74: tree pruning end, 1 roots, 18 extra nodes, 6 pruned nodes, max_depth=5\u001b[0m\n",
      "\u001b[34m[77]#011train-error:0.117667#011validation-error:0.1576\u001b[0m\n",
      "\u001b[34m[19:01:26] src/tree/updater_prune.cc:74: tree pruning end, 1 roots, 16 extra nodes, 4 pruned nodes, max_depth=5\u001b[0m\n",
      "\u001b[34m[78]#011train-error:0.116133#011validation-error:0.1559\u001b[0m\n",
      "\u001b[34m[19:01:27] src/tree/updater_prune.cc:74: tree pruning end, 1 roots, 14 extra nodes, 12 pruned nodes, max_depth=5\u001b[0m\n",
      "\u001b[34m[79]#011train-error:0.115533#011validation-error:0.1566\u001b[0m\n",
      "\u001b[34m[19:01:29] src/tree/updater_prune.cc:74: tree pruning end, 1 roots, 16 extra nodes, 8 pruned nodes, max_depth=5\u001b[0m\n",
      "\u001b[34m[80]#011train-error:0.1154#011validation-error:0.1561\u001b[0m\n",
      "\u001b[34m[19:01:30] src/tree/updater_prune.cc:74: tree pruning end, 1 roots, 22 extra nodes, 2 pruned nodes, max_depth=5\u001b[0m\n",
      "\u001b[34m[81]#011train-error:0.115067#011validation-error:0.1553\u001b[0m\n",
      "\u001b[34m[19:01:31] src/tree/updater_prune.cc:74: tree pruning end, 1 roots, 24 extra nodes, 8 pruned nodes, max_depth=5\u001b[0m\n",
      "\u001b[34m[82]#011train-error:0.113733#011validation-error:0.1548\u001b[0m\n",
      "\u001b[34m[19:01:32] src/tree/updater_prune.cc:74: tree pruning end, 1 roots, 10 extra nodes, 8 pruned nodes, max_depth=5\u001b[0m\n",
      "\u001b[34m[83]#011train-error:0.113067#011validation-error:0.155\u001b[0m\n",
      "\u001b[34m[19:01:34] src/tree/updater_prune.cc:74: tree pruning end, 1 roots, 14 extra nodes, 6 pruned nodes, max_depth=5\u001b[0m\n",
      "\u001b[34m[84]#011train-error:0.112267#011validation-error:0.1538\u001b[0m\n",
      "\u001b[34m[19:01:35] src/tree/updater_prune.cc:74: tree pruning end, 1 roots, 12 extra nodes, 2 pruned nodes, max_depth=5\u001b[0m\n",
      "\u001b[34m[85]#011train-error:0.112533#011validation-error:0.1534\u001b[0m\n",
      "\u001b[34m[19:01:36] src/tree/updater_prune.cc:74: tree pruning end, 1 roots, 28 extra nodes, 6 pruned nodes, max_depth=5\u001b[0m\n",
      "\u001b[34m[86]#011train-error:0.111#011validation-error:0.1534\u001b[0m\n",
      "\u001b[34m[19:01:38] src/tree/updater_prune.cc:74: tree pruning end, 1 roots, 22 extra nodes, 6 pruned nodes, max_depth=5\u001b[0m\n",
      "\u001b[34m[87]#011train-error:0.111#011validation-error:0.1542\u001b[0m\n",
      "\u001b[34m[19:01:39] src/tree/updater_prune.cc:74: tree pruning end, 1 roots, 10 extra nodes, 14 pruned nodes, max_depth=5\u001b[0m\n",
      "\u001b[34m[88]#011train-error:0.110733#011validation-error:0.1541\u001b[0m\n",
      "\u001b[34m[19:01:40] src/tree/updater_prune.cc:74: tree pruning end, 1 roots, 30 extra nodes, 10 pruned nodes, max_depth=5\u001b[0m\n",
      "\u001b[34m[89]#011train-error:0.1102#011validation-error:0.152\u001b[0m\n",
      "\u001b[34m[19:01:41] src/tree/updater_prune.cc:74: tree pruning end, 1 roots, 22 extra nodes, 14 pruned nodes, max_depth=5\u001b[0m\n",
      "\u001b[34m[90]#011train-error:0.109#011validation-error:0.151\u001b[0m\n",
      "\u001b[34m[19:01:43] src/tree/updater_prune.cc:74: tree pruning end, 1 roots, 34 extra nodes, 12 pruned nodes, max_depth=5\u001b[0m\n",
      "\u001b[34m[91]#011train-error:0.1082#011validation-error:0.1516\u001b[0m\n",
      "\u001b[34m[19:01:44] src/tree/updater_prune.cc:74: tree pruning end, 1 roots, 26 extra nodes, 10 pruned nodes, max_depth=5\u001b[0m\n",
      "\u001b[34m[92]#011train-error:0.1066#011validation-error:0.1512\u001b[0m\n",
      "\u001b[34m[19:01:45] src/tree/updater_prune.cc:74: tree pruning end, 1 roots, 10 extra nodes, 0 pruned nodes, max_depth=5\u001b[0m\n",
      "\u001b[34m[93]#011train-error:0.1072#011validation-error:0.1511\u001b[0m\n",
      "\u001b[34m[19:01:47] src/tree/updater_prune.cc:74: tree pruning end, 1 roots, 20 extra nodes, 10 pruned nodes, max_depth=5\u001b[0m\n",
      "\u001b[34m[94]#011train-error:0.106467#011validation-error:0.1505\u001b[0m\n",
      "\u001b[34m[19:01:48] src/tree/updater_prune.cc:74: tree pruning end, 1 roots, 14 extra nodes, 8 pruned nodes, max_depth=5\u001b[0m\n",
      "\u001b[34m[95]#011train-error:0.106267#011validation-error:0.1498\u001b[0m\n",
      "\u001b[34m[19:01:49] src/tree/updater_prune.cc:74: tree pruning end, 1 roots, 12 extra nodes, 6 pruned nodes, max_depth=5\u001b[0m\n",
      "\u001b[34m[96]#011train-error:0.1054#011validation-error:0.1504\u001b[0m\n",
      "\u001b[34m[19:01:50] src/tree/updater_prune.cc:74: tree pruning end, 1 roots, 18 extra nodes, 10 pruned nodes, max_depth=5\u001b[0m\n",
      "\u001b[34m[97]#011train-error:0.105267#011validation-error:0.1496\u001b[0m\n",
      "\u001b[34m[19:01:52] src/tree/updater_prune.cc:74: tree pruning end, 1 roots, 16 extra nodes, 10 pruned nodes, max_depth=5\u001b[0m\n",
      "\u001b[34m[98]#011train-error:0.104933#011validation-error:0.1486\u001b[0m\n",
      "\u001b[34m[19:01:53] src/tree/updater_prune.cc:74: tree pruning end, 1 roots, 14 extra nodes, 6 pruned nodes, max_depth=5\u001b[0m\n",
      "\u001b[34m[99]#011train-error:0.104467#011validation-error:0.1501\u001b[0m\n",
      "\u001b[34m[19:01:54] src/tree/updater_prune.cc:74: tree pruning end, 1 roots, 10 extra nodes, 10 pruned nodes, max_depth=5\u001b[0m\n",
      "\u001b[34m[100]#011train-error:0.103533#011validation-error:0.1496\u001b[0m\n",
      "\u001b[34m[19:01:56] src/tree/updater_prune.cc:74: tree pruning end, 1 roots, 16 extra nodes, 8 pruned nodes, max_depth=5\u001b[0m\n",
      "\u001b[34m[101]#011train-error:0.1042#011validation-error:0.1505\u001b[0m\n",
      "\u001b[34m[19:01:57] src/tree/updater_prune.cc:74: tree pruning end, 1 roots, 20 extra nodes, 14 pruned nodes, max_depth=5\u001b[0m\n",
      "\u001b[34m[102]#011train-error:0.1034#011validation-error:0.1502\u001b[0m\n",
      "\u001b[34m[19:01:58] src/tree/updater_prune.cc:74: tree pruning end, 1 roots, 22 extra nodes, 0 pruned nodes, max_depth=5\u001b[0m\n",
      "\u001b[34m[103]#011train-error:0.102133#011validation-error:0.1498\u001b[0m\n",
      "\u001b[34m[19:01:59] src/tree/updater_prune.cc:74: tree pruning end, 1 roots, 30 extra nodes, 10 pruned nodes, max_depth=5\u001b[0m\n",
      "\u001b[34m[104]#011train-error:0.101#011validation-error:0.1497\u001b[0m\n",
      "\u001b[34m[19:02:01] src/tree/updater_prune.cc:74: tree pruning end, 1 roots, 12 extra nodes, 0 pruned nodes, max_depth=5\u001b[0m\n",
      "\u001b[34m[105]#011train-error:0.1008#011validation-error:0.1497\u001b[0m\n",
      "\u001b[34m[19:02:02] src/tree/updater_prune.cc:74: tree pruning end, 1 roots, 14 extra nodes, 6 pruned nodes, max_depth=5\u001b[0m\n",
      "\u001b[34m[106]#011train-error:0.100933#011validation-error:0.1497\u001b[0m\n",
      "\u001b[34m[19:02:04] src/tree/updater_prune.cc:74: tree pruning end, 1 roots, 20 extra nodes, 6 pruned nodes, max_depth=5\u001b[0m\n",
      "\u001b[34m[107]#011train-error:0.1#011validation-error:0.1494\u001b[0m\n",
      "\u001b[34m[19:02:05] src/tree/updater_prune.cc:74: tree pruning end, 1 roots, 24 extra nodes, 6 pruned nodes, max_depth=5\u001b[0m\n",
      "\u001b[34m[108]#011train-error:0.0998#011validation-error:0.1483\u001b[0m\n",
      "\u001b[34m[19:02:07] src/tree/updater_prune.cc:74: tree pruning end, 1 roots, 14 extra nodes, 2 pruned nodes, max_depth=5\u001b[0m\n",
      "\u001b[34m[109]#011train-error:0.0996#011validation-error:0.1476\u001b[0m\n",
      "\u001b[34m[19:02:08] src/tree/updater_prune.cc:74: tree pruning end, 1 roots, 20 extra nodes, 16 pruned nodes, max_depth=5\u001b[0m\n",
      "\u001b[34m[110]#011train-error:0.099333#011validation-error:0.1483\u001b[0m\n",
      "\u001b[34m[19:02:09] src/tree/updater_prune.cc:74: tree pruning end, 1 roots, 10 extra nodes, 6 pruned nodes, max_depth=5\u001b[0m\n",
      "\u001b[34m[111]#011train-error:0.098667#011validation-error:0.1481\u001b[0m\n",
      "\u001b[34m[19:02:10] src/tree/updater_prune.cc:74: tree pruning end, 1 roots, 16 extra nodes, 6 pruned nodes, max_depth=5\u001b[0m\n",
      "\u001b[34m[112]#011train-error:0.097867#011validation-error:0.1477\u001b[0m\n",
      "\u001b[34m[19:02:12] src/tree/updater_prune.cc:74: tree pruning end, 1 roots, 30 extra nodes, 14 pruned nodes, max_depth=5\u001b[0m\n",
      "\u001b[34m[113]#011train-error:0.097733#011validation-error:0.1478\u001b[0m\n",
      "\u001b[34m[19:02:13] src/tree/updater_prune.cc:74: tree pruning end, 1 roots, 14 extra nodes, 6 pruned nodes, max_depth=5\u001b[0m\n",
      "\u001b[34m[114]#011train-error:0.0974#011validation-error:0.1469\u001b[0m\n",
      "\u001b[34m[19:02:14] src/tree/updater_prune.cc:74: tree pruning end, 1 roots, 16 extra nodes, 10 pruned nodes, max_depth=5\u001b[0m\n",
      "\u001b[34m[115]#011train-error:0.097733#011validation-error:0.1471\u001b[0m\n",
      "\u001b[34m[19:02:16] src/tree/updater_prune.cc:74: tree pruning end, 1 roots, 12 extra nodes, 2 pruned nodes, max_depth=5\u001b[0m\n",
      "\u001b[34m[116]#011train-error:0.097667#011validation-error:0.1464\u001b[0m\n",
      "\u001b[34m[19:02:17] src/tree/updater_prune.cc:74: tree pruning end, 1 roots, 20 extra nodes, 4 pruned nodes, max_depth=5\u001b[0m\n",
      "\u001b[34m[117]#011train-error:0.097467#011validation-error:0.1468\u001b[0m\n",
      "\u001b[34m[19:02:18] src/tree/updater_prune.cc:74: tree pruning end, 1 roots, 12 extra nodes, 14 pruned nodes, max_depth=5\u001b[0m\n",
      "\u001b[34m[118]#011train-error:0.096667#011validation-error:0.1458\u001b[0m\n",
      "\u001b[34m[19:02:19] src/tree/updater_prune.cc:74: tree pruning end, 1 roots, 24 extra nodes, 4 pruned nodes, max_depth=5\u001b[0m\n",
      "\u001b[34m[119]#011train-error:0.095667#011validation-error:0.1465\u001b[0m\n",
      "\u001b[34m[19:02:21] src/tree/updater_prune.cc:74: tree pruning end, 1 roots, 22 extra nodes, 14 pruned nodes, max_depth=5\u001b[0m\n",
      "\u001b[34m[120]#011train-error:0.0952#011validation-error:0.1457\u001b[0m\n",
      "\u001b[34m[19:02:22] src/tree/updater_prune.cc:74: tree pruning end, 1 roots, 26 extra nodes, 6 pruned nodes, max_depth=5\u001b[0m\n",
      "\u001b[34m[121]#011train-error:0.095267#011validation-error:0.1468\u001b[0m\n",
      "\u001b[34m[19:02:23] src/tree/updater_prune.cc:74: tree pruning end, 1 roots, 20 extra nodes, 8 pruned nodes, max_depth=5\u001b[0m\n",
      "\u001b[34m[122]#011train-error:0.094867#011validation-error:0.1469\u001b[0m\n",
      "\u001b[34m[19:02:25] src/tree/updater_prune.cc:74: tree pruning end, 1 roots, 26 extra nodes, 10 pruned nodes, max_depth=5\u001b[0m\n",
      "\u001b[34m[123]#011train-error:0.094267#011validation-error:0.1471\u001b[0m\n",
      "\u001b[34m[19:02:26] src/tree/updater_prune.cc:74: tree pruning end, 1 roots, 36 extra nodes, 6 pruned nodes, max_depth=5\u001b[0m\n",
      "\u001b[34m[124]#011train-error:0.092733#011validation-error:0.1459\u001b[0m\n",
      "\u001b[34m[19:02:27] src/tree/updater_prune.cc:74: tree pruning end, 1 roots, 12 extra nodes, 8 pruned nodes, max_depth=5\u001b[0m\n",
      "\u001b[34m[125]#011train-error:0.092533#011validation-error:0.1457\u001b[0m\n",
      "\u001b[34m[19:02:28] src/tree/updater_prune.cc:74: tree pruning end, 1 roots, 14 extra nodes, 8 pruned nodes, max_depth=5\u001b[0m\n",
      "\u001b[34m[126]#011train-error:0.092533#011validation-error:0.145\u001b[0m\n",
      "\u001b[34m[19:02:30] src/tree/updater_prune.cc:74: tree pruning end, 1 roots, 16 extra nodes, 10 pruned nodes, max_depth=5\u001b[0m\n",
      "\u001b[34m[127]#011train-error:0.0924#011validation-error:0.1445\u001b[0m\n",
      "\u001b[34m[19:02:31] src/tree/updater_prune.cc:74: tree pruning end, 1 roots, 30 extra nodes, 8 pruned nodes, max_depth=5\u001b[0m\n",
      "\u001b[34m[128]#011train-error:0.091#011validation-error:0.1451\u001b[0m\n",
      "\u001b[34m[19:02:32] src/tree/updater_prune.cc:74: tree pruning end, 1 roots, 12 extra nodes, 2 pruned nodes, max_depth=5\u001b[0m\n",
      "\u001b[34m[129]#011train-error:0.0908#011validation-error:0.1446\u001b[0m\n",
      "\u001b[34m[19:02:34] src/tree/updater_prune.cc:74: tree pruning end, 1 roots, 20 extra nodes, 4 pruned nodes, max_depth=5\u001b[0m\n",
      "\u001b[34m[130]#011train-error:0.0896#011validation-error:0.1445\u001b[0m\n",
      "\u001b[34m[19:02:35] src/tree/updater_prune.cc:74: tree pruning end, 1 roots, 12 extra nodes, 10 pruned nodes, max_depth=5\u001b[0m\n",
      "\u001b[34m[131]#011train-error:0.089133#011validation-error:0.1443\u001b[0m\n",
      "\u001b[34m[19:02:36] src/tree/updater_prune.cc:74: tree pruning end, 1 roots, 20 extra nodes, 14 pruned nodes, max_depth=5\u001b[0m\n",
      "\u001b[34m[132]#011train-error:0.089067#011validation-error:0.1436\u001b[0m\n",
      "\u001b[34m[19:02:38] src/tree/updater_prune.cc:74: tree pruning end, 1 roots, 18 extra nodes, 6 pruned nodes, max_depth=5\u001b[0m\n",
      "\u001b[34m[133]#011train-error:0.088867#011validation-error:0.143\u001b[0m\n",
      "\u001b[34m[19:02:39] src/tree/updater_prune.cc:74: tree pruning end, 1 roots, 10 extra nodes, 8 pruned nodes, max_depth=5\u001b[0m\n",
      "\u001b[34m[134]#011train-error:0.0884#011validation-error:0.1428\u001b[0m\n",
      "\u001b[34m[19:02:40] src/tree/updater_prune.cc:74: tree pruning end, 1 roots, 18 extra nodes, 8 pruned nodes, max_depth=5\u001b[0m\n",
      "\u001b[34m[135]#011train-error:0.088067#011validation-error:0.1424\u001b[0m\n",
      "\u001b[34m[19:02:41] src/tree/updater_prune.cc:74: tree pruning end, 1 roots, 14 extra nodes, 16 pruned nodes, max_depth=5\u001b[0m\n",
      "\u001b[34m[136]#011train-error:0.0876#011validation-error:0.1428\u001b[0m\n",
      "\u001b[34m[19:02:43] src/tree/updater_prune.cc:74: tree pruning end, 1 roots, 22 extra nodes, 6 pruned nodes, max_depth=5\u001b[0m\n",
      "\u001b[34m[137]#011train-error:0.0872#011validation-error:0.1426\u001b[0m\n",
      "\u001b[34m[19:02:44] src/tree/updater_prune.cc:74: tree pruning end, 1 roots, 14 extra nodes, 8 pruned nodes, max_depth=5\u001b[0m\n",
      "\u001b[34m[138]#011train-error:0.0868#011validation-error:0.1423\u001b[0m\n",
      "\u001b[34m[19:02:45] src/tree/updater_prune.cc:74: tree pruning end, 1 roots, 16 extra nodes, 14 pruned nodes, max_depth=5\u001b[0m\n",
      "\u001b[34m[139]#011train-error:0.0862#011validation-error:0.1424\u001b[0m\n",
      "\u001b[34m[19:02:47] src/tree/updater_prune.cc:74: tree pruning end, 1 roots, 24 extra nodes, 10 pruned nodes, max_depth=5\u001b[0m\n",
      "\u001b[34m[140]#011train-error:0.085333#011validation-error:0.1418\u001b[0m\n",
      "\u001b[34m[19:02:48] src/tree/updater_prune.cc:74: tree pruning end, 1 roots, 14 extra nodes, 8 pruned nodes, max_depth=5\u001b[0m\n",
      "\u001b[34m[141]#011train-error:0.085467#011validation-error:0.1416\u001b[0m\n",
      "\u001b[34m[19:02:49] src/tree/updater_prune.cc:74: tree pruning end, 1 roots, 10 extra nodes, 14 pruned nodes, max_depth=5\u001b[0m\n",
      "\u001b[34m[142]#011train-error:0.0856#011validation-error:0.1416\u001b[0m\n",
      "\u001b[34m[19:02:50] src/tree/updater_prune.cc:74: tree pruning end, 1 roots, 12 extra nodes, 4 pruned nodes, max_depth=5\u001b[0m\n",
      "\u001b[34m[143]#011train-error:0.085667#011validation-error:0.1414\u001b[0m\n",
      "\u001b[34m[19:02:52] src/tree/updater_prune.cc:74: tree pruning end, 1 roots, 12 extra nodes, 4 pruned nodes, max_depth=5\u001b[0m\n",
      "\u001b[34m[144]#011train-error:0.085067#011validation-error:0.1416\u001b[0m\n",
      "\u001b[34m[19:02:53] src/tree/updater_prune.cc:74: tree pruning end, 1 roots, 22 extra nodes, 10 pruned nodes, max_depth=5\u001b[0m\n",
      "\u001b[34m[145]#011train-error:0.084267#011validation-error:0.1414\u001b[0m\n",
      "\u001b[34m[19:02:54] src/tree/updater_prune.cc:74: tree pruning end, 1 roots, 12 extra nodes, 6 pruned nodes, max_depth=5\u001b[0m\n",
      "\u001b[34m[146]#011train-error:0.084867#011validation-error:0.1415\u001b[0m\n",
      "\u001b[34m[19:02:56] src/tree/updater_prune.cc:74: tree pruning end, 1 roots, 12 extra nodes, 4 pruned nodes, max_depth=5\u001b[0m\n",
      "\u001b[34m[147]#011train-error:0.084733#011validation-error:0.141\u001b[0m\n",
      "\u001b[34m[19:02:57] src/tree/updater_prune.cc:74: tree pruning end, 1 roots, 12 extra nodes, 6 pruned nodes, max_depth=5\u001b[0m\n",
      "\u001b[34m[148]#011train-error:0.084267#011validation-error:0.1403\u001b[0m\n",
      "\u001b[34m[19:02:58] src/tree/updater_prune.cc:74: tree pruning end, 1 roots, 20 extra nodes, 6 pruned nodes, max_depth=5\u001b[0m\n",
      "\u001b[34m[149]#011train-error:0.084133#011validation-error:0.1408\u001b[0m\n",
      "\u001b[34m[19:02:59] src/tree/updater_prune.cc:74: tree pruning end, 1 roots, 14 extra nodes, 6 pruned nodes, max_depth=5\u001b[0m\n",
      "\u001b[34m[150]#011train-error:0.083933#011validation-error:0.1407\u001b[0m\n",
      "\u001b[34m[19:03:01] src/tree/updater_prune.cc:74: tree pruning end, 1 roots, 18 extra nodes, 8 pruned nodes, max_depth=5\u001b[0m\n",
      "\u001b[34m[151]#011train-error:0.083333#011validation-error:0.1402\u001b[0m\n",
      "\u001b[34m[19:03:02] src/tree/updater_prune.cc:74: tree pruning end, 1 roots, 20 extra nodes, 10 pruned nodes, max_depth=5\u001b[0m\n",
      "\u001b[34m[152]#011train-error:0.083133#011validation-error:0.1414\u001b[0m\n",
      "\u001b[34m[19:03:04] src/tree/updater_prune.cc:74: tree pruning end, 1 roots, 10 extra nodes, 10 pruned nodes, max_depth=5\u001b[0m\n",
      "\u001b[34m[153]#011train-error:0.083#011validation-error:0.1415\u001b[0m\n",
      "\u001b[34m[19:03:05] src/tree/updater_prune.cc:74: tree pruning end, 1 roots, 20 extra nodes, 6 pruned nodes, max_depth=5\u001b[0m\n",
      "\u001b[34m[154]#011train-error:0.082133#011validation-error:0.141\u001b[0m\n",
      "\u001b[34m[19:03:07] src/tree/updater_prune.cc:74: tree pruning end, 1 roots, 12 extra nodes, 2 pruned nodes, max_depth=5\u001b[0m\n",
      "\u001b[34m[155]#011train-error:0.081667#011validation-error:0.1407\u001b[0m\n",
      "\u001b[34m[19:03:08] src/tree/updater_prune.cc:74: tree pruning end, 1 roots, 10 extra nodes, 12 pruned nodes, max_depth=5\u001b[0m\n",
      "\u001b[34m[156]#011train-error:0.081733#011validation-error:0.1406\u001b[0m\n",
      "\u001b[34m[19:03:09] src/tree/updater_prune.cc:74: tree pruning end, 1 roots, 10 extra nodes, 4 pruned nodes, max_depth=5\u001b[0m\n",
      "\u001b[34m[157]#011train-error:0.0814#011validation-error:0.1398\u001b[0m\n",
      "\u001b[34m[19:03:11] src/tree/updater_prune.cc:74: tree pruning end, 1 roots, 10 extra nodes, 8 pruned nodes, max_depth=5\u001b[0m\n",
      "\u001b[34m[158]#011train-error:0.081133#011validation-error:0.1397\u001b[0m\n",
      "\u001b[34m[19:03:12] src/tree/updater_prune.cc:74: tree pruning end, 1 roots, 10 extra nodes, 6 pruned nodes, max_depth=5\u001b[0m\n",
      "\u001b[34m[159]#011train-error:0.081#011validation-error:0.14\u001b[0m\n",
      "\u001b[34m[19:03:13] src/tree/updater_prune.cc:74: tree pruning end, 1 roots, 18 extra nodes, 14 pruned nodes, max_depth=5\u001b[0m\n",
      "\u001b[34m[160]#011train-error:0.080667#011validation-error:0.1391\u001b[0m\n",
      "\u001b[34m[19:03:15] src/tree/updater_prune.cc:74: tree pruning end, 1 roots, 18 extra nodes, 16 pruned nodes, max_depth=5\u001b[0m\n",
      "\u001b[34m[161]#011train-error:0.080867#011validation-error:0.1397\u001b[0m\n",
      "\u001b[34m[19:03:16] src/tree/updater_prune.cc:74: tree pruning end, 1 roots, 18 extra nodes, 6 pruned nodes, max_depth=5\u001b[0m\n",
      "\u001b[34m[162]#011train-error:0.080667#011validation-error:0.1392\u001b[0m\n",
      "\u001b[34m[19:03:17] src/tree/updater_prune.cc:74: tree pruning end, 1 roots, 16 extra nodes, 6 pruned nodes, max_depth=5\u001b[0m\n",
      "\u001b[34m[163]#011train-error:0.0804#011validation-error:0.1395\u001b[0m\n",
      "\u001b[34m[19:03:18] src/tree/updater_prune.cc:74: tree pruning end, 1 roots, 12 extra nodes, 8 pruned nodes, max_depth=5\u001b[0m\n",
      "\u001b[34m[164]#011train-error:0.0804#011validation-error:0.1393\u001b[0m\n",
      "\u001b[34m[19:03:20] src/tree/updater_prune.cc:74: tree pruning end, 1 roots, 22 extra nodes, 12 pruned nodes, max_depth=5\u001b[0m\n",
      "\u001b[34m[165]#011train-error:0.079333#011validation-error:0.1392\u001b[0m\n",
      "\u001b[34m[19:03:21] src/tree/updater_prune.cc:74: tree pruning end, 1 roots, 12 extra nodes, 12 pruned nodes, max_depth=5\u001b[0m\n",
      "\u001b[34m[166]#011train-error:0.0796#011validation-error:0.1393\u001b[0m\n",
      "\u001b[34m[19:03:22] src/tree/updater_prune.cc:74: tree pruning end, 1 roots, 24 extra nodes, 6 pruned nodes, max_depth=5\u001b[0m\n",
      "\u001b[34m[167]#011train-error:0.079467#011validation-error:0.1382\u001b[0m\n",
      "\u001b[34m[19:03:23] src/tree/updater_prune.cc:74: tree pruning end, 1 roots, 12 extra nodes, 4 pruned nodes, max_depth=5\u001b[0m\n",
      "\u001b[34m[168]#011train-error:0.0784#011validation-error:0.1383\u001b[0m\n",
      "\u001b[34m[19:03:25] src/tree/updater_prune.cc:74: tree pruning end, 1 roots, 12 extra nodes, 4 pruned nodes, max_depth=5\u001b[0m\n",
      "\u001b[34m[169]#011train-error:0.078267#011validation-error:0.1386\u001b[0m\n",
      "\u001b[34m[19:03:26] src/tree/updater_prune.cc:74: tree pruning end, 1 roots, 20 extra nodes, 6 pruned nodes, max_depth=5\u001b[0m\n",
      "\u001b[34m[170]#011train-error:0.077533#011validation-error:0.1385\u001b[0m\n",
      "\u001b[34m[19:03:27] src/tree/updater_prune.cc:74: tree pruning end, 1 roots, 10 extra nodes, 6 pruned nodes, max_depth=5\u001b[0m\n",
      "\u001b[34m[171]#011train-error:0.077733#011validation-error:0.1385\u001b[0m\n",
      "\u001b[34m[19:03:29] src/tree/updater_prune.cc:74: tree pruning end, 1 roots, 14 extra nodes, 4 pruned nodes, max_depth=5\u001b[0m\n",
      "\u001b[34m[172]#011train-error:0.077333#011validation-error:0.1386\u001b[0m\n",
      "\u001b[34m[19:03:30] src/tree/updater_prune.cc:74: tree pruning end, 1 roots, 14 extra nodes, 4 pruned nodes, max_depth=5\u001b[0m\n",
      "\u001b[34m[173]#011train-error:0.077467#011validation-error:0.1383\u001b[0m\n",
      "\u001b[34m[19:03:31] src/tree/updater_prune.cc:74: tree pruning end, 1 roots, 22 extra nodes, 6 pruned nodes, max_depth=5\u001b[0m\n",
      "\u001b[34m[174]#011train-error:0.0768#011validation-error:0.1383\u001b[0m\n",
      "\u001b[34m[19:03:33] src/tree/updater_prune.cc:74: tree pruning end, 1 roots, 12 extra nodes, 16 pruned nodes, max_depth=5\u001b[0m\n",
      "\u001b[34m[175]#011train-error:0.077467#011validation-error:0.1383\u001b[0m\n",
      "\u001b[34m[19:03:34] src/tree/updater_prune.cc:74: tree pruning end, 1 roots, 24 extra nodes, 6 pruned nodes, max_depth=5\u001b[0m\n",
      "\u001b[34m[176]#011train-error:0.0778#011validation-error:0.1368\u001b[0m\n",
      "\u001b[34m[19:03:35] src/tree/updater_prune.cc:74: tree pruning end, 1 roots, 28 extra nodes, 8 pruned nodes, max_depth=5\u001b[0m\n",
      "\u001b[34m[177]#011train-error:0.077#011validation-error:0.1374\u001b[0m\n",
      "\u001b[34m[19:03:36] src/tree/updater_prune.cc:74: tree pruning end, 1 roots, 18 extra nodes, 2 pruned nodes, max_depth=5\u001b[0m\n",
      "\u001b[34m[178]#011train-error:0.076533#011validation-error:0.137\u001b[0m\n",
      "\u001b[34m[19:03:38] src/tree/updater_prune.cc:74: tree pruning end, 1 roots, 18 extra nodes, 10 pruned nodes, max_depth=5\u001b[0m\n",
      "\u001b[34m[179]#011train-error:0.0764#011validation-error:0.1367\u001b[0m\n",
      "\u001b[34m[19:03:39] src/tree/updater_prune.cc:74: tree pruning end, 1 roots, 20 extra nodes, 12 pruned nodes, max_depth=5\u001b[0m\n",
      "\u001b[34m[180]#011train-error:0.076267#011validation-error:0.1361\u001b[0m\n",
      "\u001b[34m[19:03:40] src/tree/updater_prune.cc:74: tree pruning end, 1 roots, 10 extra nodes, 8 pruned nodes, max_depth=5\u001b[0m\n",
      "\u001b[34m[181]#011train-error:0.0756#011validation-error:0.1359\u001b[0m\n",
      "\u001b[34m[19:03:41] src/tree/updater_prune.cc:74: tree pruning end, 1 roots, 16 extra nodes, 8 pruned nodes, max_depth=5\u001b[0m\n",
      "\u001b[34m[182]#011train-error:0.075533#011validation-error:0.1355\u001b[0m\n",
      "\u001b[34m[19:03:43] src/tree/updater_prune.cc:74: tree pruning end, 1 roots, 12 extra nodes, 2 pruned nodes, max_depth=5\u001b[0m\n",
      "\u001b[34m[183]#011train-error:0.0752#011validation-error:0.1358\u001b[0m\n",
      "\u001b[34m[19:03:44] src/tree/updater_prune.cc:74: tree pruning end, 1 roots, 12 extra nodes, 4 pruned nodes, max_depth=5\u001b[0m\n",
      "\u001b[34m[184]#011train-error:0.075067#011validation-error:0.1366\u001b[0m\n",
      "\u001b[34m[19:03:45] src/tree/updater_prune.cc:74: tree pruning end, 1 roots, 16 extra nodes, 12 pruned nodes, max_depth=5\u001b[0m\n",
      "\u001b[34m[185]#011train-error:0.075#011validation-error:0.1362\u001b[0m\n",
      "\u001b[34m[19:03:47] src/tree/updater_prune.cc:74: tree pruning end, 1 roots, 10 extra nodes, 2 pruned nodes, max_depth=5\u001b[0m\n",
      "\u001b[34m[186]#011train-error:0.074933#011validation-error:0.1358\u001b[0m\n",
      "\u001b[34m[19:03:48] src/tree/updater_prune.cc:74: tree pruning end, 1 roots, 24 extra nodes, 16 pruned nodes, max_depth=5\u001b[0m\n",
      "\u001b[34m[187]#011train-error:0.074333#011validation-error:0.1361\u001b[0m\n",
      "\u001b[34m[19:03:49] src/tree/updater_prune.cc:74: tree pruning end, 1 roots, 14 extra nodes, 10 pruned nodes, max_depth=5\u001b[0m\n",
      "\u001b[34m[188]#011train-error:0.074467#011validation-error:0.136\u001b[0m\n",
      "\u001b[34m[19:03:50] src/tree/updater_prune.cc:74: tree pruning end, 1 roots, 16 extra nodes, 8 pruned nodes, max_depth=5\u001b[0m\n",
      "\u001b[34m[189]#011train-error:0.0742#011validation-error:0.1352\u001b[0m\n",
      "\u001b[34m[19:03:52] src/tree/updater_prune.cc:74: tree pruning end, 1 roots, 12 extra nodes, 6 pruned nodes, max_depth=5\u001b[0m\n",
      "\u001b[34m[190]#011train-error:0.073267#011validation-error:0.136\u001b[0m\n",
      "\u001b[34m[19:03:53] src/tree/updater_prune.cc:74: tree pruning end, 1 roots, 14 extra nodes, 6 pruned nodes, max_depth=5\u001b[0m\n",
      "\u001b[34m[191]#011train-error:0.073533#011validation-error:0.1362\u001b[0m\n",
      "\u001b[34m[19:03:54] src/tree/updater_prune.cc:74: tree pruning end, 1 roots, 20 extra nodes, 16 pruned nodes, max_depth=5\u001b[0m\n",
      "\u001b[34m[192]#011train-error:0.072333#011validation-error:0.1361\u001b[0m\n",
      "\u001b[34m[19:03:55] src/tree/updater_prune.cc:74: tree pruning end, 1 roots, 16 extra nodes, 16 pruned nodes, max_depth=5\u001b[0m\n",
      "\u001b[34m[193]#011train-error:0.072333#011validation-error:0.1354\u001b[0m\n",
      "\u001b[34m[19:03:57] src/tree/updater_prune.cc:74: tree pruning end, 1 roots, 10 extra nodes, 8 pruned nodes, max_depth=5\u001b[0m\n",
      "\u001b[34m[194]#011train-error:0.072333#011validation-error:0.1356\u001b[0m\n",
      "\u001b[34m[19:03:58] src/tree/updater_prune.cc:74: tree pruning end, 1 roots, 10 extra nodes, 4 pruned nodes, max_depth=5\u001b[0m\n",
      "\u001b[34m[195]#011train-error:0.0722#011validation-error:0.1356\u001b[0m\n",
      "\u001b[34m[19:03:59] src/tree/updater_prune.cc:74: tree pruning end, 1 roots, 16 extra nodes, 14 pruned nodes, max_depth=5\u001b[0m\n",
      "\u001b[34m[196]#011train-error:0.0716#011validation-error:0.1359\u001b[0m\n",
      "\u001b[34m[19:04:01] src/tree/updater_prune.cc:74: tree pruning end, 1 roots, 12 extra nodes, 6 pruned nodes, max_depth=5\u001b[0m\n",
      "\u001b[34m[197]#011train-error:0.071133#011validation-error:0.1348\u001b[0m\n",
      "\u001b[34m[19:04:02] src/tree/updater_prune.cc:74: tree pruning end, 1 roots, 12 extra nodes, 12 pruned nodes, max_depth=5\u001b[0m\n",
      "\u001b[34m[198]#011train-error:0.0708#011validation-error:0.1347\u001b[0m\n",
      "\u001b[34m[19:04:04] src/tree/updater_prune.cc:74: tree pruning end, 1 roots, 16 extra nodes, 4 pruned nodes, max_depth=5\u001b[0m\n",
      "\u001b[34m[199]#011train-error:0.070733#011validation-error:0.1342\u001b[0m\n",
      "\u001b[34m[19:04:05] src/tree/updater_prune.cc:74: tree pruning end, 1 roots, 18 extra nodes, 2 pruned nodes, max_depth=5\u001b[0m\n",
      "\u001b[34m[200]#011train-error:0.069533#011validation-error:0.1343\u001b[0m\n",
      "\u001b[34m[19:04:07] src/tree/updater_prune.cc:74: tree pruning end, 1 roots, 14 extra nodes, 6 pruned nodes, max_depth=5\u001b[0m\n",
      "\u001b[34m[201]#011train-error:0.069067#011validation-error:0.1341\u001b[0m\n",
      "\u001b[34m[19:04:08] src/tree/updater_prune.cc:74: tree pruning end, 1 roots, 14 extra nodes, 8 pruned nodes, max_depth=5\u001b[0m\n",
      "\u001b[34m[202]#011train-error:0.0688#011validation-error:0.1335\u001b[0m\n",
      "\u001b[34m[19:04:09] src/tree/updater_prune.cc:74: tree pruning end, 1 roots, 10 extra nodes, 12 pruned nodes, max_depth=5\u001b[0m\n",
      "\u001b[34m[203]#011train-error:0.0688#011validation-error:0.1332\u001b[0m\n",
      "\u001b[34m[19:04:10] src/tree/updater_prune.cc:74: tree pruning end, 1 roots, 16 extra nodes, 4 pruned nodes, max_depth=5\u001b[0m\n",
      "\u001b[34m[204]#011train-error:0.0686#011validation-error:0.1335\u001b[0m\n",
      "\u001b[34m[19:04:12] src/tree/updater_prune.cc:74: tree pruning end, 1 roots, 12 extra nodes, 6 pruned nodes, max_depth=5\u001b[0m\n",
      "\u001b[34m[205]#011train-error:0.068467#011validation-error:0.1332\u001b[0m\n",
      "\u001b[34m[19:04:13] src/tree/updater_prune.cc:74: tree pruning end, 1 roots, 20 extra nodes, 18 pruned nodes, max_depth=5\u001b[0m\n",
      "\u001b[34m[206]#011train-error:0.069#011validation-error:0.1336\u001b[0m\n",
      "\u001b[34m[19:04:14] src/tree/updater_prune.cc:74: tree pruning end, 1 roots, 16 extra nodes, 2 pruned nodes, max_depth=5\u001b[0m\n",
      "\u001b[34m[207]#011train-error:0.068933#011validation-error:0.1343\u001b[0m\n",
      "\u001b[34m[19:04:15] src/tree/updater_prune.cc:74: tree pruning end, 1 roots, 14 extra nodes, 6 pruned nodes, max_depth=5\u001b[0m\n",
      "\u001b[34m[208]#011train-error:0.068533#011validation-error:0.1336\u001b[0m\n",
      "\u001b[34m[19:04:17] src/tree/updater_prune.cc:74: tree pruning end, 1 roots, 12 extra nodes, 6 pruned nodes, max_depth=5\u001b[0m\n",
      "\u001b[34m[209]#011train-error:0.068333#011validation-error:0.1331\u001b[0m\n",
      "\u001b[34m[19:04:18] src/tree/updater_prune.cc:74: tree pruning end, 1 roots, 12 extra nodes, 0 pruned nodes, max_depth=5\u001b[0m\n",
      "\u001b[34m[210]#011train-error:0.068533#011validation-error:0.133\u001b[0m\n",
      "\u001b[34m[19:04:19] src/tree/updater_prune.cc:74: tree pruning end, 1 roots, 28 extra nodes, 4 pruned nodes, max_depth=5\u001b[0m\n",
      "\u001b[34m[211]#011train-error:0.067867#011validation-error:0.1317\u001b[0m\n",
      "\u001b[34m[19:04:21] src/tree/updater_prune.cc:74: tree pruning end, 1 roots, 10 extra nodes, 2 pruned nodes, max_depth=5\u001b[0m\n",
      "\u001b[34m[212]#011train-error:0.0678#011validation-error:0.1324\u001b[0m\n",
      "\u001b[34m[19:04:22] src/tree/updater_prune.cc:74: tree pruning end, 1 roots, 16 extra nodes, 6 pruned nodes, max_depth=5\u001b[0m\n",
      "\u001b[34m[213]#011train-error:0.068#011validation-error:0.1335\u001b[0m\n",
      "\u001b[34m[19:04:23] src/tree/updater_prune.cc:74: tree pruning end, 1 roots, 16 extra nodes, 10 pruned nodes, max_depth=5\u001b[0m\n",
      "\u001b[34m[214]#011train-error:0.067667#011validation-error:0.1339\u001b[0m\n",
      "\u001b[34m[19:04:24] src/tree/updater_prune.cc:74: tree pruning end, 1 roots, 12 extra nodes, 16 pruned nodes, max_depth=5\u001b[0m\n",
      "\u001b[34m[215]#011train-error:0.067#011validation-error:0.134\u001b[0m\n",
      "\u001b[34m[19:04:26] src/tree/updater_prune.cc:74: tree pruning end, 1 roots, 18 extra nodes, 16 pruned nodes, max_depth=5\u001b[0m\n",
      "\u001b[34m[216]#011train-error:0.066667#011validation-error:0.1341\u001b[0m\n",
      "\n",
      "2021-01-15 19:04:40 Uploading - Uploading generated training model\u001b[34m[19:04:27] src/tree/updater_prune.cc:74: tree pruning end, 1 roots, 20 extra nodes, 18 pruned nodes, max_depth=5\u001b[0m\n",
      "\u001b[34m[217]#011train-error:0.0662#011validation-error:0.1346\u001b[0m\n",
      "\u001b[34m[19:04:28] src/tree/updater_prune.cc:74: tree pruning end, 1 roots, 10 extra nodes, 2 pruned nodes, max_depth=5\u001b[0m\n",
      "\u001b[34m[218]#011train-error:0.0658#011validation-error:0.1345\u001b[0m\n",
      "\u001b[34m[19:04:30] src/tree/updater_prune.cc:74: tree pruning end, 1 roots, 16 extra nodes, 8 pruned nodes, max_depth=5\u001b[0m\n",
      "\u001b[34m[219]#011train-error:0.065333#011validation-error:0.1332\u001b[0m\n",
      "\u001b[34m[19:04:31] src/tree/updater_prune.cc:74: tree pruning end, 1 roots, 12 extra nodes, 4 pruned nodes, max_depth=5\u001b[0m\n",
      "\u001b[34m[220]#011train-error:0.065333#011validation-error:0.1332\u001b[0m\n",
      "\u001b[34m[19:04:32] src/tree/updater_prune.cc:74: tree pruning end, 1 roots, 14 extra nodes, 14 pruned nodes, max_depth=5\u001b[0m\n",
      "\u001b[34m[221]#011train-error:0.065067#011validation-error:0.1335\u001b[0m\n",
      "\u001b[34mStopping. Best iteration:\u001b[0m\n",
      "\u001b[34m[211]#011train-error:0.067867#011validation-error:0.1317\n",
      "\u001b[0m\n",
      "\n",
      "2021-01-15 19:04:47 Completed - Training job completed\n",
      "Training seconds: 347\n",
      "Billable seconds: 347\n"
     ]
    }
   ],
   "source": [
    "xgb.fit({'train': s3_input_train, 'validation': s3_input_validation})"
   ]
  },
  {
   "cell_type": "markdown",
   "metadata": {},
   "source": [
    "## Step 5: Testing the model\n",
    "\n",
    "Now that we've fit our XGBoost model, it's time to see how well it performs. To do this we will use SageMakers Batch Transform functionality. Batch Transform is a convenient way to perform inference on a large dataset in a way that is not realtime. That is, we don't necessarily need to use our model's results immediately and instead we can perform inference on a large number of samples. An example of this in industry might be performing an end of month report. This method of inference can also be useful to us as it means that we can perform inference on our entire test set. \n",
    "\n",
    "To perform a Batch Transformation we need to first create a transformer objects from our trained estimator object."
   ]
  },
  {
   "cell_type": "code",
   "execution_count": 25,
   "metadata": {},
   "outputs": [
    {
     "name": "stderr",
     "output_type": "stream",
     "text": [
      "Parameter image will be renamed to image_uri in SageMaker Python SDK v2.\n"
     ]
    }
   ],
   "source": [
    "xgb_transformer = xgb.transformer(instance_count = 1, instance_type = 'ml.m4.xlarge')"
   ]
  },
  {
   "cell_type": "markdown",
   "metadata": {},
   "source": [
    "Next we actually perform the transform job. When doing so we need to make sure to specify the type of data we are sending so that it is serialized correctly in the background. In our case we are providing our model with csv data so we specify `text/csv`. Also, if the test data that we have provided is too large to process all at once then we need to specify how the data file should be split up. Since each line is a single entry in our data set we tell SageMaker that it can split the input on each line."
   ]
  },
  {
   "cell_type": "code",
   "execution_count": 26,
   "metadata": {},
   "outputs": [],
   "source": [
    "xgb_transformer.transform(test_location, content_type='text/csv', split_type='Line')"
   ]
  },
  {
   "cell_type": "markdown",
   "metadata": {},
   "source": [
    "Currently the transform job is running but it is doing so in the background. Since we wish to wait until the transform job is done and we would like a bit of feedback we can run the `wait()` method."
   ]
  },
  {
   "cell_type": "code",
   "execution_count": 27,
   "metadata": {},
   "outputs": [
    {
     "name": "stdout",
     "output_type": "stream",
     "text": [
      "............................\u001b[32m2021-01-15T19:11:05.262:[sagemaker logs]: MaxConcurrentTransforms=4, MaxPayloadInMB=6, BatchStrategy=MULTI_RECORD\u001b[0m\n",
      "\u001b[34mArguments: serve\u001b[0m\n",
      "\u001b[34m[2021-01-15 19:11:05 +0000] [1] [INFO] Starting gunicorn 19.7.1\u001b[0m\n",
      "\u001b[34m[2021-01-15 19:11:05 +0000] [1] [INFO] Listening at: http://0.0.0.0:8080 (1)\u001b[0m\n",
      "\u001b[35mArguments: serve\u001b[0m\n",
      "\u001b[35m[2021-01-15 19:11:05 +0000] [1] [INFO] Starting gunicorn 19.7.1\u001b[0m\n",
      "\u001b[35m[2021-01-15 19:11:05 +0000] [1] [INFO] Listening at: http://0.0.0.0:8080 (1)\u001b[0m\n",
      "\u001b[34m[2021-01-15 19:11:05 +0000] [1] [INFO] Using worker: gevent\u001b[0m\n",
      "\u001b[34m[2021-01-15 19:11:05 +0000] [37] [INFO] Booting worker with pid: 37\u001b[0m\n",
      "\u001b[34m[2021-01-15 19:11:05 +0000] [38] [INFO] Booting worker with pid: 38\u001b[0m\n",
      "\u001b[34m[2021-01-15 19:11:05 +0000] [39] [INFO] Booting worker with pid: 39\u001b[0m\n",
      "\u001b[34m[2021-01-15:19:11:05:INFO] Model loaded successfully for worker : 37\u001b[0m\n",
      "\u001b[34m[2021-01-15:19:11:05:INFO] Model loaded successfully for worker : 38\u001b[0m\n",
      "\u001b[34m[2021-01-15:19:11:05:INFO] Model loaded successfully for worker : 39\u001b[0m\n",
      "\u001b[34m[2021-01-15 19:11:05 +0000] [40] [INFO] Booting worker with pid: 40\u001b[0m\n",
      "\u001b[34m[2021-01-15:19:11:05:INFO] Model loaded successfully for worker : 40\u001b[0m\n",
      "\u001b[34m[2021-01-15:19:11:05:INFO] Sniff delimiter as ','\u001b[0m\n",
      "\u001b[34m[2021-01-15:19:11:05:INFO] Determined delimiter of CSV input is ','\u001b[0m\n",
      "\u001b[34m[2021-01-15:19:11:05:INFO] Sniff delimiter as ','\u001b[0m\n",
      "\u001b[34m[2021-01-15:19:11:05:INFO] Determined delimiter of CSV input is ','\u001b[0m\n",
      "\u001b[34m[2021-01-15:19:11:05:INFO] Sniff delimiter as ','\u001b[0m\n",
      "\u001b[34m[2021-01-15:19:11:05:INFO] Determined delimiter of CSV input is ','\u001b[0m\n",
      "\u001b[34m[2021-01-15:19:11:05:INFO] Sniff delimiter as ','\u001b[0m\n",
      "\u001b[34m[2021-01-15:19:11:05:INFO] Determined delimiter of CSV input is ','\u001b[0m\n",
      "\u001b[35m[2021-01-15 19:11:05 +0000] [1] [INFO] Using worker: gevent\u001b[0m\n",
      "\u001b[35m[2021-01-15 19:11:05 +0000] [37] [INFO] Booting worker with pid: 37\u001b[0m\n",
      "\u001b[35m[2021-01-15 19:11:05 +0000] [38] [INFO] Booting worker with pid: 38\u001b[0m\n",
      "\u001b[35m[2021-01-15 19:11:05 +0000] [39] [INFO] Booting worker with pid: 39\u001b[0m\n",
      "\u001b[35m[2021-01-15:19:11:05:INFO] Model loaded successfully for worker : 37\u001b[0m\n",
      "\u001b[35m[2021-01-15:19:11:05:INFO] Model loaded successfully for worker : 38\u001b[0m\n",
      "\u001b[35m[2021-01-15:19:11:05:INFO] Model loaded successfully for worker : 39\u001b[0m\n",
      "\u001b[35m[2021-01-15 19:11:05 +0000] [40] [INFO] Booting worker with pid: 40\u001b[0m\n",
      "\u001b[35m[2021-01-15:19:11:05:INFO] Model loaded successfully for worker : 40\u001b[0m\n",
      "\u001b[35m[2021-01-15:19:11:05:INFO] Sniff delimiter as ','\u001b[0m\n",
      "\u001b[35m[2021-01-15:19:11:05:INFO] Determined delimiter of CSV input is ','\u001b[0m\n",
      "\u001b[35m[2021-01-15:19:11:05:INFO] Sniff delimiter as ','\u001b[0m\n",
      "\u001b[35m[2021-01-15:19:11:05:INFO] Determined delimiter of CSV input is ','\u001b[0m\n",
      "\u001b[35m[2021-01-15:19:11:05:INFO] Sniff delimiter as ','\u001b[0m\n",
      "\u001b[35m[2021-01-15:19:11:05:INFO] Determined delimiter of CSV input is ','\u001b[0m\n",
      "\u001b[35m[2021-01-15:19:11:05:INFO] Sniff delimiter as ','\u001b[0m\n",
      "\u001b[35m[2021-01-15:19:11:05:INFO] Determined delimiter of CSV input is ','\u001b[0m\n",
      "\u001b[34m[2021-01-15:19:11:08:INFO] Sniff delimiter as ','\u001b[0m\n",
      "\u001b[34m[2021-01-15:19:11:08:INFO] Determined delimiter of CSV input is ','\u001b[0m\n",
      "\u001b[34m[2021-01-15:19:11:08:INFO] Sniff delimiter as ','\u001b[0m\n",
      "\u001b[34m[2021-01-15:19:11:08:INFO] Determined delimiter of CSV input is ','\u001b[0m\n",
      "\u001b[35m[2021-01-15:19:11:08:INFO] Sniff delimiter as ','\u001b[0m\n",
      "\u001b[35m[2021-01-15:19:11:08:INFO] Determined delimiter of CSV input is ','\u001b[0m\n",
      "\u001b[35m[2021-01-15:19:11:08:INFO] Sniff delimiter as ','\u001b[0m\n",
      "\u001b[35m[2021-01-15:19:11:08:INFO] Determined delimiter of CSV input is ','\u001b[0m\n",
      "\u001b[34m[2021-01-15:19:11:08:INFO] Sniff delimiter as ','\u001b[0m\n",
      "\u001b[35m[2021-01-15:19:11:08:INFO] Sniff delimiter as ','\u001b[0m\n",
      "\u001b[34m[2021-01-15:19:11:08:INFO] Determined delimiter of CSV input is ','\u001b[0m\n",
      "\u001b[34m[2021-01-15:19:11:08:INFO] Sniff delimiter as ','\u001b[0m\n",
      "\u001b[34m[2021-01-15:19:11:08:INFO] Determined delimiter of CSV input is ','\u001b[0m\n",
      "\u001b[35m[2021-01-15:19:11:08:INFO] Determined delimiter of CSV input is ','\u001b[0m\n",
      "\u001b[35m[2021-01-15:19:11:08:INFO] Sniff delimiter as ','\u001b[0m\n",
      "\u001b[35m[2021-01-15:19:11:08:INFO] Determined delimiter of CSV input is ','\u001b[0m\n",
      "\u001b[34m[2021-01-15:19:11:10:INFO] Determined delimiter of CSV input is ','\u001b[0m\n",
      "\u001b[34m[2021-01-15:19:11:11:INFO] Sniff delimiter as ','\u001b[0m\n",
      "\u001b[34m[2021-01-15:19:11:11:INFO] Determined delimiter of CSV input is ','\u001b[0m\n",
      "\u001b[34m[2021-01-15:19:11:11:INFO] Sniff delimiter as ','\u001b[0m\n",
      "\u001b[34m[2021-01-15:19:11:11:INFO] Determined delimiter of CSV input is ','\u001b[0m\n",
      "\u001b[35m[2021-01-15:19:11:10:INFO] Determined delimiter of CSV input is ','\u001b[0m\n",
      "\u001b[35m[2021-01-15:19:11:11:INFO] Sniff delimiter as ','\u001b[0m\n",
      "\u001b[35m[2021-01-15:19:11:11:INFO] Determined delimiter of CSV input is ','\u001b[0m\n",
      "\u001b[35m[2021-01-15:19:11:11:INFO] Sniff delimiter as ','\u001b[0m\n",
      "\u001b[35m[2021-01-15:19:11:11:INFO] Determined delimiter of CSV input is ','\u001b[0m\n",
      "\u001b[34m[2021-01-15:19:11:13:INFO] Sniff delimiter as ','\u001b[0m\n",
      "\u001b[35m[2021-01-15:19:11:13:INFO] Sniff delimiter as ','\u001b[0m\n",
      "\u001b[34m[2021-01-15:19:11:13:INFO] Determined delimiter of CSV input is ','\u001b[0m\n",
      "\u001b[34m[2021-01-15:19:11:13:INFO] Sniff delimiter as ','\u001b[0m\n",
      "\u001b[34m[2021-01-15:19:11:13:INFO] Determined delimiter of CSV input is ','\u001b[0m\n",
      "\u001b[35m[2021-01-15:19:11:13:INFO] Determined delimiter of CSV input is ','\u001b[0m\n",
      "\u001b[35m[2021-01-15:19:11:13:INFO] Sniff delimiter as ','\u001b[0m\n",
      "\u001b[35m[2021-01-15:19:11:13:INFO] Determined delimiter of CSV input is ','\u001b[0m\n",
      "\u001b[34m[2021-01-15:19:11:13:INFO] Sniff delimiter as ','\u001b[0m\n",
      "\u001b[34m[2021-01-15:19:11:13:INFO] Determined delimiter of CSV input is ','\u001b[0m\n",
      "\u001b[34m[2021-01-15:19:11:13:INFO] Sniff delimiter as ','\u001b[0m\n",
      "\u001b[34m[2021-01-15:19:11:13:INFO] Determined delimiter of CSV input is ','\u001b[0m\n",
      "\u001b[35m[2021-01-15:19:11:13:INFO] Sniff delimiter as ','\u001b[0m\n",
      "\u001b[35m[2021-01-15:19:11:13:INFO] Determined delimiter of CSV input is ','\u001b[0m\n",
      "\u001b[35m[2021-01-15:19:11:13:INFO] Sniff delimiter as ','\u001b[0m\n",
      "\u001b[35m[2021-01-15:19:11:13:INFO] Determined delimiter of CSV input is ','\u001b[0m\n",
      "\u001b[34m[2021-01-15:19:11:15:INFO] Sniff delimiter as ','\u001b[0m\n",
      "\u001b[34m[2021-01-15:19:11:15:INFO] Determined delimiter of CSV input is ','\u001b[0m\n",
      "\u001b[34m[2021-01-15:19:11:15:INFO] Sniff delimiter as ','\u001b[0m\n",
      "\u001b[34m[2021-01-15:19:11:15:INFO] Determined delimiter of CSV input is ','\u001b[0m\n",
      "\u001b[34m[2021-01-15:19:11:16:INFO] Sniff delimiter as ','\u001b[0m\n",
      "\u001b[35m[2021-01-15:19:11:15:INFO] Sniff delimiter as ','\u001b[0m\n",
      "\u001b[35m[2021-01-15:19:11:15:INFO] Determined delimiter of CSV input is ','\u001b[0m\n",
      "\u001b[35m[2021-01-15:19:11:15:INFO] Sniff delimiter as ','\u001b[0m\n",
      "\u001b[35m[2021-01-15:19:11:15:INFO] Determined delimiter of CSV input is ','\u001b[0m\n",
      "\u001b[35m[2021-01-15:19:11:16:INFO] Sniff delimiter as ','\u001b[0m\n",
      "\u001b[34m[2021-01-15:19:11:16:INFO] Determined delimiter of CSV input is ','\u001b[0m\n",
      "\u001b[34m[2021-01-15:19:11:16:INFO] Sniff delimiter as ','\u001b[0m\n",
      "\u001b[34m[2021-01-15:19:11:16:INFO] Determined delimiter of CSV input is ','\u001b[0m\n",
      "\u001b[35m[2021-01-15:19:11:16:INFO] Determined delimiter of CSV input is ','\u001b[0m\n",
      "\u001b[35m[2021-01-15:19:11:16:INFO] Sniff delimiter as ','\u001b[0m\n",
      "\u001b[35m[2021-01-15:19:11:16:INFO] Determined delimiter of CSV input is ','\u001b[0m\n",
      "\u001b[34m[2021-01-15:19:11:18:INFO] Sniff delimiter as ','\u001b[0m\n",
      "\u001b[35m[2021-01-15:19:11:18:INFO] Sniff delimiter as ','\u001b[0m\n",
      "\u001b[34m[2021-01-15:19:11:18:INFO] Determined delimiter of CSV input is ','\u001b[0m\n",
      "\u001b[34m[2021-01-15:19:11:18:INFO] Sniff delimiter as ','\u001b[0m\n",
      "\u001b[34m[2021-01-15:19:11:18:INFO] Determined delimiter of CSV input is ','\u001b[0m\n",
      "\u001b[35m[2021-01-15:19:11:18:INFO] Determined delimiter of CSV input is ','\u001b[0m\n",
      "\u001b[35m[2021-01-15:19:11:18:INFO] Sniff delimiter as ','\u001b[0m\n",
      "\u001b[35m[2021-01-15:19:11:18:INFO] Determined delimiter of CSV input is ','\u001b[0m\n",
      "\u001b[34m[2021-01-15:19:11:18:INFO] Sniff delimiter as ','\u001b[0m\n",
      "\u001b[34m[2021-01-15:19:11:18:INFO] Determined delimiter of CSV input is ','\u001b[0m\n",
      "\u001b[34m[2021-01-15:19:11:18:INFO] Sniff delimiter as ','\u001b[0m\n",
      "\u001b[34m[2021-01-15:19:11:18:INFO] Determined delimiter of CSV input is ','\u001b[0m\n",
      "\u001b[35m[2021-01-15:19:11:18:INFO] Sniff delimiter as ','\u001b[0m\n",
      "\u001b[35m[2021-01-15:19:11:18:INFO] Determined delimiter of CSV input is ','\u001b[0m\n",
      "\u001b[35m[2021-01-15:19:11:18:INFO] Sniff delimiter as ','\u001b[0m\n",
      "\u001b[35m[2021-01-15:19:11:18:INFO] Determined delimiter of CSV input is ','\u001b[0m\n",
      "\n",
      "\u001b[34m[2021-01-15:19:11:20:INFO] Sniff delimiter as ','\u001b[0m\n",
      "\u001b[34m[2021-01-15:19:11:20:INFO] Determined delimiter of CSV input is ','\u001b[0m\n",
      "\u001b[34m[2021-01-15:19:11:21:INFO] Sniff delimiter as ','\u001b[0m\n",
      "\u001b[34m[2021-01-15:19:11:21:INFO] Determined delimiter of CSV input is ','\u001b[0m\n",
      "\u001b[35m[2021-01-15:19:11:20:INFO] Sniff delimiter as ','\u001b[0m\n",
      "\u001b[35m[2021-01-15:19:11:20:INFO] Determined delimiter of CSV input is ','\u001b[0m\n",
      "\u001b[35m[2021-01-15:19:11:21:INFO] Sniff delimiter as ','\u001b[0m\n",
      "\u001b[35m[2021-01-15:19:11:21:INFO] Determined delimiter of CSV input is ','\u001b[0m\n",
      "\u001b[34m[2021-01-15:19:11:23:INFO] Sniff delimiter as ','\u001b[0m\n",
      "\u001b[34m[2021-01-15:19:11:23:INFO] Determined delimiter of CSV input is ','\u001b[0m\n",
      "\u001b[34m[2021-01-15:19:11:23:INFO] Sniff delimiter as ','\u001b[0m\n",
      "\u001b[34m[2021-01-15:19:11:23:INFO] Determined delimiter of CSV input is ','\u001b[0m\n",
      "\u001b[34m[2021-01-15:19:11:23:INFO] Sniff delimiter as ','\u001b[0m\n",
      "\u001b[34m[2021-01-15:19:11:23:INFO] Determined delimiter of CSV input is ','\u001b[0m\n",
      "\u001b[35m[2021-01-15:19:11:23:INFO] Sniff delimiter as ','\u001b[0m\n",
      "\u001b[35m[2021-01-15:19:11:23:INFO] Determined delimiter of CSV input is ','\u001b[0m\n",
      "\u001b[35m[2021-01-15:19:11:23:INFO] Sniff delimiter as ','\u001b[0m\n",
      "\u001b[35m[2021-01-15:19:11:23:INFO] Determined delimiter of CSV input is ','\u001b[0m\n",
      "\u001b[35m[2021-01-15:19:11:23:INFO] Sniff delimiter as ','\u001b[0m\n",
      "\u001b[35m[2021-01-15:19:11:23:INFO] Determined delimiter of CSV input is ','\u001b[0m\n",
      "\u001b[34m[2021-01-15:19:11:23:INFO] Sniff delimiter as ','\u001b[0m\n",
      "\u001b[34m[2021-01-15:19:11:23:INFO] Determined delimiter of CSV input is ','\u001b[0m\n",
      "\u001b[35m[2021-01-15:19:11:23:INFO] Sniff delimiter as ','\u001b[0m\n",
      "\u001b[35m[2021-01-15:19:11:23:INFO] Determined delimiter of CSV input is ','\u001b[0m\n",
      "\u001b[34m[2021-01-15:19:11:25:INFO] Sniff delimiter as ','\u001b[0m\n",
      "\u001b[34m[2021-01-15:19:11:25:INFO] Determined delimiter of CSV input is ','\u001b[0m\n",
      "\u001b[34m[2021-01-15:19:11:25:INFO] Sniff delimiter as ','\u001b[0m\n",
      "\u001b[34m[2021-01-15:19:11:25:INFO] Determined delimiter of CSV input is ','\u001b[0m\n",
      "\u001b[34m[2021-01-15:19:11:25:INFO] Sniff delimiter as ','\u001b[0m\n",
      "\u001b[34m[2021-01-15:19:11:25:INFO] Determined delimiter of CSV input is ','\u001b[0m\n",
      "\u001b[34m[2021-01-15:19:11:26:INFO] Sniff delimiter as ','\u001b[0m\n",
      "\u001b[34m[2021-01-15:19:11:26:INFO] Determined delimiter of CSV input is ','\u001b[0m\n",
      "\u001b[35m[2021-01-15:19:11:25:INFO] Sniff delimiter as ','\u001b[0m\n",
      "\u001b[35m[2021-01-15:19:11:25:INFO] Determined delimiter of CSV input is ','\u001b[0m\n",
      "\u001b[35m[2021-01-15:19:11:25:INFO] Sniff delimiter as ','\u001b[0m\n",
      "\u001b[35m[2021-01-15:19:11:25:INFO] Determined delimiter of CSV input is ','\u001b[0m\n",
      "\u001b[35m[2021-01-15:19:11:25:INFO] Sniff delimiter as ','\u001b[0m\n",
      "\u001b[35m[2021-01-15:19:11:25:INFO] Determined delimiter of CSV input is ','\u001b[0m\n",
      "\u001b[35m[2021-01-15:19:11:26:INFO] Sniff delimiter as ','\u001b[0m\n",
      "\u001b[35m[2021-01-15:19:11:26:INFO] Determined delimiter of CSV input is ','\u001b[0m\n",
      "\u001b[34m[2021-01-15:19:11:28:INFO] Sniff delimiter as ','\u001b[0m\n",
      "\u001b[34m[2021-01-15:19:11:28:INFO] Determined delimiter of CSV input is ','\u001b[0m\n",
      "\u001b[34m[2021-01-15:19:11:28:INFO] Sniff delimiter as ','\u001b[0m\n",
      "\u001b[34m[2021-01-15:19:11:28:INFO] Determined delimiter of CSV input is ','\u001b[0m\n",
      "\u001b[34m[2021-01-15:19:11:28:INFO] Sniff delimiter as ','\u001b[0m\n",
      "\u001b[34m[2021-01-15:19:11:28:INFO] Determined delimiter of CSV input is ','\u001b[0m\n",
      "\u001b[34m[2021-01-15:19:11:28:INFO] Sniff delimiter as ','\u001b[0m\n",
      "\u001b[34m[2021-01-15:19:11:28:INFO] Determined delimiter of CSV input is ','\u001b[0m\n",
      "\u001b[35m[2021-01-15:19:11:28:INFO] Sniff delimiter as ','\u001b[0m\n",
      "\u001b[35m[2021-01-15:19:11:28:INFO] Determined delimiter of CSV input is ','\u001b[0m\n",
      "\u001b[35m[2021-01-15:19:11:28:INFO] Sniff delimiter as ','\u001b[0m\n",
      "\u001b[35m[2021-01-15:19:11:28:INFO] Determined delimiter of CSV input is ','\u001b[0m\n",
      "\u001b[35m[2021-01-15:19:11:28:INFO] Sniff delimiter as ','\u001b[0m\n",
      "\u001b[35m[2021-01-15:19:11:28:INFO] Determined delimiter of CSV input is ','\u001b[0m\n",
      "\u001b[35m[2021-01-15:19:11:28:INFO] Sniff delimiter as ','\u001b[0m\n",
      "\u001b[35m[2021-01-15:19:11:28:INFO] Determined delimiter of CSV input is ','\u001b[0m\n"
     ]
    }
   ],
   "source": [
    "xgb_transformer.wait()"
   ]
  },
  {
   "cell_type": "markdown",
   "metadata": {},
   "source": [
    "Now the transform job has executed and the result, the estimated sentiment of each review, has been saved on S3. Since we would rather work on this file locally we can perform a bit of notebook magic to copy the file to the `data_dir`."
   ]
  },
  {
   "cell_type": "code",
   "execution_count": 28,
   "metadata": {},
   "outputs": [
    {
     "name": "stdout",
     "output_type": "stream",
     "text": [
      "download: s3://sagemaker-us-east-2-628676058361/xgboost-2021-01-15-19-06-29-602/test.csv.out to ../data/sentiment_web_app/test.csv.out\n"
     ]
    }
   ],
   "source": [
    "!aws s3 cp --recursive $xgb_transformer.output_path $data_dir"
   ]
  },
  {
   "cell_type": "markdown",
   "metadata": {},
   "source": [
    "The last step is now to read in the output from our model, convert the output to something a little more usable, in this case we want the sentiment to be either `1` (positive) or `0` (negative), and then compare to the ground truth labels."
   ]
  },
  {
   "cell_type": "code",
   "execution_count": 29,
   "metadata": {},
   "outputs": [],
   "source": [
    "predictions = pd.read_csv(os.path.join(data_dir, 'test.csv.out'), header=None)\n",
    "predictions = [round(num) for num in predictions.squeeze().values]"
   ]
  },
  {
   "cell_type": "code",
   "execution_count": 30,
   "metadata": {},
   "outputs": [
    {
     "data": {
      "text/plain": [
       "0.86128"
      ]
     },
     "execution_count": 30,
     "metadata": {},
     "output_type": "execute_result"
    }
   ],
   "source": [
    "from sklearn.metrics import accuracy_score\n",
    "accuracy_score(test_y, predictions)"
   ]
  },
  {
   "cell_type": "markdown",
   "metadata": {},
   "source": [
    "## Step 6: Deploying the model\n",
    "\n",
    "Once we construct and fit our model, SageMaker stores the resulting model artifacts and we can use those to deploy an endpoint (inference code). To see this, look in the SageMaker console and you should see that a model has been created along with a link to the S3 location where the model artifacts have been stored.\n",
    "\n",
    "Deploying an endpoint is a lot like training the model with a few important differences. The first is that a deployed model doesn't change the model artifacts, so as you send it various testing instances the model won't change. Another difference is that since we aren't performing a fixed computation, as we were in the training step or while performing a batch transform, the compute instance that gets started stays running until we tell it to stop. This is important to note as if we forget and leave it running we will be charged the entire time.\n",
    "\n",
    "In other words **If you are no longer using a deployed endpoint, shut it down!**"
   ]
  },
  {
   "cell_type": "code",
   "execution_count": 31,
   "metadata": {},
   "outputs": [
    {
     "name": "stderr",
     "output_type": "stream",
     "text": [
      "Parameter image will be renamed to image_uri in SageMaker Python SDK v2.\n",
      "Using already existing model: xgboost-2021-01-15-18-57-07-857\n"
     ]
    },
    {
     "name": "stdout",
     "output_type": "stream",
     "text": [
      "-----------------!"
     ]
    }
   ],
   "source": [
    "xgb_predictor = xgb.deploy(initial_instance_count = 1, instance_type = 'ml.m4.xlarge')"
   ]
  },
  {
   "cell_type": "markdown",
   "metadata": {},
   "source": [
    "### Testing the model (again)\n",
    "\n",
    "Now that we have deployed our endpoint, we can send the testing data to it and get back the inference results. We already did this earlier using the batch transform functionality of SageMaker, however, we will test our model again using the newly deployed endpoint so that we can make sure that it works properly and to get a bit of a feel for how the endpoint works.\n",
    "\n",
    "When using the created endpoint it is important to know that we are limited in the amount of information we can send in each call so we need to break the testing data up into chunks and then send each chunk. Also, we need to serialize our data before we send it to the endpoint to ensure that our data is transmitted properly. Fortunately, SageMaker can do the serialization part for us provided we tell it the format of our data."
   ]
  },
  {
   "cell_type": "code",
   "execution_count": 32,
   "metadata": {},
   "outputs": [],
   "source": [
    "from sagemaker.predictor import csv_serializer\n",
    "\n",
    "# We need to tell the endpoint what format the data we are sending is in so that SageMaker can perform the serialization.\n",
    "xgb_predictor.content_type = 'text/csv'\n",
    "xgb_predictor.serializer = csv_serializer"
   ]
  },
  {
   "cell_type": "code",
   "execution_count": 33,
   "metadata": {},
   "outputs": [],
   "source": [
    "# We split the data into chunks and send each chunk seperately, accumulating the results.\n",
    "\n",
    "def predict(data, rows=512):\n",
    "    split_array = np.array_split(data, int(data.shape[0] / float(rows) + 1))\n",
    "    predictions = ''\n",
    "    for array in split_array:\n",
    "        predictions = ','.join([predictions, xgb_predictor.predict(array).decode('utf-8')])\n",
    "    \n",
    "    return np.fromstring(predictions[1:], sep=',')"
   ]
  },
  {
   "cell_type": "code",
   "execution_count": 34,
   "metadata": {},
   "outputs": [],
   "source": [
    "test_X = pd.read_csv(os.path.join(data_dir, 'test.csv'), header=None).values\n",
    "\n",
    "predictions = predict(test_X)\n",
    "predictions = [round(num) for num in predictions]"
   ]
  },
  {
   "cell_type": "markdown",
   "metadata": {},
   "source": [
    "Lastly, we check to see what the accuracy of our model is."
   ]
  },
  {
   "cell_type": "code",
   "execution_count": 35,
   "metadata": {},
   "outputs": [
    {
     "data": {
      "text/plain": [
       "0.86128"
      ]
     },
     "execution_count": 35,
     "metadata": {},
     "output_type": "execute_result"
    }
   ],
   "source": [
    "from sklearn.metrics import accuracy_score\n",
    "accuracy_score(test_y, predictions)"
   ]
  },
  {
   "cell_type": "markdown",
   "metadata": {},
   "source": [
    "And the results here should agree with the model testing that we did earlier using the batch transform job.\n",
    "\n",
    "### Cleaning up\n",
    "\n",
    "Now that we've determined that deploying our model works as expected, we are going to shut it down. Remember that the longer the endpoint is left running, the greater the cost and since we have a bit more work to do before we are able to use our endpoint with our simple web app, we should shut everything down."
   ]
  },
  {
   "cell_type": "code",
   "execution_count": null,
   "metadata": {},
   "outputs": [],
   "source": [
    "xgb_predictor.delete_endpoint()"
   ]
  },
  {
   "cell_type": "markdown",
   "metadata": {},
   "source": [
    "## Step 7: Putting our model to work\n",
    "\n",
    "As we've mentioned a few times now, our goal is to have our model deployed and then access it using a very simple web app. The intent is for this web app to take some user submitted data (a review), send it off to our endpoint (the model) and then display the result.\n",
    "\n",
    "However, there is a small catch. Currently the only way we can access the endpoint to send it data is using the SageMaker API. We can, if we wish, expose the actual URL that our model's endpoint is receiving data from, however, if we just send it data ourselves we will not get anything in return. This is because the endpoint created by SageMaker requires the entity accessing it have the correct permissions. So, we would need to somehow authenticate our web app with AWS.\n",
    "\n",
    "Having a website that authenticates to AWS seems a bit beyond the scope of this lesson so we will opt for an alternative approach. Namely, we will create a new endpoint which does not require authentication and which acts as a proxy for the SageMaker endpoint.\n",
    "\n",
    "As an additional constraint, we will try to avoid doing any data processing in the web app itself. Remember that when we constructed and tested our model we started with a movie review, then we simplified it by removing any html formatting and punctuation, then we constructed a bag of words embedding and the resulting vector is what we sent to our model. All of this needs to be done to our user input as well.\n",
    "\n",
    "Fortunately we can do all of this data processing in the backend, using Amazon's Lambda service.\n",
    "\n",
    "<img src=\"Web App Diagram.svg\">\n",
    "\n",
    "The diagram above gives an overview of how the various services will work together. On the far right is the model which we trained above and which will be deployed using SageMaker. On the far left is our web app that collects a user's movie review, sends it off and expects a positive or negative sentiment in return.\n",
    "\n",
    "In the middle is where some of the magic happens. We will construct a Lambda function, which you can think of as a straightforward Python function that can be executed whenever a specified event occurs. This Python function will do the data processing we need to perform on a user submitted review. In addition, we will give this function permission to send and recieve data from a SageMaker endpoint.\n",
    "\n",
    "Lastly, the method we will use to execute the Lambda function is a new endpoint that we will create using API Gateway. This endpoint will be a url that listens for data to be sent to it. Once it gets some data it will pass that data on to the Lambda function and then return whatever the Lambda function returns. Essentially it will act as an interface that lets our web app communicate with the Lambda function.\n",
    "\n",
    "### Processing a single review\n",
    "\n",
    "For now, suppose we are given a movie review by our user in the form of a string, like so:"
   ]
  },
  {
   "cell_type": "code",
   "execution_count": 36,
   "metadata": {},
   "outputs": [],
   "source": [
    "test_review = \"Nothing but a disgusting materialistic pageant of glistening abed remote control greed zombies, totally devoid of any heart or heat. A romantic comedy that has zero romantic chemestry and zero laughs!\""
   ]
  },
  {
   "cell_type": "markdown",
   "metadata": {},
   "source": [
    "How do we go from this string to the bag of words feature vector that is expected by our model?\n",
    "\n",
    "If we recall at the beginning of this notebook, the first step is to remove any unnecessary characters using the `review_to_words` method. Remember that we intentionally did this in a very simplistic way. This is because we are going to have to copy this method to our (eventual) Lambda function (we will go into more detail later) and this means it needs to be rather simplistic."
   ]
  },
  {
   "cell_type": "code",
   "execution_count": 37,
   "metadata": {},
   "outputs": [
    {
     "name": "stdout",
     "output_type": "stream",
     "text": [
      "nothing but a disgusting materialistic pageant of glistening abed remote control greed zombies totally devoid of any heart or heat a romantic comedy that has zero romantic chemestry and zero laughs\n"
     ]
    }
   ],
   "source": [
    "test_words = review_to_words(test_review)\n",
    "print(test_words)"
   ]
  },
  {
   "cell_type": "markdown",
   "metadata": {},
   "source": [
    "Next, we need to construct a bag of words embedding of the `test_words` string. To do this, remember that a bag of words embedding uses a `vocabulary` consisting of the most frequently appearing words in a set of documents. Then, for each word in the vocabulary we record the number of times that word appears in `test_words`. We constructed the `vocabulary` earlier using the training set for our problem so encoding `test_words` is relatively straightforward."
   ]
  },
  {
   "cell_type": "code",
   "execution_count": 38,
   "metadata": {},
   "outputs": [],
   "source": [
    "def bow_encoding(words, vocabulary):\n",
    "    bow = [0] * len(vocabulary) # Start by setting the count for each word in the vocabulary to zero.\n",
    "    for word in words.split():  # For each word in the string\n",
    "        if word in vocabulary:  # If the word is one that occurs in the vocabulary, increase its count.\n",
    "            bow[vocabulary[word]] += 1\n",
    "    return bow"
   ]
  },
  {
   "cell_type": "code",
   "execution_count": 39,
   "metadata": {},
   "outputs": [
    {
     "name": "stdout",
     "output_type": "stream",
     "text": [
      "[0, 0, 0, 0, 0, 0, 0, 0, 0, 0, 0, 0, 0, 0, 0, 0, 0, 0, 0, 0, 0, 0, 0, 0, 0, 0, 0, 0, 0, 0, 0, 0, 0, 0, 0, 0, 0, 0, 0, 0, 0, 0, 0, 0, 0, 0, 0, 0, 0, 0, 0, 0, 0, 0, 0, 0, 0, 0, 0, 0, 0, 0, 0, 0, 0, 0, 0, 0, 0, 0, 0, 0, 0, 0, 0, 0, 0, 0, 0, 0, 0, 0, 0, 0, 0, 0, 0, 0, 0, 0, 0, 0, 0, 0, 0, 0, 0, 0, 0, 0, 0, 0, 0, 0, 0, 0, 0, 0, 0, 0, 0, 0, 0, 0, 0, 0, 0, 0, 0, 0, 0, 0, 0, 0, 0, 0, 0, 0, 0, 0, 0, 0, 0, 0, 0, 0, 0, 0, 0, 0, 0, 0, 0, 0, 0, 0, 0, 0, 0, 0, 0, 0, 0, 0, 0, 0, 0, 0, 0, 0, 0, 0, 0, 0, 0, 0, 0, 0, 0, 0, 0, 0, 0, 0, 0, 0, 0, 0, 0, 0, 0, 0, 0, 0, 0, 0, 0, 0, 0, 0, 0, 0, 0, 0, 0, 0, 0, 0, 0, 0, 0, 0, 0, 0, 0, 0, 0, 0, 0, 0, 0, 0, 0, 0, 0, 0, 0, 0, 0, 0, 0, 0, 0, 0, 0, 0, 1, 0, 0, 0, 0, 0, 0, 0, 0, 0, 0, 0, 0, 0, 0, 0, 0, 0, 0, 0, 0, 0, 0, 0, 0, 0, 0, 0, 0, 0, 1, 0, 0, 0, 0, 0, 0, 0, 0, 0, 0, 0, 0, 0, 0, 0, 0, 0, 0, 0, 0, 0, 0, 0, 0, 0, 0, 0, 0, 0, 0, 0, 0, 0, 0, 0, 0, 0, 0, 0, 0, 0, 0, 0, 0, 0, 0, 0, 0, 0, 0, 0, 0, 0, 0, 0, 0, 0, 0, 0, 0, 0, 0, 0, 0, 0, 0, 0, 0, 0, 0, 0, 0, 0, 0, 0, 0, 0, 0, 0, 0, 0, 0, 0, 0, 0, 0, 0, 0, 0, 0, 0, 0, 0, 0, 0, 0, 0, 0, 0, 0, 0, 0, 0, 0, 0, 0, 0, 0, 0, 0, 0, 0, 0, 0, 0, 0, 0, 0, 0, 0, 0, 0, 0, 0, 0, 0, 0, 0, 0, 0, 0, 0, 0, 0, 0, 0, 0, 0, 0, 0, 0, 0, 0, 0, 0, 0, 0, 0, 0, 0, 0, 0, 0, 0, 0, 0, 0, 0, 0, 0, 0, 0, 0, 0, 0, 0, 0, 0, 0, 0, 0, 0, 0, 0, 0, 0, 0, 0, 0, 0, 0, 0, 0, 0, 0, 0, 0, 0, 0, 0, 0, 0, 0, 0, 0, 0, 0, 0, 0, 0, 0, 0, 0, 0, 0, 0, 0, 0, 0, 0, 0, 0, 0, 0, 0, 0, 0, 0, 0, 0, 0, 0, 0, 0, 0, 0, 0, 0, 0, 0, 0, 0, 0, 0, 0, 0, 0, 0, 0, 0, 0, 0, 0, 0, 0, 0, 0, 0, 0, 0, 0, 0, 0, 0, 0, 0, 0, 0, 0, 0, 0, 0, 0, 0, 0, 0, 0, 0, 0, 0, 0, 0, 0, 0, 0, 0, 0, 0, 0, 0, 0, 0, 0, 0, 0, 0, 0, 0, 0, 0, 0, 0, 0, 0, 0, 0, 0, 0, 0, 0, 0, 0, 0, 0, 0, 0, 0, 0, 0, 0, 0, 0, 0, 0, 0, 0, 0, 0, 0, 0, 0, 0, 0, 0, 0, 0, 0, 0, 0, 0, 0, 0, 0, 0, 0, 0, 0, 0, 0, 0, 0, 0, 0, 0, 0, 0, 0, 0, 0, 0, 0, 0, 0, 0, 0, 0, 0, 0, 0, 0, 0, 0, 0, 0, 0, 0, 0, 0, 0, 0, 0, 0, 0, 0, 0, 0, 0, 0, 0, 1, 0, 0, 0, 0, 0, 0, 0, 0, 0, 0, 0, 0, 0, 0, 0, 0, 0, 0, 0, 0, 0, 0, 0, 0, 0, 0, 0, 0, 0, 0, 0, 0, 0, 0, 0, 0, 0, 0, 0, 0, 0, 0, 0, 0, 0, 0, 0, 0, 0, 0, 0, 0, 0, 0, 0, 0, 0, 0, 0, 0, 0, 0, 0, 0, 0, 0, 0, 0, 0, 0, 0, 0, 0, 0, 0, 0, 0, 0, 0, 0, 0, 0, 0, 0, 0, 0, 0, 0, 0, 0, 0, 0, 0, 0, 0, 0, 0, 0, 0, 0, 0, 0, 0, 0, 0, 0, 0, 0, 0, 0, 0, 0, 0, 0, 0, 0, 0, 0, 0, 0, 0, 0, 0, 0, 0, 0, 0, 0, 0, 0, 0, 0, 0, 0, 0, 0, 0, 0, 0, 0, 0, 0, 0, 0, 0, 0, 0, 0, 0, 0, 0, 0, 0, 0, 0, 0, 0, 0, 0, 0, 0, 0, 0, 0, 0, 0, 0, 0, 0, 0, 0, 0, 0, 0, 0, 0, 0, 0, 0, 0, 0, 0, 0, 0, 0, 0, 0, 0, 0, 0, 0, 0, 0, 0, 0, 0, 0, 0, 0, 0, 0, 0, 0, 0, 0, 0, 0, 0, 0, 0, 0, 0, 0, 0, 0, 0, 0, 0, 0, 0, 0, 0, 0, 0, 0, 0, 0, 0, 0, 0, 0, 0, 0, 0, 0, 0, 0, 0, 0, 0, 0, 0, 0, 0, 0, 0, 0, 0, 0, 0, 0, 0, 0, 1, 0, 0, 0, 0, 0, 0, 0, 0, 0, 0, 0, 0, 0, 0, 0, 0, 0, 0, 0, 0, 0, 0, 0, 0, 0, 0, 0, 0, 0, 0, 0, 0, 0, 0, 0, 0, 0, 0, 0, 0, 0, 0, 0, 0, 0, 0, 0, 0, 0, 0, 0, 0, 0, 0, 0, 0, 0, 0, 0, 0, 0, 0, 0, 0, 0, 0, 0, 0, 0, 0, 0, 0, 0, 0, 0, 0, 0, 0, 0, 0, 0, 0, 0, 0, 0, 0, 1, 0, 0, 0, 0, 0, 0, 0, 0, 0, 0, 0, 0, 0, 0, 0, 0, 0, 0, 0, 0, 0, 0, 0, 0, 0, 0, 0, 0, 0, 0, 0, 0, 0, 0, 0, 0, 0, 0, 0, 0, 0, 0, 0, 0, 0, 0, 0, 0, 0, 0, 0, 0, 0, 0, 0, 0, 0, 0, 0, 0, 0, 0, 0, 0, 0, 0, 0, 0, 0, 0, 0, 0, 0, 0, 0, 0, 0, 0, 0, 0, 0, 0, 0, 0, 0, 0, 0, 0, 0, 0, 0, 0, 0, 0, 0, 0, 0, 0, 0, 0, 0, 0, 0, 0, 0, 0, 0, 0, 0, 0, 0, 0, 0, 0, 0, 0, 0, 0, 0, 0, 0, 0, 0, 0, 0, 0, 0, 0, 0, 0, 0, 0, 0, 0, 0, 0, 0, 0, 0, 0, 0, 0, 0, 0, 0, 0, 0, 0, 0, 0, 0, 0, 0, 0, 0, 0, 0, 0, 0, 0, 0, 0, 0, 0, 0, 0, 0, 0, 0, 0, 0, 0, 0, 0, 0, 0, 0, 0, 0, 0, 0, 0, 0, 0, 0, 0, 0, 0, 0, 0, 0, 0, 0, 0, 0, 0, 0, 0, 0, 0, 0, 0, 0, 0, 0, 0, 0, 0, 0, 0, 0, 0, 0, 0, 0, 0, 0, 0, 0, 0, 0, 0, 0, 0, 0, 0, 0, 0, 0, 0, 0, 0, 0, 0, 0, 0, 0, 0, 0, 0, 0, 0, 0, 0, 0, 0, 0, 0, 0, 0, 0, 0, 1, 0, 0, 0, 0, 0, 0, 0, 0, 0, 0, 0, 0, 0, 0, 0, 0, 0, 0, 0, 0, 0, 0, 0, 0, 0, 0, 0, 0, 0, 0, 0, 0, 0, 0, 0, 0, 0, 0, 0, 0, 0, 0, 0, 0, 0, 0, 0, 0, 0, 0, 0, 0, 0, 0, 0, 1, 0, 0, 0, 0, 0, 0, 0, 0, 0, 0, 0, 0, 0, 0, 0, 0, 0, 0, 0, 0, 0, 0, 0, 0, 0, 0, 0, 0, 0, 0, 0, 0, 0, 0, 0, 0, 0, 0, 0, 0, 0, 0, 0, 0, 0, 0, 0, 0, 0, 0, 0, 0, 0, 0, 0, 0, 0, 0, 0, 0, 0, 0, 0, 0, 0, 0, 0, 0, 0, 0, 0, 0, 0, 0, 0, 0, 0, 0, 0, 0, 0, 0, 0, 0, 0, 0, 0, 0, 0, 0, 0, 0, 0, 0, 0, 0, 0, 0, 0, 0, 0, 0, 0, 0, 0, 0, 0, 0, 0, 0, 0, 0, 0, 0, 0, 0, 0, 0, 0, 0, 0, 0, 0, 0, 0, 0, 0, 0, 0, 0, 0, 0, 0, 0, 0, 0, 0, 0, 0, 0, 0, 0, 0, 0, 0, 0, 0, 0, 0, 0, 0, 0, 0, 0, 0, 0, 0, 0, 0, 0, 0, 0, 0, 0, 0, 0, 0, 0, 0, 0, 0, 0, 0, 0, 0, 0, 0, 0, 0, 0, 0, 0, 0, 0, 0, 0, 0, 0, 0, 0, 0, 0, 0, 0, 0, 0, 0, 0, 0, 0, 0, 0, 0, 0, 0, 0, 0, 0, 0, 0, 0, 0, 0, 0, 0, 0, 0, 0, 0, 0, 0, 0, 0, 0, 0, 0, 0, 0, 0, 0, 0, 0, 0, 0, 0, 0, 0, 0, 0, 0, 0, 0, 0, 0, 0, 0, 0, 0, 0, 0, 0, 0, 0, 0, 0, 0, 0, 0, 0, 0, 0, 0, 0, 0, 0, 0, 0, 0, 0, 0, 0, 0, 0, 0, 0, 0, 0, 0, 0, 0, 0, 0, 0, 0, 0, 0, 0, 0, 0, 0, 0, 0, 0, 0, 0, 0, 0, 0, 0, 0, 0, 0, 0, 0, 0, 0, 0, 0, 0, 0, 0, 0, 0, 0, 0, 0, 0, 0, 0, 0, 0, 0, 0, 0, 0, 0, 0, 0, 0, 0, 0, 0, 0, 0, 0, 0, 0, 0, 0, 0, 0, 0, 0, 0, 0, 0, 0, 0, 0, 0, 0, 0, 0, 0, 0, 0, 0, 0, 0, 0, 0, 0, 0, 0, 0, 0, 0, 0, 0, 0, 0, 0, 0, 0, 0, 0, 0, 0, 0, 0, 0, 0, 0, 0, 0, 0, 0, 0, 0, 0, 0, 0, 0, 0, 0, 0, 0, 0, 0, 0, 0, 0, 0, 0, 0, 0, 0, 0, 0, 0, 0, 0, 0, 0, 0, 0, 0, 0, 0, 0, 0, 0, 0, 0, 0, 0, 0, 0, 0, 0, 0, 0, 0, 0, 0, 0, 0, 0, 0, 0, 0, 0, 0, 0, 0, 0, 0, 0, 0, 0, 0, 0, 0, 0, 0, 0, 0, 0, 0, 0, 0, 0, 0, 0, 0, 0, 0, 0, 0, 0, 0, 0, 0, 0, 0, 0, 0, 0, 0, 0, 0, 0, 0, 0, 0, 0, 0, 0, 0, 0, 0, 0, 0, 0, 0, 0, 0, 0, 0, 0, 0, 0, 0, 0, 0, 0, 0, 0, 0, 0, 0, 0, 0, 0, 0, 0, 0, 0, 0, 0, 0, 0, 0, 0, 0, 0, 0, 0, 0, 0, 0, 0, 0, 0, 0, 0, 0, 0, 0, 0, 0, 0, 0, 0, 0, 0, 0, 0, 0, 0, 0, 0, 0, 0, 0, 0, 0, 0, 0, 0, 0, 0, 0, 0, 0, 0, 0, 0, 0, 0, 0, 0, 0, 0, 0, 0, 0, 0, 0, 0, 0, 0, 0, 0, 0, 0, 0, 0, 0, 0, 0, 0, 0, 0, 0, 0, 0, 0, 0, 0, 0, 0, 0, 0, 0, 0, 0, 0, 0, 0, 0, 0, 0, 0, 0, 0, 0, 0, 0, 0, 0, 0, 0, 0, 0, 0, 0, 0, 0, 0, 0, 0, 0, 0, 0, 0, 0, 0, 0, 0, 0, 0, 0, 0, 0, 0, 0, 0, 0, 0, 0, 0, 0, 0, 0, 0, 0, 0, 0, 0, 0, 0, 0, 0, 0, 0, 0, 0, 0, 0, 0, 0, 0, 0, 0, 0, 0, 0, 0, 0, 0, 1, 0, 0, 0, 0, 0, 0, 0, 0, 0, 0, 0, 0, 0, 0, 0, 0, 0, 0, 0, 0, 0, 0, 0, 0, 0, 0, 0, 0, 0, 0, 0, 0, 0, 0, 0, 0, 0, 0, 0, 0, 0, 0, 0, 0, 0, 0, 0, 0, 0, 0, 0, 0, 0, 0, 0, 0, 0, 0, 0, 0, 0, 0, 0, 0, 0, 0, 0, 0, 0, 0, 0, 0, 0, 0, 1, 0, 0, 0, 0, 0, 0, 0, 0, 0, 0, 0, 0, 0, 0, 0, 0, 0, 0, 0, 0, 1, 0, 0, 1, 0, 0, 0, 0, 0, 0, 0, 0, 0, 0, 0, 0, 0, 0, 0, 0, 0, 0, 0, 0, 0, 0, 0, 0, 0, 0, 0, 0, 0, 0, 0, 0, 0, 0, 0, 0, 0, 0, 0, 0, 0, 0, 0, 0, 0, 0, 0, 0, 0, 0, 0, 0, 0, 0, 0, 0, 0, 0, 0, 0, 0, 0, 0, 0, 0, 0, 0, 0, 0, 0, 0, 0, 0, 0, 0, 0, 0, 0, 0, 0, 0, 0, 0, 0, 0, 0, 0, 0, 0, 0, 0, 0, 0, 0, 0, 0, 0, 0, 0, 0, 0, 0, 0, 0, 0, 0, 0, 0, 0, 0, 0, 0, 0, 0, 0, 0, 0, 0, 0, 0, 0, 0, 0, 0, 0, 0, 0, 0, 0, 0, 0, 0, 0, 0, 0, 0, 0, 0, 0, 0, 0, 0, 0, 0, 0, 0, 0, 0, 0, 0, 0, 0, 0, 0, 0, 0, 0, 0, 0, 0, 0, 0, 0, 0, 0, 0, 0, 0, 0, 0, 0, 0, 0, 0, 0, 0, 0, 0, 0, 0, 0, 0, 0, 0, 0, 0, 0, 0, 0, 0, 0, 0, 0, 0, 0, 0, 0, 0, 0, 0, 0, 0, 0, 0, 0, 0, 0, 0, 0, 0, 0, 0, 0, 0, 0, 0, 0, 0, 0, 0, 0, 0, 0, 0, 0, 0, 0, 0, 0, 0, 0, 0, 0, 0, 0, 0, 0, 0, 0, 0, 0, 0, 0, 0, 0, 0, 0, 0, 0, 0, 0, 0, 0, 0, 0, 0, 0, 0, 0, 0, 0, 0, 0, 0, 0, 0, 0, 0, 0, 0, 0, 0, 0, 0, 0, 0, 0, 0, 0, 0, 0, 0, 0, 0, 0, 0, 0, 0, 0, 0, 0, 0, 0, 0, 0, 0, 0, 0, 0, 0, 0, 0, 0, 0, 0, 0, 0, 0, 0, 0, 0, 0, 0, 0, 0, 0, 0, 0, 0, 0, 0, 0, 0, 0, 0, 0, 0, 0, 0, 0, 0, 0, 0, 0, 0, 0, 0, 0, 0, 0, 0, 0, 0, 0, 0, 0, 0, 0, 0, 0, 0, 0, 0, 0, 0, 0, 0, 0, 0, 0, 0, 0, 0, 0, 0, 0, 0, 0, 0, 0, 0, 0, 0, 0, 0, 0, 0, 0, 0, 0, 0, 0, 0, 0, 0, 0, 0, 0, 0, 0, 0, 0, 0, 0, 0, 0, 0, 0, 0, 0, 0, 0, 0, 0, 0, 0, 0, 0, 0, 0, 0, 0, 0, 0, 0, 0, 0, 0, 0, 0, 0, 0, 0, 0, 0, 0, 0, 0, 0, 0, 0, 0, 0, 0, 0, 0, 0, 0, 0, 0, 0, 0, 0, 0, 0, 0, 0, 0, 0, 0, 0, 0, 0, 0, 0, 0, 0, 0, 0, 0, 0, 0, 0, 0, 0, 0, 1, 0, 0, 0, 0, 0, 0, 0, 0, 0, 0, 0, 0, 0, 0, 0, 0, 0, 0, 0, 0, 0, 0, 0, 0, 0, 0, 0, 0, 0, 0, 0, 0, 0, 0, 0, 0, 0, 0, 0, 0, 0, 0, 0, 0, 0, 0, 0, 0, 0, 0, 0, 0, 0, 0, 0, 0, 0, 0, 0, 0, 0, 0, 0, 0, 0, 0, 0, 0, 0, 0, 0, 0, 0, 0, 0, 0, 0, 0, 0, 0, 0, 0, 0, 0, 0, 0, 0, 0, 0, 0, 0, 0, 0, 0, 0, 0, 0, 0, 0, 0, 0, 0, 0, 0, 0, 0, 0, 0, 0, 0, 0, 0, 0, 0, 0, 0, 0, 0, 0, 0, 0, 0, 0, 0, 0, 0, 0, 0, 0, 0, 0, 0, 0, 0, 0, 0, 0, 0, 0, 0, 0, 0, 0, 0, 0, 0, 0, 0, 0, 0, 0, 0, 0, 0, 0, 0, 0, 0, 0, 0, 0, 0, 0, 0, 0, 0, 0, 0, 0, 0, 0, 0, 0, 0, 0, 0, 0, 0, 0, 0, 0, 0, 0, 0, 0, 0, 0, 0, 0, 0, 0, 0, 0, 0, 0, 0, 0, 0, 0, 0, 0, 0, 0, 0, 0, 0, 0, 0, 0, 0, 0, 0, 0, 0, 0, 0, 0, 0, 0, 0, 0, 0, 0, 0, 0, 0, 0, 0, 0, 0, 0, 0, 0, 0, 0, 0, 0, 0, 0, 0, 0, 0, 0, 0, 0, 0, 0, 0, 0, 0, 0, 0, 0, 0, 0, 0, 0, 0, 0, 0, 0, 0, 0, 0, 0, 0, 0, 0, 0, 0, 0, 0, 0, 0, 0, 0, 0, 0, 0, 0, 0, 0, 0, 0, 0, 0, 0, 0, 0, 0, 0, 0, 0, 0, 0, 0, 0, 0, 0, 0, 0, 0, 0, 0, 0, 0, 0, 0, 0, 0, 0, 0, 0, 0, 0, 0, 0, 0, 0, 0, 0, 0, 0, 0, 0, 0, 0, 0, 0, 0, 0, 0, 0, 0, 0, 0, 0, 0, 0, 0, 0, 0, 0, 0, 0, 0, 0, 0, 0, 0, 0, 0, 0, 0, 0, 0, 0, 0, 0, 0, 0, 0, 0, 0, 0, 0, 0, 0, 0, 0, 0, 0, 0, 0, 0, 0, 0, 0, 0, 0, 0, 0, 0, 0, 0, 0, 0, 0, 0, 0, 0, 0, 0, 0, 0, 0, 0, 0, 0, 0, 0, 0, 0, 0, 0, 0, 0, 0, 0, 0, 0, 0, 0, 0, 0, 0, 0, 0, 0, 0, 0, 0, 0, 0, 0, 0, 0, 0, 0, 0, 0, 0, 0, 0, 0, 0, 0, 0, 0, 0, 0, 0, 0, 0, 0, 0, 0, 0, 0, 0, 0, 0, 0, 0, 0, 0, 0, 0, 0, 0, 0, 0, 0, 0, 0, 0, 0, 0, 0, 0, 0, 0, 0, 0, 0, 0, 0, 0, 0, 0, 0, 0, 0, 0, 0, 0, 0, 0, 0, 0, 0, 0, 0, 0, 0, 0, 0, 0, 0, 0, 0, 0, 0, 0, 0, 0, 0, 0, 0, 0, 0, 0, 1, 0, 0, 0, 0, 0, 0, 0, 0, 0, 0, 0, 0, 0, 0, 0, 0, 0, 0, 0, 0, 0, 0, 0, 0, 0, 0, 0, 0, 0, 0, 0, 0, 0, 0, 0, 2, 0, 0, 0, 0, 0, 0, 0, 0, 0, 0, 0, 0, 0, 0, 0, 0, 0, 0, 0, 0, 0, 0, 0, 0, 0, 0, 0, 0, 0, 0, 0, 0, 0, 0, 0, 0, 0, 0, 0, 0, 1, 0, 0, 0, 0, 0, 0, 0, 0, 0, 0, 0, 0, 0, 0, 0, 0, 0, 0, 0, 0, 0, 0, 0, 0, 0, 0, 0, 0, 0, 0, 0, 0, 0, 0, 0, 0, 0, 0, 0, 0, 0, 0, 0, 0, 0, 0, 0, 0, 0, 0, 0, 0, 0, 0, 0, 0, 0, 0, 0, 0, 0, 0, 0, 0, 0, 0, 0, 0, 0, 0, 0, 0, 0, 0, 0, 0, 0, 0, 0, 0, 0, 0, 0, 0, 0, 0, 0, 0, 0, 0, 0, 0, 0, 0, 0, 0, 0, 0, 0, 0, 0, 0, 0, 0, 0, 0, 0, 0, 0, 0, 0, 0, 0, 0, 0, 0, 0, 0, 0, 0, 0, 0, 0, 0, 0, 0, 0, 0, 0, 0, 0, 0, 0, 0, 0, 0, 0, 0, 0, 0, 0, 0, 0, 0, 0, 0, 0, 0, 0, 0, 0, 0, 0, 0, 0, 0, 0, 0, 0, 0, 0, 0, 0, 0, 0, 0, 0, 0, 0, 0, 0, 0, 0, 0, 0, 0, 0, 0, 0, 0, 0, 0, 0, 0, 0, 0, 0, 0, 0, 0, 0, 0, 0, 0, 0, 0, 0, 0, 0, 0, 0, 0, 0, 0, 0, 0, 0, 0, 0, 0, 0, 0, 0, 0, 0, 0, 0, 0, 0, 0, 0, 0, 0, 0, 0, 0, 0, 0, 0, 0, 0, 0, 0, 0, 0, 0, 0, 0, 0, 0, 0, 0, 0, 0, 0, 0, 0, 0, 0, 0, 0, 0, 0, 0, 0, 0, 0, 0, 0, 0, 0, 0, 0, 0, 0, 0, 0, 0, 0, 0, 0, 0, 0, 0, 0, 0, 0, 0, 0, 0, 0, 0, 0, 0, 0, 0, 0, 0, 0, 0, 0, 0, 0, 0, 0, 0, 0, 0, 0, 0, 0, 0, 0, 0, 0, 0, 0, 0, 0, 0, 0, 0, 0, 0, 0, 0, 0, 0, 0, 0, 0, 0, 0, 0, 0, 0, 0, 0, 0, 0, 0, 0, 0, 0, 0, 0, 0, 0, 0, 0, 0, 0, 0, 0, 0, 0, 0, 0, 0, 0, 0, 0, 0, 0, 0, 0, 0, 0, 0, 0, 0, 0, 0, 0, 0, 0, 0, 0, 0, 0, 0, 0, 0, 0, 0, 0, 0, 0, 0, 0, 0, 0, 0, 0, 0, 0, 0, 0, 0, 0, 0, 0, 0, 0, 0, 0, 0, 0, 0, 0, 0, 0, 0, 0, 0, 0, 0, 0, 0, 0, 0, 0, 0, 0, 0, 0, 0, 0, 0, 0, 0, 0, 0, 0, 0, 0, 0, 0, 0, 0, 0, 0, 0, 0, 0, 0, 0, 0, 0, 0, 0, 0, 0, 0, 0, 0, 0, 0, 0, 0, 0, 0, 0, 0, 0, 0, 0, 0, 0, 0, 0, 0, 0, 0, 0, 0, 0, 0, 0, 0, 0, 0, 0, 0, 0, 0, 0, 0, 0, 0, 0, 0, 0, 0, 0, 0, 0, 0, 0, 0, 0, 0, 0, 0, 0, 0, 0, 1, 0, 0, 0, 0, 0, 0, 0, 0, 0, 0, 0, 0, 0, 0, 0, 0, 0, 0, 0, 0, 0, 0, 0, 0, 0, 0, 0, 0, 0, 0, 0, 0, 0, 0, 0, 0, 0, 0, 0, 0, 0, 0, 0, 0, 0, 0, 0, 0, 0, 0, 0, 0, 0, 0, 0, 0, 0, 0, 0, 0, 0, 0, 0, 0, 0, 0, 0, 0, 0, 0, 0, 0, 0, 0, 0, 0, 0, 0, 0, 0, 0, 0, 0, 0, 0, 0, 0, 0, 0, 0, 0, 0, 0, 0, 0, 0, 0, 0, 0, 0, 0, 0, 0, 0, 0, 0, 0, 0, 0, 0, 2, 0, 0, 0, 0, 0, 0, 0, 0, 0, 0, 0, 0, 0, 0, 0, 0, 0, 0, 0, 0, 0, 0, 0, 0, 0, 0, 0, 0, 0, 0, 0, 0, 0, 0, 0, 0, 0, 0, 0, 0, 0, 0, 0, 0, 0, 0, 0, 0, 0, 0, 0, 0, 0, 0, 0, 0, 0, 0, 0, 0, 0, 0, 0, 0, 0, 0, 0, 0, 0, 0, 0, 0, 0, 0, 0, 0, 0, 0, 0, 0, 0, 0, 0, 0, 0, 0, 0, 0, 0, 0, 0, 0, 0, 0, 0, 0, 0, 0, 0, 0, 0, 0, 0, 0, 0, 0, 0, 0, 0, 0, 0, 0, 0, 0, 0, 0, 0, 0, 0, 0, 0, 0, 0, 0, 0, 0, 0, 0, 0, 0, 0, 0, 0, 0, 0, 0, 0, 0, 0, 0, 0, 0, 0, 0, 0, 0, 0, 0, 0, 0, 0, 0, 0, 0, 0, 0, 0, 0, 0, 0, 0, 0, 0, 0, 0, 0, 0, 0, 0, 0, 0, 0, 0, 0, 0, 0, 0, 0, 0, 0, 0, 0, 0, 0, 0, 0, 0, 0, 0, 0, 0, 0, 0, 0, 0, 0, 0, 0, 0, 0, 0, 0, 0, 0, 0, 0, 0, 0, 0, 0, 0, 0, 0, 0, 0, 0, 0, 0, 0, 0, 0, 0, 0, 0, 0, 0, 0, 0, 0, 0, 0, 0, 0, 0, 0, 0, 0, 0, 0, 0, 0, 0, 0, 0, 0, 0, 0, 0, 0, 0, 0, 0, 0, 0, 0, 0, 0, 0, 0, 0, 0, 0, 0, 0, 0, 0, 0, 0, 0, 0, 0, 0, 0, 0, 0, 0, 0, 0, 0, 0, 0, 0, 0, 0, 0, 0, 0, 0, 0, 0, 0, 0, 0, 0, 0, 0, 0, 0, 0, 0, 0, 0, 0, 0, 0, 0, 0, 0, 0, 0, 0, 0, 0, 0, 0, 0, 0, 0, 0, 0, 0, 0, 0, 0, 0, 0, 0, 0, 0, 0, 0, 0, 0, 0, 0, 0, 0, 0, 0, 0, 0, 0, 0, 0, 0, 0, 0, 0, 0, 0, 0, 0, 0, 0, 0, 0, 0, 0, 0, 0, 0, 0, 0, 0, 0, 0, 0, 0, 0, 0, 0, 0, 0, 0, 0, 0, 0, 0, 0, 0, 0, 0, 0, 0, 0, 0, 0, 0, 0, 0, 0, 0, 0, 0, 0, 0, 0, 0, 0, 0, 0, 0, 0, 0, 0, 0, 0, 0, 0, 0, 0, 0, 0, 0, 0, 0, 0, 0, 0, 0, 0, 0, 0, 0, 0, 0, 0, 0, 0, 0, 0, 0, 0, 0, 0, 0, 0, 0, 0, 0, 0, 0, 0, 0, 0, 0, 0, 0, 0, 0, 0, 0, 0, 0, 0, 0, 0, 0, 0, 0, 0, 0, 0, 0, 0, 0, 0, 0, 0, 0, 0, 0, 0, 0, 0, 0, 0, 0, 0, 0, 0, 0, 0, 0, 0, 0, 0, 0, 0, 0, 0, 0, 0, 0, 0, 0, 0, 0, 0, 0, 0, 0, 0, 0, 0, 0, 0, 0, 0, 0, 0, 0, 0, 0, 0, 0, 0, 0, 0, 0, 0, 0, 0, 0, 0, 0, 0, 0, 0, 0, 0, 0, 0, 0, 0, 0, 0, 0, 0, 0, 0, 0, 0, 0, 0, 0, 0, 0, 0, 0, 0, 0, 0, 0, 0, 0, 0, 0, 0, 0, 0, 0, 0, 0, 0, 0, 0, 0, 0, 0, 0, 0, 0, 0, 0, 0, 0, 0, 0, 0, 0, 0, 0, 0, 0, 0, 0, 0, 0, 0, 0, 0, 0, 0, 0, 0, 0, 0, 0, 0, 0, 0, 0, 0, 0, 0, 0, 0, 0, 0, 0, 0, 0, 0, 0, 0, 0, 0, 0, 0, 0, 0, 0, 0, 0, 0, 0, 0, 0, 0, 0, 0, 0, 0, 0, 0, 0, 0, 0, 0, 0, 0, 0, 0, 0, 0, 0, 0, 0, 0, 0, 0, 0, 0, 0, 0, 0, 0, 0, 0, 0, 0, 0, 0, 0, 0, 0, 0, 0, 0, 0, 0, 0, 0, 0, 0, 0, 0, 0, 0, 0, 0, 0, 0, 0, 0, 0, 0, 0, 0, 1, 0, 0, 0, 0, 0, 0, 0, 0, 0, 0, 0, 0, 0, 0, 0, 0, 0, 0, 0, 0, 0, 0, 0, 0, 0, 0, 0, 0, 0, 0, 0, 0, 0, 0, 0, 0, 0, 0, 0, 0, 0, 0, 0, 0, 0, 0, 0, 0, 0, 0, 0, 0, 0, 0, 0, 0, 0, 0, 0, 0, 0, 0, 0, 0, 0, 0, 0, 0, 0, 0, 0, 0, 0, 0, 0, 0, 0, 0, 0, 0, 0, 0, 0, 0, 0, 0, 0, 0, 0, 0, 0, 0, 0, 0, 0, 0, 0, 0, 0, 0, 0, 0, 0, 0, 0, 0, 0, 1, 0, 0, 0, 0, 0, 0, 0, 0, 0, 0, 0, 0, 0, 0, 0, 0, 0, 0, 0, 0, 0, 0, 0, 0, 0, 0, 0, 0, 0, 0, 0, 0, 0, 0, 0, 0, 0, 0, 0, 0, 0, 0, 0, 0, 0, 0, 0, 0, 0, 0, 0, 0, 0, 0, 0, 0, 0, 0, 0, 0, 0, 0, 0, 0, 0, 0, 0, 0, 0, 0, 0, 0, 0, 0, 0, 0, 0, 0, 0, 0, 0, 0, 0, 0, 0, 0, 0, 0, 0, 0, 0, 0, 0, 0, 0, 0, 0, 0, 0, 0, 0, 0, 0, 0, 0, 0, 0, 0, 0, 0, 0, 0, 0, 0, 0, 0, 0, 0, 0, 0, 0, 0, 0, 0, 0, 0, 0, 0, 0, 0, 0, 0, 0, 0, 0, 0, 0, 0, 0, 0, 0, 0, 0, 0, 0, 0, 0, 0, 0, 0, 0, 0, 0, 0, 0, 0, 0, 0, 0, 0, 0, 0, 0, 0, 0, 0, 0, 0, 0, 0, 0, 0, 0, 0, 0, 0, 0, 0, 0, 0, 0, 0, 0, 0, 0, 0, 0, 0, 0, 0, 0, 0, 0, 0, 0, 0, 0, 0, 0, 0, 0, 0, 0, 0, 0, 0, 0, 0, 0, 0, 0, 0, 0, 0, 0, 0, 0, 0, 0, 0, 0, 0, 0, 0, 0, 0, 0, 0, 0, 0, 0, 0, 0, 0, 0, 0, 0, 0, 0, 0, 0, 0, 0, 0, 0, 0, 0, 0, 0, 0, 0, 0, 0, 0, 0, 0, 0, 0, 0, 0, 0, 0, 0, 0, 0, 0, 0, 0, 0, 0, 0, 0, 0, 0, 0, 0, 0, 0, 0, 0, 0, 0, 0, 0, 0, 0, 0, 0, 0, 0, 0, 0, 0, 0, 0, 0, 0, 0, 0, 0, 0, 0, 0, 0, 0, 0, 0, 0, 0, 0, 0, 0, 0, 0, 0, 0, 0, 0, 0, 0, 0, 0, 0, 0, 0, 0, 0, 0, 0, 0, 0, 0, 0, 0, 0, 0, 0, 0, 0, 0, 0, 0, 0, 0, 0, 0, 0, 0, 0, 0, 0, 0, 0, 0, 0, 0, 0, 0, 0, 0, 0, 0, 0, 0, 0, 0, 0, 0, 0, 0, 0, 0, 0, 0, 0, 0, 0, 0, 0, 0, 0, 0, 0, 0, 0, 0, 0, 0, 0, 0, 0, 0, 0, 0, 0, 0, 0, 0, 0, 0, 0, 0, 0, 0, 0, 0, 0, 0, 0, 0, 0, 0, 0, 0, 0, 0, 0, 0, 0, 0, 0, 0, 0, 0, 0, 0, 0, 0, 0, 0, 0, 0, 0, 0, 0, 0, 0, 0, 0, 0, 0, 0, 0, 0, 0, 0, 0, 0, 0, 0, 0, 0, 0, 0, 0, 0, 0, 0, 0, 0, 0, 0, 0, 2, 0, 1, 0]\n"
     ]
    }
   ],
   "source": [
    "test_bow = bow_encoding(test_words, vocabulary)\n",
    "print(test_bow)"
   ]
  },
  {
   "cell_type": "code",
   "execution_count": 40,
   "metadata": {},
   "outputs": [
    {
     "data": {
      "text/plain": [
       "5000"
      ]
     },
     "execution_count": 40,
     "metadata": {},
     "output_type": "execute_result"
    }
   ],
   "source": [
    "len(test_bow)"
   ]
  },
  {
   "cell_type": "markdown",
   "metadata": {},
   "source": [
    "So now we know how to construct a bag of words encoding of a user provided review, how to we send it to our endpoint? First, we need to start the endpoint back up."
   ]
  },
  {
   "cell_type": "code",
   "execution_count": null,
   "metadata": {},
   "outputs": [],
   "source": [
    "xgb_predictor = xgb.deploy(initial_instance_count = 1, instance_type = 'ml.m4.xlarge')"
   ]
  },
  {
   "cell_type": "markdown",
   "metadata": {},
   "source": [
    "At this point we could just do the same thing that we did earlier when we tested our deployed model and send `test_bow` to our endpoint using the `xgb_predictor` object. However, when we eventually construct our Lambda function we won't have access to this object, so how do we call a SageMaker endpoint?\n",
    "\n",
    "It turns out that Python functions that are used in Lambda have access to another Amazon library called `boto3`. This library provides an API for working with Amazon services, including SageMaker. To start with, we need to get a handle to the SageMaker runtime."
   ]
  },
  {
   "cell_type": "code",
   "execution_count": 41,
   "metadata": {},
   "outputs": [],
   "source": [
    "import boto3\n",
    "\n",
    "runtime = boto3.Session().client('sagemaker-runtime')"
   ]
  },
  {
   "cell_type": "markdown",
   "metadata": {},
   "source": [
    "And now that we have access to the SageMaker runtime, we can ask it to make use of (invoke) an endpoint that has already been created. However, we need to provide SageMaker with the name of the deployed endpoint. To find this out we can print it out using the `xgb_predictor` object."
   ]
  },
  {
   "cell_type": "code",
   "execution_count": 42,
   "metadata": {},
   "outputs": [
    {
     "data": {
      "text/plain": [
       "'xgboost-2021-01-15-18-57-07-857'"
      ]
     },
     "execution_count": 42,
     "metadata": {},
     "output_type": "execute_result"
    }
   ],
   "source": [
    "xgb_predictor.endpoint"
   ]
  },
  {
   "cell_type": "markdown",
   "metadata": {},
   "source": [
    "Using the SageMaker runtime and the name of our endpoint, we can invoke the endpoint and send it the `test_bow` data."
   ]
  },
  {
   "cell_type": "code",
   "execution_count": 43,
   "metadata": {},
   "outputs": [
    {
     "ename": "ParamValidationError",
     "evalue": "Parameter validation failed:\nInvalid type for parameter Body, value: [0, 0, 0, 0, 0, 0, 0, 0, 0, 0, 0, 0, 0, 0, 0, 0, 0, 0, 0, 0, 0, 0, 0, 0, 0, 0, 0, 0, 0, 0, 0, 0, 0, 0, 0, 0, 0, 0, 0, 0, 0, 0, 0, 0, 0, 0, 0, 0, 0, 0, 0, 0, 0, 0, 0, 0, 0, 0, 0, 0, 0, 0, 0, 0, 0, 0, 0, 0, 0, 0, 0, 0, 0, 0, 0, 0, 0, 0, 0, 0, 0, 0, 0, 0, 0, 0, 0, 0, 0, 0, 0, 0, 0, 0, 0, 0, 0, 0, 0, 0, 0, 0, 0, 0, 0, 0, 0, 0, 0, 0, 0, 0, 0, 0, 0, 0, 0, 0, 0, 0, 0, 0, 0, 0, 0, 0, 0, 0, 0, 0, 0, 0, 0, 0, 0, 0, 0, 0, 0, 0, 0, 0, 0, 0, 0, 0, 0, 0, 0, 0, 0, 0, 0, 0, 0, 0, 0, 0, 0, 0, 0, 0, 0, 0, 0, 0, 0, 0, 0, 0, 0, 0, 0, 0, 0, 0, 0, 0, 0, 0, 0, 0, 0, 0, 0, 0, 0, 0, 0, 0, 0, 0, 0, 0, 0, 0, 0, 0, 0, 0, 0, 0, 0, 0, 0, 0, 0, 0, 0, 0, 0, 0, 0, 0, 0, 0, 0, 0, 0, 0, 0, 0, 0, 0, 0, 0, 1, 0, 0, 0, 0, 0, 0, 0, 0, 0, 0, 0, 0, 0, 0, 0, 0, 0, 0, 0, 0, 0, 0, 0, 0, 0, 0, 0, 0, 0, 1, 0, 0, 0, 0, 0, 0, 0, 0, 0, 0, 0, 0, 0, 0, 0, 0, 0, 0, 0, 0, 0, 0, 0, 0, 0, 0, 0, 0, 0, 0, 0, 0, 0, 0, 0, 0, 0, 0, 0, 0, 0, 0, 0, 0, 0, 0, 0, 0, 0, 0, 0, 0, 0, 0, 0, 0, 0, 0, 0, 0, 0, 0, 0, 0, 0, 0, 0, 0, 0, 0, 0, 0, 0, 0, 0, 0, 0, 0, 0, 0, 0, 0, 0, 0, 0, 0, 0, 0, 0, 0, 0, 0, 0, 0, 0, 0, 0, 0, 0, 0, 0, 0, 0, 0, 0, 0, 0, 0, 0, 0, 0, 0, 0, 0, 0, 0, 0, 0, 0, 0, 0, 0, 0, 0, 0, 0, 0, 0, 0, 0, 0, 0, 0, 0, 0, 0, 0, 0, 0, 0, 0, 0, 0, 0, 0, 0, 0, 0, 0, 0, 0, 0, 0, 0, 0, 0, 0, 0, 0, 0, 0, 0, 0, 0, 0, 0, 0, 0, 0, 0, 0, 0, 0, 0, 0, 0, 0, 0, 0, 0, 0, 0, 0, 0, 0, 0, 0, 0, 0, 0, 0, 0, 0, 0, 0, 0, 0, 0, 0, 0, 0, 0, 0, 0, 0, 0, 0, 0, 0, 0, 0, 0, 0, 0, 0, 0, 0, 0, 0, 0, 0, 0, 0, 0, 0, 0, 0, 0, 0, 0, 0, 0, 0, 0, 0, 0, 0, 0, 0, 0, 0, 0, 0, 0, 0, 0, 0, 0, 0, 0, 0, 0, 0, 0, 0, 0, 0, 0, 0, 0, 0, 0, 0, 0, 0, 0, 0, 0, 0, 0, 0, 0, 0, 0, 0, 0, 0, 0, 0, 0, 0, 0, 0, 0, 0, 0, 0, 0, 0, 0, 0, 0, 0, 0, 0, 0, 0, 0, 0, 0, 0, 0, 0, 0, 0, 0, 0, 0, 0, 0, 0, 0, 0, 0, 0, 0, 0, 0, 0, 0, 0, 0, 0, 0, 0, 0, 0, 0, 0, 0, 0, 0, 0, 0, 0, 0, 0, 0, 0, 0, 0, 0, 0, 0, 0, 0, 0, 0, 0, 0, 0, 0, 0, 0, 0, 0, 0, 0, 0, 0, 0, 0, 0, 0, 0, 0, 0, 0, 0, 0, 0, 0, 0, 0, 0, 0, 0, 0, 0, 1, 0, 0, 0, 0, 0, 0, 0, 0, 0, 0, 0, 0, 0, 0, 0, 0, 0, 0, 0, 0, 0, 0, 0, 0, 0, 0, 0, 0, 0, 0, 0, 0, 0, 0, 0, 0, 0, 0, 0, 0, 0, 0, 0, 0, 0, 0, 0, 0, 0, 0, 0, 0, 0, 0, 0, 0, 0, 0, 0, 0, 0, 0, 0, 0, 0, 0, 0, 0, 0, 0, 0, 0, 0, 0, 0, 0, 0, 0, 0, 0, 0, 0, 0, 0, 0, 0, 0, 0, 0, 0, 0, 0, 0, 0, 0, 0, 0, 0, 0, 0, 0, 0, 0, 0, 0, 0, 0, 0, 0, 0, 0, 0, 0, 0, 0, 0, 0, 0, 0, 0, 0, 0, 0, 0, 0, 0, 0, 0, 0, 0, 0, 0, 0, 0, 0, 0, 0, 0, 0, 0, 0, 0, 0, 0, 0, 0, 0, 0, 0, 0, 0, 0, 0, 0, 0, 0, 0, 0, 0, 0, 0, 0, 0, 0, 0, 0, 0, 0, 0, 0, 0, 0, 0, 0, 0, 0, 0, 0, 0, 0, 0, 0, 0, 0, 0, 0, 0, 0, 0, 0, 0, 0, 0, 0, 0, 0, 0, 0, 0, 0, 0, 0, 0, 0, 0, 0, 0, 0, 0, 0, 0, 0, 0, 0, 0, 0, 0, 0, 0, 0, 0, 0, 0, 0, 0, 0, 0, 0, 0, 0, 0, 0, 0, 0, 0, 0, 0, 0, 0, 0, 0, 0, 0, 0, 0, 0, 0, 0, 0, 0, 0, 0, 0, 1, 0, 0, 0, 0, 0, 0, 0, 0, 0, 0, 0, 0, 0, 0, 0, 0, 0, 0, 0, 0, 0, 0, 0, 0, 0, 0, 0, 0, 0, 0, 0, 0, 0, 0, 0, 0, 0, 0, 0, 0, 0, 0, 0, 0, 0, 0, 0, 0, 0, 0, 0, 0, 0, 0, 0, 0, 0, 0, 0, 0, 0, 0, 0, 0, 0, 0, 0, 0, 0, 0, 0, 0, 0, 0, 0, 0, 0, 0, 0, 0, 0, 0, 0, 0, 0, 0, 1, 0, 0, 0, 0, 0, 0, 0, 0, 0, 0, 0, 0, 0, 0, 0, 0, 0, 0, 0, 0, 0, 0, 0, 0, 0, 0, 0, 0, 0, 0, 0, 0, 0, 0, 0, 0, 0, 0, 0, 0, 0, 0, 0, 0, 0, 0, 0, 0, 0, 0, 0, 0, 0, 0, 0, 0, 0, 0, 0, 0, 0, 0, 0, 0, 0, 0, 0, 0, 0, 0, 0, 0, 0, 0, 0, 0, 0, 0, 0, 0, 0, 0, 0, 0, 0, 0, 0, 0, 0, 0, 0, 0, 0, 0, 0, 0, 0, 0, 0, 0, 0, 0, 0, 0, 0, 0, 0, 0, 0, 0, 0, 0, 0, 0, 0, 0, 0, 0, 0, 0, 0, 0, 0, 0, 0, 0, 0, 0, 0, 0, 0, 0, 0, 0, 0, 0, 0, 0, 0, 0, 0, 0, 0, 0, 0, 0, 0, 0, 0, 0, 0, 0, 0, 0, 0, 0, 0, 0, 0, 0, 0, 0, 0, 0, 0, 0, 0, 0, 0, 0, 0, 0, 0, 0, 0, 0, 0, 0, 0, 0, 0, 0, 0, 0, 0, 0, 0, 0, 0, 0, 0, 0, 0, 0, 0, 0, 0, 0, 0, 0, 0, 0, 0, 0, 0, 0, 0, 0, 0, 0, 0, 0, 0, 0, 0, 0, 0, 0, 0, 0, 0, 0, 0, 0, 0, 0, 0, 0, 0, 0, 0, 0, 0, 0, 0, 0, 0, 0, 0, 0, 0, 0, 0, 0, 0, 0, 0, 0, 0, 0, 0, 0, 1, 0, 0, 0, 0, 0, 0, 0, 0, 0, 0, 0, 0, 0, 0, 0, 0, 0, 0, 0, 0, 0, 0, 0, 0, 0, 0, 0, 0, 0, 0, 0, 0, 0, 0, 0, 0, 0, 0, 0, 0, 0, 0, 0, 0, 0, 0, 0, 0, 0, 0, 0, 0, 0, 0, 0, 1, 0, 0, 0, 0, 0, 0, 0, 0, 0, 0, 0, 0, 0, 0, 0, 0, 0, 0, 0, 0, 0, 0, 0, 0, 0, 0, 0, 0, 0, 0, 0, 0, 0, 0, 0, 0, 0, 0, 0, 0, 0, 0, 0, 0, 0, 0, 0, 0, 0, 0, 0, 0, 0, 0, 0, 0, 0, 0, 0, 0, 0, 0, 0, 0, 0, 0, 0, 0, 0, 0, 0, 0, 0, 0, 0, 0, 0, 0, 0, 0, 0, 0, 0, 0, 0, 0, 0, 0, 0, 0, 0, 0, 0, 0, 0, 0, 0, 0, 0, 0, 0, 0, 0, 0, 0, 0, 0, 0, 0, 0, 0, 0, 0, 0, 0, 0, 0, 0, 0, 0, 0, 0, 0, 0, 0, 0, 0, 0, 0, 0, 0, 0, 0, 0, 0, 0, 0, 0, 0, 0, 0, 0, 0, 0, 0, 0, 0, 0, 0, 0, 0, 0, 0, 0, 0, 0, 0, 0, 0, 0, 0, 0, 0, 0, 0, 0, 0, 0, 0, 0, 0, 0, 0, 0, 0, 0, 0, 0, 0, 0, 0, 0, 0, 0, 0, 0, 0, 0, 0, 0, 0, 0, 0, 0, 0, 0, 0, 0, 0, 0, 0, 0, 0, 0, 0, 0, 0, 0, 0, 0, 0, 0, 0, 0, 0, 0, 0, 0, 0, 0, 0, 0, 0, 0, 0, 0, 0, 0, 0, 0, 0, 0, 0, 0, 0, 0, 0, 0, 0, 0, 0, 0, 0, 0, 0, 0, 0, 0, 0, 0, 0, 0, 0, 0, 0, 0, 0, 0, 0, 0, 0, 0, 0, 0, 0, 0, 0, 0, 0, 0, 0, 0, 0, 0, 0, 0, 0, 0, 0, 0, 0, 0, 0, 0, 0, 0, 0, 0, 0, 0, 0, 0, 0, 0, 0, 0, 0, 0, 0, 0, 0, 0, 0, 0, 0, 0, 0, 0, 0, 0, 0, 0, 0, 0, 0, 0, 0, 0, 0, 0, 0, 0, 0, 0, 0, 0, 0, 0, 0, 0, 0, 0, 0, 0, 0, 0, 0, 0, 0, 0, 0, 0, 0, 0, 0, 0, 0, 0, 0, 0, 0, 0, 0, 0, 0, 0, 0, 0, 0, 0, 0, 0, 0, 0, 0, 0, 0, 0, 0, 0, 0, 0, 0, 0, 0, 0, 0, 0, 0, 0, 0, 0, 0, 0, 0, 0, 0, 0, 0, 0, 0, 0, 0, 0, 0, 0, 0, 0, 0, 0, 0, 0, 0, 0, 0, 0, 0, 0, 0, 0, 0, 0, 0, 0, 0, 0, 0, 0, 0, 0, 0, 0, 0, 0, 0, 0, 0, 0, 0, 0, 0, 0, 0, 0, 0, 0, 0, 0, 0, 0, 0, 0, 0, 0, 0, 0, 0, 0, 0, 0, 0, 0, 0, 0, 0, 0, 0, 0, 0, 0, 0, 0, 0, 0, 0, 0, 0, 0, 0, 0, 0, 0, 0, 0, 0, 0, 0, 0, 0, 0, 0, 0, 0, 0, 0, 0, 0, 0, 0, 0, 0, 0, 0, 0, 0, 0, 0, 0, 0, 0, 0, 0, 0, 0, 0, 0, 0, 0, 0, 0, 0, 0, 0, 0, 0, 0, 0, 0, 0, 0, 0, 0, 0, 0, 0, 0, 0, 0, 0, 0, 0, 0, 0, 0, 0, 0, 0, 0, 0, 0, 0, 0, 0, 0, 0, 0, 0, 0, 0, 0, 0, 0, 0, 0, 0, 0, 0, 0, 0, 0, 0, 0, 0, 0, 0, 0, 0, 0, 0, 0, 0, 0, 0, 0, 0, 0, 0, 0, 0, 0, 0, 0, 0, 0, 0, 0, 0, 0, 0, 0, 0, 0, 0, 0, 0, 0, 0, 0, 0, 0, 0, 0, 0, 0, 0, 0, 0, 0, 0, 0, 0, 0, 0, 0, 0, 0, 0, 0, 0, 0, 0, 0, 0, 0, 0, 0, 0, 0, 0, 0, 0, 0, 0, 0, 0, 0, 0, 0, 0, 0, 0, 0, 0, 0, 0, 0, 0, 0, 0, 0, 0, 0, 0, 0, 0, 0, 0, 0, 0, 0, 0, 0, 0, 0, 0, 0, 0, 0, 0, 0, 0, 0, 0, 0, 0, 0, 0, 0, 0, 0, 0, 1, 0, 0, 0, 0, 0, 0, 0, 0, 0, 0, 0, 0, 0, 0, 0, 0, 0, 0, 0, 0, 0, 0, 0, 0, 0, 0, 0, 0, 0, 0, 0, 0, 0, 0, 0, 0, 0, 0, 0, 0, 0, 0, 0, 0, 0, 0, 0, 0, 0, 0, 0, 0, 0, 0, 0, 0, 0, 0, 0, 0, 0, 0, 0, 0, 0, 0, 0, 0, 0, 0, 0, 0, 0, 0, 1, 0, 0, 0, 0, 0, 0, 0, 0, 0, 0, 0, 0, 0, 0, 0, 0, 0, 0, 0, 0, 1, 0, 0, 1, 0, 0, 0, 0, 0, 0, 0, 0, 0, 0, 0, 0, 0, 0, 0, 0, 0, 0, 0, 0, 0, 0, 0, 0, 0, 0, 0, 0, 0, 0, 0, 0, 0, 0, 0, 0, 0, 0, 0, 0, 0, 0, 0, 0, 0, 0, 0, 0, 0, 0, 0, 0, 0, 0, 0, 0, 0, 0, 0, 0, 0, 0, 0, 0, 0, 0, 0, 0, 0, 0, 0, 0, 0, 0, 0, 0, 0, 0, 0, 0, 0, 0, 0, 0, 0, 0, 0, 0, 0, 0, 0, 0, 0, 0, 0, 0, 0, 0, 0, 0, 0, 0, 0, 0, 0, 0, 0, 0, 0, 0, 0, 0, 0, 0, 0, 0, 0, 0, 0, 0, 0, 0, 0, 0, 0, 0, 0, 0, 0, 0, 0, 0, 0, 0, 0, 0, 0, 0, 0, 0, 0, 0, 0, 0, 0, 0, 0, 0, 0, 0, 0, 0, 0, 0, 0, 0, 0, 0, 0, 0, 0, 0, 0, 0, 0, 0, 0, 0, 0, 0, 0, 0, 0, 0, 0, 0, 0, 0, 0, 0, 0, 0, 0, 0, 0, 0, 0, 0, 0, 0, 0, 0, 0, 0, 0, 0, 0, 0, 0, 0, 0, 0, 0, 0, 0, 0, 0, 0, 0, 0, 0, 0, 0, 0, 0, 0, 0, 0, 0, 0, 0, 0, 0, 0, 0, 0, 0, 0, 0, 0, 0, 0, 0, 0, 0, 0, 0, 0, 0, 0, 0, 0, 0, 0, 0, 0, 0, 0, 0, 0, 0, 0, 0, 0, 0, 0, 0, 0, 0, 0, 0, 0, 0, 0, 0, 0, 0, 0, 0, 0, 0, 0, 0, 0, 0, 0, 0, 0, 0, 0, 0, 0, 0, 0, 0, 0, 0, 0, 0, 0, 0, 0, 0, 0, 0, 0, 0, 0, 0, 0, 0, 0, 0, 0, 0, 0, 0, 0, 0, 0, 0, 0, 0, 0, 0, 0, 0, 0, 0, 0, 0, 0, 0, 0, 0, 0, 0, 0, 0, 0, 0, 0, 0, 0, 0, 0, 0, 0, 0, 0, 0, 0, 0, 0, 0, 0, 0, 0, 0, 0, 0, 0, 0, 0, 0, 0, 0, 0, 0, 0, 0, 0, 0, 0, 0, 0, 0, 0, 0, 0, 0, 0, 0, 0, 0, 0, 0, 0, 0, 0, 0, 0, 0, 0, 0, 0, 0, 0, 0, 0, 0, 0, 0, 0, 0, 0, 0, 0, 0, 0, 0, 0, 0, 0, 0, 0, 0, 0, 0, 0, 0, 0, 0, 0, 0, 0, 0, 0, 0, 0, 0, 0, 0, 0, 0, 0, 0, 0, 0, 0, 0, 0, 0, 0, 0, 0, 0, 0, 0, 0, 0, 0, 0, 0, 0, 0, 0, 0, 0, 0, 0, 0, 0, 0, 0, 0, 0, 0, 0, 0, 0, 0, 0, 0, 0, 0, 1, 0, 0, 0, 0, 0, 0, 0, 0, 0, 0, 0, 0, 0, 0, 0, 0, 0, 0, 0, 0, 0, 0, 0, 0, 0, 0, 0, 0, 0, 0, 0, 0, 0, 0, 0, 0, 0, 0, 0, 0, 0, 0, 0, 0, 0, 0, 0, 0, 0, 0, 0, 0, 0, 0, 0, 0, 0, 0, 0, 0, 0, 0, 0, 0, 0, 0, 0, 0, 0, 0, 0, 0, 0, 0, 0, 0, 0, 0, 0, 0, 0, 0, 0, 0, 0, 0, 0, 0, 0, 0, 0, 0, 0, 0, 0, 0, 0, 0, 0, 0, 0, 0, 0, 0, 0, 0, 0, 0, 0, 0, 0, 0, 0, 0, 0, 0, 0, 0, 0, 0, 0, 0, 0, 0, 0, 0, 0, 0, 0, 0, 0, 0, 0, 0, 0, 0, 0, 0, 0, 0, 0, 0, 0, 0, 0, 0, 0, 0, 0, 0, 0, 0, 0, 0, 0, 0, 0, 0, 0, 0, 0, 0, 0, 0, 0, 0, 0, 0, 0, 0, 0, 0, 0, 0, 0, 0, 0, 0, 0, 0, 0, 0, 0, 0, 0, 0, 0, 0, 0, 0, 0, 0, 0, 0, 0, 0, 0, 0, 0, 0, 0, 0, 0, 0, 0, 0, 0, 0, 0, 0, 0, 0, 0, 0, 0, 0, 0, 0, 0, 0, 0, 0, 0, 0, 0, 0, 0, 0, 0, 0, 0, 0, 0, 0, 0, 0, 0, 0, 0, 0, 0, 0, 0, 0, 0, 0, 0, 0, 0, 0, 0, 0, 0, 0, 0, 0, 0, 0, 0, 0, 0, 0, 0, 0, 0, 0, 0, 0, 0, 0, 0, 0, 0, 0, 0, 0, 0, 0, 0, 0, 0, 0, 0, 0, 0, 0, 0, 0, 0, 0, 0, 0, 0, 0, 0, 0, 0, 0, 0, 0, 0, 0, 0, 0, 0, 0, 0, 0, 0, 0, 0, 0, 0, 0, 0, 0, 0, 0, 0, 0, 0, 0, 0, 0, 0, 0, 0, 0, 0, 0, 0, 0, 0, 0, 0, 0, 0, 0, 0, 0, 0, 0, 0, 0, 0, 0, 0, 0, 0, 0, 0, 0, 0, 0, 0, 0, 0, 0, 0, 0, 0, 0, 0, 0, 0, 0, 0, 0, 0, 0, 0, 0, 0, 0, 0, 0, 0, 0, 0, 0, 0, 0, 0, 0, 0, 0, 0, 0, 0, 0, 0, 0, 0, 0, 0, 0, 0, 0, 0, 0, 0, 0, 0, 0, 0, 0, 0, 0, 0, 0, 0, 0, 0, 0, 0, 0, 0, 0, 0, 0, 0, 0, 0, 0, 0, 0, 0, 0, 0, 0, 0, 0, 0, 0, 0, 0, 0, 0, 0, 0, 0, 0, 0, 0, 0, 0, 0, 0, 0, 0, 0, 0, 0, 0, 0, 0, 0, 0, 0, 0, 0, 0, 0, 0, 0, 0, 0, 0, 0, 0, 0, 0, 0, 0, 0, 0, 0, 0, 0, 0, 0, 0, 0, 0, 0, 0, 0, 0, 0, 0, 0, 0, 0, 0, 0, 0, 0, 0, 0, 0, 0, 0, 0, 0, 0, 0, 0, 0, 0, 0, 0, 0, 1, 0, 0, 0, 0, 0, 0, 0, 0, 0, 0, 0, 0, 0, 0, 0, 0, 0, 0, 0, 0, 0, 0, 0, 0, 0, 0, 0, 0, 0, 0, 0, 0, 0, 0, 0, 2, 0, 0, 0, 0, 0, 0, 0, 0, 0, 0, 0, 0, 0, 0, 0, 0, 0, 0, 0, 0, 0, 0, 0, 0, 0, 0, 0, 0, 0, 0, 0, 0, 0, 0, 0, 0, 0, 0, 0, 0, 1, 0, 0, 0, 0, 0, 0, 0, 0, 0, 0, 0, 0, 0, 0, 0, 0, 0, 0, 0, 0, 0, 0, 0, 0, 0, 0, 0, 0, 0, 0, 0, 0, 0, 0, 0, 0, 0, 0, 0, 0, 0, 0, 0, 0, 0, 0, 0, 0, 0, 0, 0, 0, 0, 0, 0, 0, 0, 0, 0, 0, 0, 0, 0, 0, 0, 0, 0, 0, 0, 0, 0, 0, 0, 0, 0, 0, 0, 0, 0, 0, 0, 0, 0, 0, 0, 0, 0, 0, 0, 0, 0, 0, 0, 0, 0, 0, 0, 0, 0, 0, 0, 0, 0, 0, 0, 0, 0, 0, 0, 0, 0, 0, 0, 0, 0, 0, 0, 0, 0, 0, 0, 0, 0, 0, 0, 0, 0, 0, 0, 0, 0, 0, 0, 0, 0, 0, 0, 0, 0, 0, 0, 0, 0, 0, 0, 0, 0, 0, 0, 0, 0, 0, 0, 0, 0, 0, 0, 0, 0, 0, 0, 0, 0, 0, 0, 0, 0, 0, 0, 0, 0, 0, 0, 0, 0, 0, 0, 0, 0, 0, 0, 0, 0, 0, 0, 0, 0, 0, 0, 0, 0, 0, 0, 0, 0, 0, 0, 0, 0, 0, 0, 0, 0, 0, 0, 0, 0, 0, 0, 0, 0, 0, 0, 0, 0, 0, 0, 0, 0, 0, 0, 0, 0, 0, 0, 0, 0, 0, 0, 0, 0, 0, 0, 0, 0, 0, 0, 0, 0, 0, 0, 0, 0, 0, 0, 0, 0, 0, 0, 0, 0, 0, 0, 0, 0, 0, 0, 0, 0, 0, 0, 0, 0, 0, 0, 0, 0, 0, 0, 0, 0, 0, 0, 0, 0, 0, 0, 0, 0, 0, 0, 0, 0, 0, 0, 0, 0, 0, 0, 0, 0, 0, 0, 0, 0, 0, 0, 0, 0, 0, 0, 0, 0, 0, 0, 0, 0, 0, 0, 0, 0, 0, 0, 0, 0, 0, 0, 0, 0, 0, 0, 0, 0, 0, 0, 0, 0, 0, 0, 0, 0, 0, 0, 0, 0, 0, 0, 0, 0, 0, 0, 0, 0, 0, 0, 0, 0, 0, 0, 0, 0, 0, 0, 0, 0, 0, 0, 0, 0, 0, 0, 0, 0, 0, 0, 0, 0, 0, 0, 0, 0, 0, 0, 0, 0, 0, 0, 0, 0, 0, 0, 0, 0, 0, 0, 0, 0, 0, 0, 0, 0, 0, 0, 0, 0, 0, 0, 0, 0, 0, 0, 0, 0, 0, 0, 0, 0, 0, 0, 0, 0, 0, 0, 0, 0, 0, 0, 0, 0, 0, 0, 0, 0, 0, 0, 0, 0, 0, 0, 0, 0, 0, 0, 0, 0, 0, 0, 0, 0, 0, 0, 0, 0, 0, 0, 0, 0, 0, 0, 0, 0, 0, 0, 0, 0, 0, 0, 0, 0, 0, 0, 0, 0, 0, 0, 0, 0, 0, 0, 0, 0, 0, 0, 0, 0, 0, 0, 0, 0, 0, 0, 0, 0, 0, 0, 0, 0, 0, 0, 0, 0, 0, 0, 0, 0, 0, 0, 1, 0, 0, 0, 0, 0, 0, 0, 0, 0, 0, 0, 0, 0, 0, 0, 0, 0, 0, 0, 0, 0, 0, 0, 0, 0, 0, 0, 0, 0, 0, 0, 0, 0, 0, 0, 0, 0, 0, 0, 0, 0, 0, 0, 0, 0, 0, 0, 0, 0, 0, 0, 0, 0, 0, 0, 0, 0, 0, 0, 0, 0, 0, 0, 0, 0, 0, 0, 0, 0, 0, 0, 0, 0, 0, 0, 0, 0, 0, 0, 0, 0, 0, 0, 0, 0, 0, 0, 0, 0, 0, 0, 0, 0, 0, 0, 0, 0, 0, 0, 0, 0, 0, 0, 0, 0, 0, 0, 0, 0, 0, 2, 0, 0, 0, 0, 0, 0, 0, 0, 0, 0, 0, 0, 0, 0, 0, 0, 0, 0, 0, 0, 0, 0, 0, 0, 0, 0, 0, 0, 0, 0, 0, 0, 0, 0, 0, 0, 0, 0, 0, 0, 0, 0, 0, 0, 0, 0, 0, 0, 0, 0, 0, 0, 0, 0, 0, 0, 0, 0, 0, 0, 0, 0, 0, 0, 0, 0, 0, 0, 0, 0, 0, 0, 0, 0, 0, 0, 0, 0, 0, 0, 0, 0, 0, 0, 0, 0, 0, 0, 0, 0, 0, 0, 0, 0, 0, 0, 0, 0, 0, 0, 0, 0, 0, 0, 0, 0, 0, 0, 0, 0, 0, 0, 0, 0, 0, 0, 0, 0, 0, 0, 0, 0, 0, 0, 0, 0, 0, 0, 0, 0, 0, 0, 0, 0, 0, 0, 0, 0, 0, 0, 0, 0, 0, 0, 0, 0, 0, 0, 0, 0, 0, 0, 0, 0, 0, 0, 0, 0, 0, 0, 0, 0, 0, 0, 0, 0, 0, 0, 0, 0, 0, 0, 0, 0, 0, 0, 0, 0, 0, 0, 0, 0, 0, 0, 0, 0, 0, 0, 0, 0, 0, 0, 0, 0, 0, 0, 0, 0, 0, 0, 0, 0, 0, 0, 0, 0, 0, 0, 0, 0, 0, 0, 0, 0, 0, 0, 0, 0, 0, 0, 0, 0, 0, 0, 0, 0, 0, 0, 0, 0, 0, 0, 0, 0, 0, 0, 0, 0, 0, 0, 0, 0, 0, 0, 0, 0, 0, 0, 0, 0, 0, 0, 0, 0, 0, 0, 0, 0, 0, 0, 0, 0, 0, 0, 0, 0, 0, 0, 0, 0, 0, 0, 0, 0, 0, 0, 0, 0, 0, 0, 0, 0, 0, 0, 0, 0, 0, 0, 0, 0, 0, 0, 0, 0, 0, 0, 0, 0, 0, 0, 0, 0, 0, 0, 0, 0, 0, 0, 0, 0, 0, 0, 0, 0, 0, 0, 0, 0, 0, 0, 0, 0, 0, 0, 0, 0, 0, 0, 0, 0, 0, 0, 0, 0, 0, 0, 0, 0, 0, 0, 0, 0, 0, 0, 0, 0, 0, 0, 0, 0, 0, 0, 0, 0, 0, 0, 0, 0, 0, 0, 0, 0, 0, 0, 0, 0, 0, 0, 0, 0, 0, 0, 0, 0, 0, 0, 0, 0, 0, 0, 0, 0, 0, 0, 0, 0, 0, 0, 0, 0, 0, 0, 0, 0, 0, 0, 0, 0, 0, 0, 0, 0, 0, 0, 0, 0, 0, 0, 0, 0, 0, 0, 0, 0, 0, 0, 0, 0, 0, 0, 0, 0, 0, 0, 0, 0, 0, 0, 0, 0, 0, 0, 0, 0, 0, 0, 0, 0, 0, 0, 0, 0, 0, 0, 0, 0, 0, 0, 0, 0, 0, 0, 0, 0, 0, 0, 0, 0, 0, 0, 0, 0, 0, 0, 0, 0, 0, 0, 0, 0, 0, 0, 0, 0, 0, 0, 0, 0, 0, 0, 0, 0, 0, 0, 0, 0, 0, 0, 0, 0, 0, 0, 0, 0, 0, 0, 0, 0, 0, 0, 0, 0, 0, 0, 0, 0, 0, 0, 0, 0, 0, 0, 0, 0, 0, 0, 0, 0, 0, 0, 0, 0, 0, 0, 0, 0, 0, 0, 0, 0, 0, 0, 0, 0, 0, 0, 0, 0, 0, 0, 0, 0, 0, 0, 0, 0, 0, 0, 0, 0, 0, 0, 0, 0, 0, 0, 0, 0, 0, 0, 0, 0, 0, 0, 0, 0, 0, 0, 0, 0, 0, 0, 0, 0, 0, 0, 0, 0, 0, 0, 0, 0, 0, 0, 0, 0, 0, 0, 0, 0, 0, 0, 0, 0, 0, 0, 0, 0, 0, 0, 0, 0, 0, 0, 0, 0, 0, 0, 0, 0, 0, 0, 0, 0, 0, 0, 0, 0, 0, 0, 0, 0, 0, 0, 0, 0, 0, 0, 0, 0, 0, 0, 0, 0, 0, 0, 0, 0, 0, 0, 0, 0, 0, 0, 0, 0, 0, 0, 0, 0, 0, 0, 0, 0, 0, 0, 0, 0, 0, 0, 0, 0, 0, 0, 0, 0, 0, 0, 0, 0, 0, 0, 0, 0, 0, 0, 0, 0, 0, 0, 0, 0, 0, 0, 0, 0, 0, 0, 0, 0, 1, 0, 0, 0, 0, 0, 0, 0, 0, 0, 0, 0, 0, 0, 0, 0, 0, 0, 0, 0, 0, 0, 0, 0, 0, 0, 0, 0, 0, 0, 0, 0, 0, 0, 0, 0, 0, 0, 0, 0, 0, 0, 0, 0, 0, 0, 0, 0, 0, 0, 0, 0, 0, 0, 0, 0, 0, 0, 0, 0, 0, 0, 0, 0, 0, 0, 0, 0, 0, 0, 0, 0, 0, 0, 0, 0, 0, 0, 0, 0, 0, 0, 0, 0, 0, 0, 0, 0, 0, 0, 0, 0, 0, 0, 0, 0, 0, 0, 0, 0, 0, 0, 0, 0, 0, 0, 0, 0, 1, 0, 0, 0, 0, 0, 0, 0, 0, 0, 0, 0, 0, 0, 0, 0, 0, 0, 0, 0, 0, 0, 0, 0, 0, 0, 0, 0, 0, 0, 0, 0, 0, 0, 0, 0, 0, 0, 0, 0, 0, 0, 0, 0, 0, 0, 0, 0, 0, 0, 0, 0, 0, 0, 0, 0, 0, 0, 0, 0, 0, 0, 0, 0, 0, 0, 0, 0, 0, 0, 0, 0, 0, 0, 0, 0, 0, 0, 0, 0, 0, 0, 0, 0, 0, 0, 0, 0, 0, 0, 0, 0, 0, 0, 0, 0, 0, 0, 0, 0, 0, 0, 0, 0, 0, 0, 0, 0, 0, 0, 0, 0, 0, 0, 0, 0, 0, 0, 0, 0, 0, 0, 0, 0, 0, 0, 0, 0, 0, 0, 0, 0, 0, 0, 0, 0, 0, 0, 0, 0, 0, 0, 0, 0, 0, 0, 0, 0, 0, 0, 0, 0, 0, 0, 0, 0, 0, 0, 0, 0, 0, 0, 0, 0, 0, 0, 0, 0, 0, 0, 0, 0, 0, 0, 0, 0, 0, 0, 0, 0, 0, 0, 0, 0, 0, 0, 0, 0, 0, 0, 0, 0, 0, 0, 0, 0, 0, 0, 0, 0, 0, 0, 0, 0, 0, 0, 0, 0, 0, 0, 0, 0, 0, 0, 0, 0, 0, 0, 0, 0, 0, 0, 0, 0, 0, 0, 0, 0, 0, 0, 0, 0, 0, 0, 0, 0, 0, 0, 0, 0, 0, 0, 0, 0, 0, 0, 0, 0, 0, 0, 0, 0, 0, 0, 0, 0, 0, 0, 0, 0, 0, 0, 0, 0, 0, 0, 0, 0, 0, 0, 0, 0, 0, 0, 0, 0, 0, 0, 0, 0, 0, 0, 0, 0, 0, 0, 0, 0, 0, 0, 0, 0, 0, 0, 0, 0, 0, 0, 0, 0, 0, 0, 0, 0, 0, 0, 0, 0, 0, 0, 0, 0, 0, 0, 0, 0, 0, 0, 0, 0, 0, 0, 0, 0, 0, 0, 0, 0, 0, 0, 0, 0, 0, 0, 0, 0, 0, 0, 0, 0, 0, 0, 0, 0, 0, 0, 0, 0, 0, 0, 0, 0, 0, 0, 0, 0, 0, 0, 0, 0, 0, 0, 0, 0, 0, 0, 0, 0, 0, 0, 0, 0, 0, 0, 0, 0, 0, 0, 0, 0, 0, 0, 0, 0, 0, 0, 0, 0, 0, 0, 0, 0, 0, 0, 0, 0, 0, 0, 0, 0, 0, 0, 0, 0, 0, 0, 0, 0, 0, 0, 0, 0, 0, 0, 0, 0, 0, 0, 0, 0, 0, 0, 0, 0, 0, 0, 0, 0, 0, 0, 0, 0, 0, 0, 0, 0, 0, 0, 0, 0, 0, 0, 0, 0, 0, 0, 0, 0, 0, 0, 0, 0, 0, 0, 0, 0, 0, 0, 0, 0, 0, 0, 0, 0, 2, 0, 1, 0], type: <class 'list'>, valid types: <class 'bytes'>, <class 'bytearray'>, file-like object",
     "output_type": "error",
     "traceback": [
      "\u001b[0;31m---------------------------------------------------------------------------\u001b[0m",
      "\u001b[0;31mParamValidationError\u001b[0m                      Traceback (most recent call last)",
      "\u001b[0;32m<ipython-input-43-c9ab54ae3a48>\u001b[0m in \u001b[0;36m<module>\u001b[0;34m\u001b[0m\n\u001b[1;32m      1\u001b[0m response = runtime.invoke_endpoint(EndpointName = xgb_predictor.endpoint, # The name of the endpoint we created\n\u001b[1;32m      2\u001b[0m                                        \u001b[0mContentType\u001b[0m \u001b[0;34m=\u001b[0m \u001b[0;34m'text/csv'\u001b[0m\u001b[0;34m,\u001b[0m                     \u001b[0;31m# The data format that is expected\u001b[0m\u001b[0;34m\u001b[0m\u001b[0;34m\u001b[0m\u001b[0m\n\u001b[0;32m----> 3\u001b[0;31m                                        Body = test_bow)\n\u001b[0m",
      "\u001b[0;32m~/anaconda3/envs/python3/lib/python3.6/site-packages/botocore/client.py\u001b[0m in \u001b[0;36m_api_call\u001b[0;34m(self, *args, **kwargs)\u001b[0m\n\u001b[1;32m    355\u001b[0m                     \"%s() only accepts keyword arguments.\" % py_operation_name)\n\u001b[1;32m    356\u001b[0m             \u001b[0;31m# The \"self\" in this scope is referring to the BaseClient.\u001b[0m\u001b[0;34m\u001b[0m\u001b[0;34m\u001b[0m\u001b[0;34m\u001b[0m\u001b[0m\n\u001b[0;32m--> 357\u001b[0;31m             \u001b[0;32mreturn\u001b[0m \u001b[0mself\u001b[0m\u001b[0;34m.\u001b[0m\u001b[0m_make_api_call\u001b[0m\u001b[0;34m(\u001b[0m\u001b[0moperation_name\u001b[0m\u001b[0;34m,\u001b[0m \u001b[0mkwargs\u001b[0m\u001b[0;34m)\u001b[0m\u001b[0;34m\u001b[0m\u001b[0;34m\u001b[0m\u001b[0m\n\u001b[0m\u001b[1;32m    358\u001b[0m \u001b[0;34m\u001b[0m\u001b[0m\n\u001b[1;32m    359\u001b[0m         \u001b[0m_api_call\u001b[0m\u001b[0;34m.\u001b[0m\u001b[0m__name__\u001b[0m \u001b[0;34m=\u001b[0m \u001b[0mstr\u001b[0m\u001b[0;34m(\u001b[0m\u001b[0mpy_operation_name\u001b[0m\u001b[0;34m)\u001b[0m\u001b[0;34m\u001b[0m\u001b[0;34m\u001b[0m\u001b[0m\n",
      "\u001b[0;32m~/anaconda3/envs/python3/lib/python3.6/site-packages/botocore/client.py\u001b[0m in \u001b[0;36m_make_api_call\u001b[0;34m(self, operation_name, api_params)\u001b[0m\n\u001b[1;32m    647\u001b[0m         }\n\u001b[1;32m    648\u001b[0m         request_dict = self._convert_to_request_dict(\n\u001b[0;32m--> 649\u001b[0;31m             api_params, operation_model, context=request_context)\n\u001b[0m\u001b[1;32m    650\u001b[0m \u001b[0;34m\u001b[0m\u001b[0m\n\u001b[1;32m    651\u001b[0m         \u001b[0mservice_id\u001b[0m \u001b[0;34m=\u001b[0m \u001b[0mself\u001b[0m\u001b[0;34m.\u001b[0m\u001b[0m_service_model\u001b[0m\u001b[0;34m.\u001b[0m\u001b[0mservice_id\u001b[0m\u001b[0;34m.\u001b[0m\u001b[0mhyphenize\u001b[0m\u001b[0;34m(\u001b[0m\u001b[0;34m)\u001b[0m\u001b[0;34m\u001b[0m\u001b[0;34m\u001b[0m\u001b[0m\n",
      "\u001b[0;32m~/anaconda3/envs/python3/lib/python3.6/site-packages/botocore/client.py\u001b[0m in \u001b[0;36m_convert_to_request_dict\u001b[0;34m(self, api_params, operation_model, context)\u001b[0m\n\u001b[1;32m    695\u001b[0m             api_params, operation_model, context)\n\u001b[1;32m    696\u001b[0m         request_dict = self._serializer.serialize_to_request(\n\u001b[0;32m--> 697\u001b[0;31m             api_params, operation_model)\n\u001b[0m\u001b[1;32m    698\u001b[0m         \u001b[0;32mif\u001b[0m \u001b[0;32mnot\u001b[0m \u001b[0mself\u001b[0m\u001b[0;34m.\u001b[0m\u001b[0m_client_config\u001b[0m\u001b[0;34m.\u001b[0m\u001b[0minject_host_prefix\u001b[0m\u001b[0;34m:\u001b[0m\u001b[0;34m\u001b[0m\u001b[0;34m\u001b[0m\u001b[0m\n\u001b[1;32m    699\u001b[0m             \u001b[0mrequest_dict\u001b[0m\u001b[0;34m.\u001b[0m\u001b[0mpop\u001b[0m\u001b[0;34m(\u001b[0m\u001b[0;34m'host_prefix'\u001b[0m\u001b[0;34m,\u001b[0m \u001b[0;32mNone\u001b[0m\u001b[0;34m)\u001b[0m\u001b[0;34m\u001b[0m\u001b[0;34m\u001b[0m\u001b[0m\n",
      "\u001b[0;32m~/anaconda3/envs/python3/lib/python3.6/site-packages/botocore/validate.py\u001b[0m in \u001b[0;36mserialize_to_request\u001b[0;34m(self, parameters, operation_model)\u001b[0m\n\u001b[1;32m    295\u001b[0m                                                     operation_model.input_shape)\n\u001b[1;32m    296\u001b[0m             \u001b[0;32mif\u001b[0m \u001b[0mreport\u001b[0m\u001b[0;34m.\u001b[0m\u001b[0mhas_errors\u001b[0m\u001b[0;34m(\u001b[0m\u001b[0;34m)\u001b[0m\u001b[0;34m:\u001b[0m\u001b[0;34m\u001b[0m\u001b[0;34m\u001b[0m\u001b[0m\n\u001b[0;32m--> 297\u001b[0;31m                 \u001b[0;32mraise\u001b[0m \u001b[0mParamValidationError\u001b[0m\u001b[0;34m(\u001b[0m\u001b[0mreport\u001b[0m\u001b[0;34m=\u001b[0m\u001b[0mreport\u001b[0m\u001b[0;34m.\u001b[0m\u001b[0mgenerate_report\u001b[0m\u001b[0;34m(\u001b[0m\u001b[0;34m)\u001b[0m\u001b[0;34m)\u001b[0m\u001b[0;34m\u001b[0m\u001b[0;34m\u001b[0m\u001b[0m\n\u001b[0m\u001b[1;32m    298\u001b[0m         return self._serializer.serialize_to_request(parameters,\n\u001b[1;32m    299\u001b[0m                                                      operation_model)\n",
      "\u001b[0;31mParamValidationError\u001b[0m: Parameter validation failed:\nInvalid type for parameter Body, value: [0, 0, 0, 0, 0, 0, 0, 0, 0, 0, 0, 0, 0, 0, 0, 0, 0, 0, 0, 0, 0, 0, 0, 0, 0, 0, 0, 0, 0, 0, 0, 0, 0, 0, 0, 0, 0, 0, 0, 0, 0, 0, 0, 0, 0, 0, 0, 0, 0, 0, 0, 0, 0, 0, 0, 0, 0, 0, 0, 0, 0, 0, 0, 0, 0, 0, 0, 0, 0, 0, 0, 0, 0, 0, 0, 0, 0, 0, 0, 0, 0, 0, 0, 0, 0, 0, 0, 0, 0, 0, 0, 0, 0, 0, 0, 0, 0, 0, 0, 0, 0, 0, 0, 0, 0, 0, 0, 0, 0, 0, 0, 0, 0, 0, 0, 0, 0, 0, 0, 0, 0, 0, 0, 0, 0, 0, 0, 0, 0, 0, 0, 0, 0, 0, 0, 0, 0, 0, 0, 0, 0, 0, 0, 0, 0, 0, 0, 0, 0, 0, 0, 0, 0, 0, 0, 0, 0, 0, 0, 0, 0, 0, 0, 0, 0, 0, 0, 0, 0, 0, 0, 0, 0, 0, 0, 0, 0, 0, 0, 0, 0, 0, 0, 0, 0, 0, 0, 0, 0, 0, 0, 0, 0, 0, 0, 0, 0, 0, 0, 0, 0, 0, 0, 0, 0, 0, 0, 0, 0, 0, 0, 0, 0, 0, 0, 0, 0, 0, 0, 0, 0, 0, 0, 0, 0, 0, 1, 0, 0, 0, 0, 0, 0, 0, 0, 0, 0, 0, 0, 0, 0, 0, 0, 0, 0, 0, 0, 0, 0, 0, 0, 0, 0, 0, 0, 0, 1, 0, 0, 0, 0, 0, 0, 0, 0, 0, 0, 0, 0, 0, 0, 0, 0, 0, 0, 0, 0, 0, 0, 0, 0, 0, 0, 0, 0, 0, 0, 0, 0, 0, 0, 0, 0, 0, 0, 0, 0, 0, 0, 0, 0, 0, 0, 0, 0, 0, 0, 0, 0, 0, 0, 0, 0, 0, 0, 0, 0, 0, 0, 0, 0, 0, 0, 0, 0, 0, 0, 0, 0, 0, 0, 0, 0, 0, 0, 0, 0, 0, 0, 0, 0, 0, 0, 0, 0, 0, 0, 0, 0, 0, 0, 0, 0, 0, 0, 0, 0, 0, 0, 0, 0, 0, 0, 0, 0, 0, 0, 0, 0, 0, 0, 0, 0, 0, 0, 0, 0, 0, 0, 0, 0, 0, 0, 0, 0, 0, 0, 0, 0, 0, 0, 0, 0, 0, 0, 0, 0, 0, 0, 0, 0, 0, 0, 0, 0, 0, 0, 0, 0, 0, 0, 0, 0, 0, 0, 0, 0, 0, 0, 0, 0, 0, 0, 0, 0, 0, 0, 0, 0, 0, 0, 0, 0, 0, 0, 0, 0, 0, 0, 0, 0, 0, 0, 0, 0, 0, 0, 0, 0, 0, 0, 0, 0, 0, 0, 0, 0, 0, 0, 0, 0, 0, 0, 0, 0, 0, 0, 0, 0, 0, 0, 0, 0, 0, 0, 0, 0, 0, 0, 0, 0, 0, 0, 0, 0, 0, 0, 0, 0, 0, 0, 0, 0, 0, 0, 0, 0, 0, 0, 0, 0, 0, 0, 0, 0, 0, 0, 0, 0, 0, 0, 0, 0, 0, 0, 0, 0, 0, 0, 0, 0, 0, 0, 0, 0, 0, 0, 0, 0, 0, 0, 0, 0, 0, 0, 0, 0, 0, 0, 0, 0, 0, 0, 0, 0, 0, 0, 0, 0, 0, 0, 0, 0, 0, 0, 0, 0, 0, 0, 0, 0, 0, 0, 0, 0, 0, 0, 0, 0, 0, 0, 0, 0, 0, 0, 0, 0, 0, 0, 0, 0, 0, 0, 0, 0, 0, 0, 0, 0, 0, 0, 0, 0, 0, 0, 0, 0, 0, 0, 0, 0, 0, 0, 0, 0, 0, 0, 0, 0, 0, 0, 0, 0, 0, 0, 0, 0, 0, 0, 0, 0, 0, 0, 0, 0, 0, 0, 0, 0, 0, 0, 0, 0, 0, 0, 0, 1, 0, 0, 0, 0, 0, 0, 0, 0, 0, 0, 0, 0, 0, 0, 0, 0, 0, 0, 0, 0, 0, 0, 0, 0, 0, 0, 0, 0, 0, 0, 0, 0, 0, 0, 0, 0, 0, 0, 0, 0, 0, 0, 0, 0, 0, 0, 0, 0, 0, 0, 0, 0, 0, 0, 0, 0, 0, 0, 0, 0, 0, 0, 0, 0, 0, 0, 0, 0, 0, 0, 0, 0, 0, 0, 0, 0, 0, 0, 0, 0, 0, 0, 0, 0, 0, 0, 0, 0, 0, 0, 0, 0, 0, 0, 0, 0, 0, 0, 0, 0, 0, 0, 0, 0, 0, 0, 0, 0, 0, 0, 0, 0, 0, 0, 0, 0, 0, 0, 0, 0, 0, 0, 0, 0, 0, 0, 0, 0, 0, 0, 0, 0, 0, 0, 0, 0, 0, 0, 0, 0, 0, 0, 0, 0, 0, 0, 0, 0, 0, 0, 0, 0, 0, 0, 0, 0, 0, 0, 0, 0, 0, 0, 0, 0, 0, 0, 0, 0, 0, 0, 0, 0, 0, 0, 0, 0, 0, 0, 0, 0, 0, 0, 0, 0, 0, 0, 0, 0, 0, 0, 0, 0, 0, 0, 0, 0, 0, 0, 0, 0, 0, 0, 0, 0, 0, 0, 0, 0, 0, 0, 0, 0, 0, 0, 0, 0, 0, 0, 0, 0, 0, 0, 0, 0, 0, 0, 0, 0, 0, 0, 0, 0, 0, 0, 0, 0, 0, 0, 0, 0, 0, 0, 0, 0, 0, 0, 0, 0, 0, 0, 0, 0, 0, 1, 0, 0, 0, 0, 0, 0, 0, 0, 0, 0, 0, 0, 0, 0, 0, 0, 0, 0, 0, 0, 0, 0, 0, 0, 0, 0, 0, 0, 0, 0, 0, 0, 0, 0, 0, 0, 0, 0, 0, 0, 0, 0, 0, 0, 0, 0, 0, 0, 0, 0, 0, 0, 0, 0, 0, 0, 0, 0, 0, 0, 0, 0, 0, 0, 0, 0, 0, 0, 0, 0, 0, 0, 0, 0, 0, 0, 0, 0, 0, 0, 0, 0, 0, 0, 0, 0, 1, 0, 0, 0, 0, 0, 0, 0, 0, 0, 0, 0, 0, 0, 0, 0, 0, 0, 0, 0, 0, 0, 0, 0, 0, 0, 0, 0, 0, 0, 0, 0, 0, 0, 0, 0, 0, 0, 0, 0, 0, 0, 0, 0, 0, 0, 0, 0, 0, 0, 0, 0, 0, 0, 0, 0, 0, 0, 0, 0, 0, 0, 0, 0, 0, 0, 0, 0, 0, 0, 0, 0, 0, 0, 0, 0, 0, 0, 0, 0, 0, 0, 0, 0, 0, 0, 0, 0, 0, 0, 0, 0, 0, 0, 0, 0, 0, 0, 0, 0, 0, 0, 0, 0, 0, 0, 0, 0, 0, 0, 0, 0, 0, 0, 0, 0, 0, 0, 0, 0, 0, 0, 0, 0, 0, 0, 0, 0, 0, 0, 0, 0, 0, 0, 0, 0, 0, 0, 0, 0, 0, 0, 0, 0, 0, 0, 0, 0, 0, 0, 0, 0, 0, 0, 0, 0, 0, 0, 0, 0, 0, 0, 0, 0, 0, 0, 0, 0, 0, 0, 0, 0, 0, 0, 0, 0, 0, 0, 0, 0, 0, 0, 0, 0, 0, 0, 0, 0, 0, 0, 0, 0, 0, 0, 0, 0, 0, 0, 0, 0, 0, 0, 0, 0, 0, 0, 0, 0, 0, 0, 0, 0, 0, 0, 0, 0, 0, 0, 0, 0, 0, 0, 0, 0, 0, 0, 0, 0, 0, 0, 0, 0, 0, 0, 0, 0, 0, 0, 0, 0, 0, 0, 0, 0, 0, 0, 0, 0, 0, 0, 0, 0, 0, 1, 0, 0, 0, 0, 0, 0, 0, 0, 0, 0, 0, 0, 0, 0, 0, 0, 0, 0, 0, 0, 0, 0, 0, 0, 0, 0, 0, 0, 0, 0, 0, 0, 0, 0, 0, 0, 0, 0, 0, 0, 0, 0, 0, 0, 0, 0, 0, 0, 0, 0, 0, 0, 0, 0, 0, 1, 0, 0, 0, 0, 0, 0, 0, 0, 0, 0, 0, 0, 0, 0, 0, 0, 0, 0, 0, 0, 0, 0, 0, 0, 0, 0, 0, 0, 0, 0, 0, 0, 0, 0, 0, 0, 0, 0, 0, 0, 0, 0, 0, 0, 0, 0, 0, 0, 0, 0, 0, 0, 0, 0, 0, 0, 0, 0, 0, 0, 0, 0, 0, 0, 0, 0, 0, 0, 0, 0, 0, 0, 0, 0, 0, 0, 0, 0, 0, 0, 0, 0, 0, 0, 0, 0, 0, 0, 0, 0, 0, 0, 0, 0, 0, 0, 0, 0, 0, 0, 0, 0, 0, 0, 0, 0, 0, 0, 0, 0, 0, 0, 0, 0, 0, 0, 0, 0, 0, 0, 0, 0, 0, 0, 0, 0, 0, 0, 0, 0, 0, 0, 0, 0, 0, 0, 0, 0, 0, 0, 0, 0, 0, 0, 0, 0, 0, 0, 0, 0, 0, 0, 0, 0, 0, 0, 0, 0, 0, 0, 0, 0, 0, 0, 0, 0, 0, 0, 0, 0, 0, 0, 0, 0, 0, 0, 0, 0, 0, 0, 0, 0, 0, 0, 0, 0, 0, 0, 0, 0, 0, 0, 0, 0, 0, 0, 0, 0, 0, 0, 0, 0, 0, 0, 0, 0, 0, 0, 0, 0, 0, 0, 0, 0, 0, 0, 0, 0, 0, 0, 0, 0, 0, 0, 0, 0, 0, 0, 0, 0, 0, 0, 0, 0, 0, 0, 0, 0, 0, 0, 0, 0, 0, 0, 0, 0, 0, 0, 0, 0, 0, 0, 0, 0, 0, 0, 0, 0, 0, 0, 0, 0, 0, 0, 0, 0, 0, 0, 0, 0, 0, 0, 0, 0, 0, 0, 0, 0, 0, 0, 0, 0, 0, 0, 0, 0, 0, 0, 0, 0, 0, 0, 0, 0, 0, 0, 0, 0, 0, 0, 0, 0, 0, 0, 0, 0, 0, 0, 0, 0, 0, 0, 0, 0, 0, 0, 0, 0, 0, 0, 0, 0, 0, 0, 0, 0, 0, 0, 0, 0, 0, 0, 0, 0, 0, 0, 0, 0, 0, 0, 0, 0, 0, 0, 0, 0, 0, 0, 0, 0, 0, 0, 0, 0, 0, 0, 0, 0, 0, 0, 0, 0, 0, 0, 0, 0, 0, 0, 0, 0, 0, 0, 0, 0, 0, 0, 0, 0, 0, 0, 0, 0, 0, 0, 0, 0, 0, 0, 0, 0, 0, 0, 0, 0, 0, 0, 0, 0, 0, 0, 0, 0, 0, 0, 0, 0, 0, 0, 0, 0, 0, 0, 0, 0, 0, 0, 0, 0, 0, 0, 0, 0, 0, 0, 0, 0, 0, 0, 0, 0, 0, 0, 0, 0, 0, 0, 0, 0, 0, 0, 0, 0, 0, 0, 0, 0, 0, 0, 0, 0, 0, 0, 0, 0, 0, 0, 0, 0, 0, 0, 0, 0, 0, 0, 0, 0, 0, 0, 0, 0, 0, 0, 0, 0, 0, 0, 0, 0, 0, 0, 0, 0, 0, 0, 0, 0, 0, 0, 0, 0, 0, 0, 0, 0, 0, 0, 0, 0, 0, 0, 0, 0, 0, 0, 0, 0, 0, 0, 0, 0, 0, 0, 0, 0, 0, 0, 0, 0, 0, 0, 0, 0, 0, 0, 0, 0, 0, 0, 0, 0, 0, 0, 0, 0, 0, 0, 0, 0, 0, 0, 0, 0, 0, 0, 0, 0, 0, 0, 0, 0, 0, 0, 0, 0, 0, 0, 0, 0, 0, 0, 0, 0, 0, 0, 0, 0, 0, 0, 0, 0, 0, 0, 0, 0, 0, 0, 0, 0, 0, 0, 0, 0, 0, 0, 0, 0, 0, 0, 0, 0, 0, 0, 0, 0, 0, 0, 0, 0, 0, 0, 0, 0, 0, 0, 0, 0, 0, 0, 0, 0, 0, 0, 0, 0, 0, 0, 0, 0, 0, 0, 0, 0, 0, 0, 0, 0, 0, 0, 0, 0, 0, 0, 0, 0, 0, 0, 0, 0, 0, 0, 0, 0, 0, 0, 0, 0, 0, 0, 0, 0, 0, 0, 0, 0, 0, 0, 0, 0, 0, 0, 0, 0, 0, 0, 0, 0, 0, 0, 0, 0, 0, 0, 0, 0, 0, 0, 0, 0, 0, 0, 0, 1, 0, 0, 0, 0, 0, 0, 0, 0, 0, 0, 0, 0, 0, 0, 0, 0, 0, 0, 0, 0, 0, 0, 0, 0, 0, 0, 0, 0, 0, 0, 0, 0, 0, 0, 0, 0, 0, 0, 0, 0, 0, 0, 0, 0, 0, 0, 0, 0, 0, 0, 0, 0, 0, 0, 0, 0, 0, 0, 0, 0, 0, 0, 0, 0, 0, 0, 0, 0, 0, 0, 0, 0, 0, 0, 1, 0, 0, 0, 0, 0, 0, 0, 0, 0, 0, 0, 0, 0, 0, 0, 0, 0, 0, 0, 0, 1, 0, 0, 1, 0, 0, 0, 0, 0, 0, 0, 0, 0, 0, 0, 0, 0, 0, 0, 0, 0, 0, 0, 0, 0, 0, 0, 0, 0, 0, 0, 0, 0, 0, 0, 0, 0, 0, 0, 0, 0, 0, 0, 0, 0, 0, 0, 0, 0, 0, 0, 0, 0, 0, 0, 0, 0, 0, 0, 0, 0, 0, 0, 0, 0, 0, 0, 0, 0, 0, 0, 0, 0, 0, 0, 0, 0, 0, 0, 0, 0, 0, 0, 0, 0, 0, 0, 0, 0, 0, 0, 0, 0, 0, 0, 0, 0, 0, 0, 0, 0, 0, 0, 0, 0, 0, 0, 0, 0, 0, 0, 0, 0, 0, 0, 0, 0, 0, 0, 0, 0, 0, 0, 0, 0, 0, 0, 0, 0, 0, 0, 0, 0, 0, 0, 0, 0, 0, 0, 0, 0, 0, 0, 0, 0, 0, 0, 0, 0, 0, 0, 0, 0, 0, 0, 0, 0, 0, 0, 0, 0, 0, 0, 0, 0, 0, 0, 0, 0, 0, 0, 0, 0, 0, 0, 0, 0, 0, 0, 0, 0, 0, 0, 0, 0, 0, 0, 0, 0, 0, 0, 0, 0, 0, 0, 0, 0, 0, 0, 0, 0, 0, 0, 0, 0, 0, 0, 0, 0, 0, 0, 0, 0, 0, 0, 0, 0, 0, 0, 0, 0, 0, 0, 0, 0, 0, 0, 0, 0, 0, 0, 0, 0, 0, 0, 0, 0, 0, 0, 0, 0, 0, 0, 0, 0, 0, 0, 0, 0, 0, 0, 0, 0, 0, 0, 0, 0, 0, 0, 0, 0, 0, 0, 0, 0, 0, 0, 0, 0, 0, 0, 0, 0, 0, 0, 0, 0, 0, 0, 0, 0, 0, 0, 0, 0, 0, 0, 0, 0, 0, 0, 0, 0, 0, 0, 0, 0, 0, 0, 0, 0, 0, 0, 0, 0, 0, 0, 0, 0, 0, 0, 0, 0, 0, 0, 0, 0, 0, 0, 0, 0, 0, 0, 0, 0, 0, 0, 0, 0, 0, 0, 0, 0, 0, 0, 0, 0, 0, 0, 0, 0, 0, 0, 0, 0, 0, 0, 0, 0, 0, 0, 0, 0, 0, 0, 0, 0, 0, 0, 0, 0, 0, 0, 0, 0, 0, 0, 0, 0, 0, 0, 0, 0, 0, 0, 0, 0, 0, 0, 0, 0, 0, 0, 0, 0, 0, 0, 0, 0, 0, 0, 0, 0, 0, 0, 0, 0, 0, 0, 0, 0, 0, 0, 0, 0, 0, 0, 0, 0, 0, 0, 0, 0, 0, 0, 0, 0, 0, 0, 0, 0, 0, 0, 0, 0, 0, 0, 0, 0, 0, 0, 0, 0, 0, 0, 0, 0, 0, 0, 0, 0, 0, 0, 0, 0, 0, 0, 0, 0, 0, 0, 0, 0, 0, 0, 0, 0, 0, 0, 0, 0, 0, 0, 0, 0, 0, 0, 0, 0, 0, 1, 0, 0, 0, 0, 0, 0, 0, 0, 0, 0, 0, 0, 0, 0, 0, 0, 0, 0, 0, 0, 0, 0, 0, 0, 0, 0, 0, 0, 0, 0, 0, 0, 0, 0, 0, 0, 0, 0, 0, 0, 0, 0, 0, 0, 0, 0, 0, 0, 0, 0, 0, 0, 0, 0, 0, 0, 0, 0, 0, 0, 0, 0, 0, 0, 0, 0, 0, 0, 0, 0, 0, 0, 0, 0, 0, 0, 0, 0, 0, 0, 0, 0, 0, 0, 0, 0, 0, 0, 0, 0, 0, 0, 0, 0, 0, 0, 0, 0, 0, 0, 0, 0, 0, 0, 0, 0, 0, 0, 0, 0, 0, 0, 0, 0, 0, 0, 0, 0, 0, 0, 0, 0, 0, 0, 0, 0, 0, 0, 0, 0, 0, 0, 0, 0, 0, 0, 0, 0, 0, 0, 0, 0, 0, 0, 0, 0, 0, 0, 0, 0, 0, 0, 0, 0, 0, 0, 0, 0, 0, 0, 0, 0, 0, 0, 0, 0, 0, 0, 0, 0, 0, 0, 0, 0, 0, 0, 0, 0, 0, 0, 0, 0, 0, 0, 0, 0, 0, 0, 0, 0, 0, 0, 0, 0, 0, 0, 0, 0, 0, 0, 0, 0, 0, 0, 0, 0, 0, 0, 0, 0, 0, 0, 0, 0, 0, 0, 0, 0, 0, 0, 0, 0, 0, 0, 0, 0, 0, 0, 0, 0, 0, 0, 0, 0, 0, 0, 0, 0, 0, 0, 0, 0, 0, 0, 0, 0, 0, 0, 0, 0, 0, 0, 0, 0, 0, 0, 0, 0, 0, 0, 0, 0, 0, 0, 0, 0, 0, 0, 0, 0, 0, 0, 0, 0, 0, 0, 0, 0, 0, 0, 0, 0, 0, 0, 0, 0, 0, 0, 0, 0, 0, 0, 0, 0, 0, 0, 0, 0, 0, 0, 0, 0, 0, 0, 0, 0, 0, 0, 0, 0, 0, 0, 0, 0, 0, 0, 0, 0, 0, 0, 0, 0, 0, 0, 0, 0, 0, 0, 0, 0, 0, 0, 0, 0, 0, 0, 0, 0, 0, 0, 0, 0, 0, 0, 0, 0, 0, 0, 0, 0, 0, 0, 0, 0, 0, 0, 0, 0, 0, 0, 0, 0, 0, 0, 0, 0, 0, 0, 0, 0, 0, 0, 0, 0, 0, 0, 0, 0, 0, 0, 0, 0, 0, 0, 0, 0, 0, 0, 0, 0, 0, 0, 0, 0, 0, 0, 0, 0, 0, 0, 0, 0, 0, 0, 0, 0, 0, 0, 0, 0, 0, 0, 0, 0, 0, 0, 0, 0, 0, 0, 0, 0, 0, 0, 0, 0, 0, 0, 0, 0, 0, 0, 0, 0, 0, 0, 0, 0, 0, 0, 0, 0, 0, 0, 0, 0, 0, 0, 0, 0, 0, 0, 0, 0, 0, 0, 0, 0, 0, 0, 0, 0, 0, 0, 0, 0, 0, 0, 0, 0, 0, 0, 0, 0, 0, 0, 0, 0, 0, 0, 0, 0, 0, 0, 0, 0, 0, 0, 0, 0, 0, 0, 0, 0, 0, 0, 0, 0, 0, 0, 0, 0, 0, 0, 0, 0, 0, 0, 0, 0, 0, 0, 1, 0, 0, 0, 0, 0, 0, 0, 0, 0, 0, 0, 0, 0, 0, 0, 0, 0, 0, 0, 0, 0, 0, 0, 0, 0, 0, 0, 0, 0, 0, 0, 0, 0, 0, 0, 2, 0, 0, 0, 0, 0, 0, 0, 0, 0, 0, 0, 0, 0, 0, 0, 0, 0, 0, 0, 0, 0, 0, 0, 0, 0, 0, 0, 0, 0, 0, 0, 0, 0, 0, 0, 0, 0, 0, 0, 0, 1, 0, 0, 0, 0, 0, 0, 0, 0, 0, 0, 0, 0, 0, 0, 0, 0, 0, 0, 0, 0, 0, 0, 0, 0, 0, 0, 0, 0, 0, 0, 0, 0, 0, 0, 0, 0, 0, 0, 0, 0, 0, 0, 0, 0, 0, 0, 0, 0, 0, 0, 0, 0, 0, 0, 0, 0, 0, 0, 0, 0, 0, 0, 0, 0, 0, 0, 0, 0, 0, 0, 0, 0, 0, 0, 0, 0, 0, 0, 0, 0, 0, 0, 0, 0, 0, 0, 0, 0, 0, 0, 0, 0, 0, 0, 0, 0, 0, 0, 0, 0, 0, 0, 0, 0, 0, 0, 0, 0, 0, 0, 0, 0, 0, 0, 0, 0, 0, 0, 0, 0, 0, 0, 0, 0, 0, 0, 0, 0, 0, 0, 0, 0, 0, 0, 0, 0, 0, 0, 0, 0, 0, 0, 0, 0, 0, 0, 0, 0, 0, 0, 0, 0, 0, 0, 0, 0, 0, 0, 0, 0, 0, 0, 0, 0, 0, 0, 0, 0, 0, 0, 0, 0, 0, 0, 0, 0, 0, 0, 0, 0, 0, 0, 0, 0, 0, 0, 0, 0, 0, 0, 0, 0, 0, 0, 0, 0, 0, 0, 0, 0, 0, 0, 0, 0, 0, 0, 0, 0, 0, 0, 0, 0, 0, 0, 0, 0, 0, 0, 0, 0, 0, 0, 0, 0, 0, 0, 0, 0, 0, 0, 0, 0, 0, 0, 0, 0, 0, 0, 0, 0, 0, 0, 0, 0, 0, 0, 0, 0, 0, 0, 0, 0, 0, 0, 0, 0, 0, 0, 0, 0, 0, 0, 0, 0, 0, 0, 0, 0, 0, 0, 0, 0, 0, 0, 0, 0, 0, 0, 0, 0, 0, 0, 0, 0, 0, 0, 0, 0, 0, 0, 0, 0, 0, 0, 0, 0, 0, 0, 0, 0, 0, 0, 0, 0, 0, 0, 0, 0, 0, 0, 0, 0, 0, 0, 0, 0, 0, 0, 0, 0, 0, 0, 0, 0, 0, 0, 0, 0, 0, 0, 0, 0, 0, 0, 0, 0, 0, 0, 0, 0, 0, 0, 0, 0, 0, 0, 0, 0, 0, 0, 0, 0, 0, 0, 0, 0, 0, 0, 0, 0, 0, 0, 0, 0, 0, 0, 0, 0, 0, 0, 0, 0, 0, 0, 0, 0, 0, 0, 0, 0, 0, 0, 0, 0, 0, 0, 0, 0, 0, 0, 0, 0, 0, 0, 0, 0, 0, 0, 0, 0, 0, 0, 0, 0, 0, 0, 0, 0, 0, 0, 0, 0, 0, 0, 0, 0, 0, 0, 0, 0, 0, 0, 0, 0, 0, 0, 0, 0, 0, 0, 0, 0, 0, 0, 0, 0, 0, 0, 0, 0, 0, 0, 0, 0, 0, 0, 0, 0, 0, 0, 0, 0, 0, 0, 0, 0, 0, 0, 0, 0, 0, 0, 0, 0, 0, 0, 0, 0, 0, 0, 0, 0, 0, 0, 0, 0, 0, 0, 0, 0, 0, 0, 0, 0, 0, 0, 0, 0, 0, 0, 0, 0, 0, 0, 0, 0, 0, 1, 0, 0, 0, 0, 0, 0, 0, 0, 0, 0, 0, 0, 0, 0, 0, 0, 0, 0, 0, 0, 0, 0, 0, 0, 0, 0, 0, 0, 0, 0, 0, 0, 0, 0, 0, 0, 0, 0, 0, 0, 0, 0, 0, 0, 0, 0, 0, 0, 0, 0, 0, 0, 0, 0, 0, 0, 0, 0, 0, 0, 0, 0, 0, 0, 0, 0, 0, 0, 0, 0, 0, 0, 0, 0, 0, 0, 0, 0, 0, 0, 0, 0, 0, 0, 0, 0, 0, 0, 0, 0, 0, 0, 0, 0, 0, 0, 0, 0, 0, 0, 0, 0, 0, 0, 0, 0, 0, 0, 0, 0, 2, 0, 0, 0, 0, 0, 0, 0, 0, 0, 0, 0, 0, 0, 0, 0, 0, 0, 0, 0, 0, 0, 0, 0, 0, 0, 0, 0, 0, 0, 0, 0, 0, 0, 0, 0, 0, 0, 0, 0, 0, 0, 0, 0, 0, 0, 0, 0, 0, 0, 0, 0, 0, 0, 0, 0, 0, 0, 0, 0, 0, 0, 0, 0, 0, 0, 0, 0, 0, 0, 0, 0, 0, 0, 0, 0, 0, 0, 0, 0, 0, 0, 0, 0, 0, 0, 0, 0, 0, 0, 0, 0, 0, 0, 0, 0, 0, 0, 0, 0, 0, 0, 0, 0, 0, 0, 0, 0, 0, 0, 0, 0, 0, 0, 0, 0, 0, 0, 0, 0, 0, 0, 0, 0, 0, 0, 0, 0, 0, 0, 0, 0, 0, 0, 0, 0, 0, 0, 0, 0, 0, 0, 0, 0, 0, 0, 0, 0, 0, 0, 0, 0, 0, 0, 0, 0, 0, 0, 0, 0, 0, 0, 0, 0, 0, 0, 0, 0, 0, 0, 0, 0, 0, 0, 0, 0, 0, 0, 0, 0, 0, 0, 0, 0, 0, 0, 0, 0, 0, 0, 0, 0, 0, 0, 0, 0, 0, 0, 0, 0, 0, 0, 0, 0, 0, 0, 0, 0, 0, 0, 0, 0, 0, 0, 0, 0, 0, 0, 0, 0, 0, 0, 0, 0, 0, 0, 0, 0, 0, 0, 0, 0, 0, 0, 0, 0, 0, 0, 0, 0, 0, 0, 0, 0, 0, 0, 0, 0, 0, 0, 0, 0, 0, 0, 0, 0, 0, 0, 0, 0, 0, 0, 0, 0, 0, 0, 0, 0, 0, 0, 0, 0, 0, 0, 0, 0, 0, 0, 0, 0, 0, 0, 0, 0, 0, 0, 0, 0, 0, 0, 0, 0, 0, 0, 0, 0, 0, 0, 0, 0, 0, 0, 0, 0, 0, 0, 0, 0, 0, 0, 0, 0, 0, 0, 0, 0, 0, 0, 0, 0, 0, 0, 0, 0, 0, 0, 0, 0, 0, 0, 0, 0, 0, 0, 0, 0, 0, 0, 0, 0, 0, 0, 0, 0, 0, 0, 0, 0, 0, 0, 0, 0, 0, 0, 0, 0, 0, 0, 0, 0, 0, 0, 0, 0, 0, 0, 0, 0, 0, 0, 0, 0, 0, 0, 0, 0, 0, 0, 0, 0, 0, 0, 0, 0, 0, 0, 0, 0, 0, 0, 0, 0, 0, 0, 0, 0, 0, 0, 0, 0, 0, 0, 0, 0, 0, 0, 0, 0, 0, 0, 0, 0, 0, 0, 0, 0, 0, 0, 0, 0, 0, 0, 0, 0, 0, 0, 0, 0, 0, 0, 0, 0, 0, 0, 0, 0, 0, 0, 0, 0, 0, 0, 0, 0, 0, 0, 0, 0, 0, 0, 0, 0, 0, 0, 0, 0, 0, 0, 0, 0, 0, 0, 0, 0, 0, 0, 0, 0, 0, 0, 0, 0, 0, 0, 0, 0, 0, 0, 0, 0, 0, 0, 0, 0, 0, 0, 0, 0, 0, 0, 0, 0, 0, 0, 0, 0, 0, 0, 0, 0, 0, 0, 0, 0, 0, 0, 0, 0, 0, 0, 0, 0, 0, 0, 0, 0, 0, 0, 0, 0, 0, 0, 0, 0, 0, 0, 0, 0, 0, 0, 0, 0, 0, 0, 0, 0, 0, 0, 0, 0, 0, 0, 0, 0, 0, 0, 0, 0, 0, 0, 0, 0, 0, 0, 0, 0, 0, 0, 0, 0, 0, 0, 0, 0, 0, 0, 0, 0, 0, 0, 0, 0, 0, 0, 0, 0, 0, 0, 0, 0, 0, 0, 0, 0, 0, 0, 0, 0, 0, 0, 0, 0, 0, 0, 0, 0, 0, 0, 0, 0, 0, 0, 0, 0, 0, 0, 0, 0, 0, 0, 0, 0, 0, 0, 0, 0, 0, 0, 0, 0, 0, 0, 0, 0, 0, 0, 0, 0, 0, 0, 0, 0, 0, 0, 0, 0, 0, 0, 0, 0, 0, 0, 0, 0, 0, 0, 0, 0, 0, 0, 0, 0, 0, 0, 0, 0, 0, 0, 0, 0, 0, 0, 0, 0, 0, 0, 0, 0, 0, 0, 0, 0, 0, 0, 0, 0, 0, 0, 0, 0, 0, 0, 0, 0, 0, 0, 0, 0, 0, 0, 0, 1, 0, 0, 0, 0, 0, 0, 0, 0, 0, 0, 0, 0, 0, 0, 0, 0, 0, 0, 0, 0, 0, 0, 0, 0, 0, 0, 0, 0, 0, 0, 0, 0, 0, 0, 0, 0, 0, 0, 0, 0, 0, 0, 0, 0, 0, 0, 0, 0, 0, 0, 0, 0, 0, 0, 0, 0, 0, 0, 0, 0, 0, 0, 0, 0, 0, 0, 0, 0, 0, 0, 0, 0, 0, 0, 0, 0, 0, 0, 0, 0, 0, 0, 0, 0, 0, 0, 0, 0, 0, 0, 0, 0, 0, 0, 0, 0, 0, 0, 0, 0, 0, 0, 0, 0, 0, 0, 0, 1, 0, 0, 0, 0, 0, 0, 0, 0, 0, 0, 0, 0, 0, 0, 0, 0, 0, 0, 0, 0, 0, 0, 0, 0, 0, 0, 0, 0, 0, 0, 0, 0, 0, 0, 0, 0, 0, 0, 0, 0, 0, 0, 0, 0, 0, 0, 0, 0, 0, 0, 0, 0, 0, 0, 0, 0, 0, 0, 0, 0, 0, 0, 0, 0, 0, 0, 0, 0, 0, 0, 0, 0, 0, 0, 0, 0, 0, 0, 0, 0, 0, 0, 0, 0, 0, 0, 0, 0, 0, 0, 0, 0, 0, 0, 0, 0, 0, 0, 0, 0, 0, 0, 0, 0, 0, 0, 0, 0, 0, 0, 0, 0, 0, 0, 0, 0, 0, 0, 0, 0, 0, 0, 0, 0, 0, 0, 0, 0, 0, 0, 0, 0, 0, 0, 0, 0, 0, 0, 0, 0, 0, 0, 0, 0, 0, 0, 0, 0, 0, 0, 0, 0, 0, 0, 0, 0, 0, 0, 0, 0, 0, 0, 0, 0, 0, 0, 0, 0, 0, 0, 0, 0, 0, 0, 0, 0, 0, 0, 0, 0, 0, 0, 0, 0, 0, 0, 0, 0, 0, 0, 0, 0, 0, 0, 0, 0, 0, 0, 0, 0, 0, 0, 0, 0, 0, 0, 0, 0, 0, 0, 0, 0, 0, 0, 0, 0, 0, 0, 0, 0, 0, 0, 0, 0, 0, 0, 0, 0, 0, 0, 0, 0, 0, 0, 0, 0, 0, 0, 0, 0, 0, 0, 0, 0, 0, 0, 0, 0, 0, 0, 0, 0, 0, 0, 0, 0, 0, 0, 0, 0, 0, 0, 0, 0, 0, 0, 0, 0, 0, 0, 0, 0, 0, 0, 0, 0, 0, 0, 0, 0, 0, 0, 0, 0, 0, 0, 0, 0, 0, 0, 0, 0, 0, 0, 0, 0, 0, 0, 0, 0, 0, 0, 0, 0, 0, 0, 0, 0, 0, 0, 0, 0, 0, 0, 0, 0, 0, 0, 0, 0, 0, 0, 0, 0, 0, 0, 0, 0, 0, 0, 0, 0, 0, 0, 0, 0, 0, 0, 0, 0, 0, 0, 0, 0, 0, 0, 0, 0, 0, 0, 0, 0, 0, 0, 0, 0, 0, 0, 0, 0, 0, 0, 0, 0, 0, 0, 0, 0, 0, 0, 0, 0, 0, 0, 0, 0, 0, 0, 0, 0, 0, 0, 0, 0, 0, 0, 0, 0, 0, 0, 0, 0, 0, 0, 0, 0, 0, 0, 0, 0, 0, 0, 0, 0, 0, 0, 0, 0, 0, 0, 0, 0, 0, 0, 0, 0, 0, 0, 0, 0, 0, 0, 0, 0, 0, 0, 0, 0, 0, 0, 0, 0, 0, 0, 0, 0, 0, 0, 0, 0, 0, 0, 0, 0, 0, 0, 0, 0, 0, 0, 0, 0, 0, 0, 0, 0, 0, 0, 0, 0, 0, 0, 0, 2, 0, 1, 0], type: <class 'list'>, valid types: <class 'bytes'>, <class 'bytearray'>, file-like object"
     ]
    }
   ],
   "source": [
    "response = runtime.invoke_endpoint(EndpointName = xgb_predictor.endpoint, # The name of the endpoint we created\n",
    "                                       ContentType = 'text/csv',                     # The data format that is expected\n",
    "                                       Body = test_bow)"
   ]
  },
  {
   "cell_type": "markdown",
   "metadata": {},
   "source": [
    "So why did we get an error?\n",
    "\n",
    "Because we tried to send the endpoint a list of integers but it expected us to send data of type `text/csv`. So, we need to convert it."
   ]
  },
  {
   "cell_type": "code",
   "execution_count": 44,
   "metadata": {},
   "outputs": [],
   "source": [
    "response = runtime.invoke_endpoint(EndpointName = xgb_predictor.endpoint, # The name of the endpoint we created\n",
    "                                       ContentType = 'text/csv',                     # The data format that is expected\n",
    "                                       Body = ','.join([str(val) for val in test_bow]).encode('utf-8'))"
   ]
  },
  {
   "cell_type": "code",
   "execution_count": 45,
   "metadata": {},
   "outputs": [
    {
     "name": "stdout",
     "output_type": "stream",
     "text": [
      "{'ResponseMetadata': {'RequestId': '5e1a16f0-ea75-4acc-b463-a2f30fdb2d3e', 'HTTPStatusCode': 200, 'HTTPHeaders': {'x-amzn-requestid': '5e1a16f0-ea75-4acc-b463-a2f30fdb2d3e', 'x-amzn-invoked-production-variant': 'AllTraffic', 'date': 'Fri, 15 Jan 2021 19:27:48 GMT', 'content-type': 'text/csv; charset=utf-8', 'content-length': '14'}, 'RetryAttempts': 0}, 'ContentType': 'text/csv; charset=utf-8', 'InvokedProductionVariant': 'AllTraffic', 'Body': <botocore.response.StreamingBody object at 0x7f0248772240>}\n"
     ]
    }
   ],
   "source": [
    "print(response)"
   ]
  },
  {
   "cell_type": "markdown",
   "metadata": {},
   "source": [
    "As we can see, the response from our model is a somewhat complicated looking dict that contains a bunch of information. The bit that we are most interested in is `'Body'` object which is a streaming object that we need to `read` in order to make use of."
   ]
  },
  {
   "cell_type": "code",
   "execution_count": 46,
   "metadata": {},
   "outputs": [
    {
     "name": "stdout",
     "output_type": "stream",
     "text": [
      "0.417058467865\n"
     ]
    }
   ],
   "source": [
    "response = response['Body'].read().decode('utf-8')\n",
    "print(response)"
   ]
  },
  {
   "cell_type": "markdown",
   "metadata": {},
   "source": [
    "Now that we know how to process the incoming user data we can start setting up the infrastructure to make our simple web app work. To do this we will make use of two different services. Amazon's Lambda and API Gateway services.\n",
    "\n",
    "Lambda is a service which allows someone to write some relatively simple code and have it executed whenever a chosen trigger occurs. For example, you may want to update a database whenever new data is uploaded to a folder stored on S3.\n",
    "\n",
    "API Gateway is a service that allows you to create HTTP endpoints (url addresses) which are connected to other AWS services. One of the benefits to this is that you get to decide what credentials, if any, are required to access these endpoints.\n",
    "\n",
    "In our case we are going to set up an HTTP endpoint through API Gateway which is open to the public. Then, whenever anyone sends data to our public endpoint we will trigger a Lambda function which will send the input (in our case a review) to our model's endpoint and then return the result."
   ]
  },
  {
   "cell_type": "markdown",
   "metadata": {},
   "source": [
    "### Setting up a Lambda function\n",
    "\n",
    "The first thing we are going to do is set up a Lambda function. This Lambda function will be executed whenever our public API has data sent to it. When it is executed it will receive the data, perform any sort of processing that is required, send the data (the review) to the SageMaker endpoint we've created and then return the result.\n",
    "\n",
    "#### Part A: Create an IAM Role for the Lambda function\n",
    "\n",
    "Since we want the Lambda function to call a SageMaker endpoint, we need to make sure that it has permission to do so. To do this, we will construct a role that we can later give the Lambda function.\n",
    "\n",
    "Using the AWS Console, navigate to the **IAM** page and click on **Roles**. Then, click on **Create role**. Make sure that the **AWS service** is the type of trusted entity selected and choose **Lambda** as the service that will use this role, then click **Next: Permissions**.\n",
    "\n",
    "In the search box type `sagemaker` and select the check box next to the **AmazonSageMakerFullAccess** policy. Then, click on **Next: Review**.\n",
    "\n",
    "Lastly, give this role a name. Make sure you use a name that you will remember later on, for example `LambdaSageMakerRole`. Then, click on **Create role**."
   ]
  },
  {
   "cell_type": "markdown",
   "metadata": {},
   "source": [
    "#### Part B: Create a Lambda function\n",
    "\n",
    "Now it is time to actually create the Lambda function. Remember from earlier that in order to process the user provided input and send it to our endpoint we need to gather two pieces of information:\n",
    "\n",
    " - The name of the endpoint, and\n",
    " - the vocabulary object.\n",
    "\n",
    "We will copy these pieces of information to our Lambda function after we create it.\n",
    "\n",
    "To start, using the AWS Console, navigate to the AWS Lambda page and click on **Create a function**. When you get to the next page, make sure that **Author from scratch** is selected. Now, name your Lambda function, using a name that you will remember later on, for example `sentiment_analysis_xgboost_func`. Make sure that the **Python 3.6** runtime is selected and then choose the role that you created in the previous part. Then, click on **Create Function**.\n",
    "\n",
    "On the next page you will see some information about the Lambda function you've just created. If you scroll down you should see an editor in which you can write the code that will be executed when your Lambda function is triggered. Collecting the code we wrote above to process a single review and adding it to the provided example `lambda_handler` we arrive at the following.\n",
    "\n",
    "```python\n",
    "# We need to use the low-level library to interact with SageMaker since the SageMaker API\n",
    "# is not available natively through Lambda.\n",
    "import boto3\n",
    "\n",
    "# And we need the regular expression library to do some of the data processing\n",
    "import re\n",
    "\n",
    "REPLACE_NO_SPACE = re.compile(\"(\\.)|(\\;)|(\\:)|(\\!)|(\\')|(\\?)|(\\,)|(\\\")|(\\()|(\\))|(\\[)|(\\])\")\n",
    "REPLACE_WITH_SPACE = re.compile(\"(<br\\s*/><br\\s*/>)|(\\-)|(\\/)\")\n",
    "\n",
    "def review_to_words(review):\n",
    "    words = REPLACE_NO_SPACE.sub(\"\", review.lower())\n",
    "    words = REPLACE_WITH_SPACE.sub(\" \", words)\n",
    "    return words\n",
    "    \n",
    "def bow_encoding(words, vocabulary):\n",
    "    bow = [0] * len(vocabulary) # Start by setting the count for each word in the vocabulary to zero.\n",
    "    for word in words.split():  # For each word in the string\n",
    "        if word in vocabulary:  # If the word is one that occurs in the vocabulary, increase its count.\n",
    "            bow[vocabulary[word]] += 1\n",
    "    return bow\n",
    "\n",
    "\n",
    "def lambda_handler(event, context):\n",
    "    \n",
    "    vocab = \"*** ACTUAL VOCABULARY GOES HERE ***\"\n",
    "    \n",
    "    words = review_to_words(event['body'])\n",
    "    bow = bow_encoding(words, vocab)\n",
    "\n",
    "    # The SageMaker runtime is what allows us to invoke the endpoint that we've created.\n",
    "    runtime = boto3.Session().client('sagemaker-runtime')\n",
    "\n",
    "    # Now we use the SageMaker runtime to invoke our endpoint, sending the review we were given\n",
    "    response = runtime.invoke_endpoint(EndpointName = '***ENDPOINT NAME HERE***',# The name of the endpoint we created\n",
    "                                       ContentType = 'text/csv',                 # The data format that is expected\n",
    "                                       Body = ','.join([str(val) for val in bow]).encode('utf-8')) # The actual review\n",
    "\n",
    "    # The response is an HTTP response whose body contains the result of our inference\n",
    "    result = response['Body'].read().decode('utf-8')\n",
    "    \n",
    "    # Round the result so that our web app only gets '1' or '0' as a response.\n",
    "    result = round(float(result))\n",
    "\n",
    "    return {\n",
    "        'statusCode' : 200,\n",
    "        'headers' : { 'Content-Type' : 'text/plain', 'Access-Control-Allow-Origin' : '*' },\n",
    "        'body' : str(result)\n",
    "    }\n",
    "```"
   ]
  },
  {
   "cell_type": "markdown",
   "metadata": {},
   "source": [
    "Once you have copy and pasted the code above into the Lambda code editor, replace the `**ENDPOINT NAME HERE**` portion with the name of the endpoint that we deployed earlier. You can determine the name of the endpoint using the code cell below."
   ]
  },
  {
   "cell_type": "code",
   "execution_count": 47,
   "metadata": {},
   "outputs": [
    {
     "data": {
      "text/plain": [
       "'xgboost-2021-01-15-18-57-07-857'"
      ]
     },
     "execution_count": 47,
     "metadata": {},
     "output_type": "execute_result"
    }
   ],
   "source": [
    "xgb_predictor.endpoint"
   ]
  },
  {
   "cell_type": "markdown",
   "metadata": {},
   "source": [
    "In addition, you will need to copy the vocabulary dict to the appropriate place in the code at the beginning of the `lambda_handler` method. The cell below prints out the vocabulary dict in a way that is easy to copy and paste."
   ]
  },
  {
   "cell_type": "code",
   "execution_count": 48,
   "metadata": {},
   "outputs": [
    {
     "name": "stdout",
     "output_type": "stream",
     "text": [
      "{'ok': 3098, 'dont': 1324, 'get': 1899, 'out': 3141, 'of': 3083, 'round': 3742, 'was': 4805, 'kidding': 2465, 'is': 2360, 'actually': 109, 'better': 472, 'and': 226, 'title': 4504, 'racism': 3502, 'crime': 1055, 'dramas': 1347, 'the': 4426, 'treat': 4572, 'meant': 2784, 'from': 1840, 'our': 3139, 'rated': 3527, 'friend': 1835, 'boy': 557, 'he': 2056, 'does': 1308, 'one': 3107, 'his': 2118, 'jobs': 2406, 'here': 2086, 'on': 3105, 'front': 1841, 'it': 2366, 'shows': 3960, 'truth': 4599, 'they': 4442, 'build': 614, 'defend': 1158, 'then': 4436, 'boredom': 542, 'stronger': 4230, 'cause': 723, 'them': 4432, 'to': 4507, 'maybe': 2776, 'lose': 2654, 'see': 3855, 'for': 1784, 'yourself': 4993, 'what': 4858, 'goes': 1930, 'down': 1335, 'racist': 3503, 'know': 2489, 'with': 4911, 'rip': 3700, 'love': 2669, 'also': 199, 'being': 448, 'black': 493, 'main': 2707, 'point': 3316, 'view': 4736, 'saw': 3798, 'as': 311, 'an': 223, 'attack': 337, 'mostly': 2910, 'fact': 1621, 'that': 4424, 'richard': 3686, 'liked': 2600, 'says': 3801, 'much': 2934, 'well': 4843, 'younger': 4990, 'pre': 3365, 'vice': 4727, 'mike': 2838, 'thomas': 4458, 'in': 2257, 'there': 4438, 'nice': 3008, 'surprise': 4312, 'its': 2370, 'animated': 241, 'film': 1716, 'thats': 4425, 'good': 1937, 'thing': 4450, 'done': 1322, 'will': 4886, 'make': 2713, 'some': 4061, 'like': 2599, 'scene': 3809, 'but': 636, 'unfortunately': 4654, 'based': 404, 'really': 3556, 'should': 3951, 'have': 2052, 're': 3535, 'thought': 4462, 'unless': 4669, 'youre': 4992, 'twelve': 4611, 'this': 4457, 'movie': 2926, 'isnt': 2362, 'worth': 4953, 'obviously': 3072, 'low': 2676, 'budget': 610, 'actors': 104, 'genre': 1888, 'fantasy': 1652, 'sometimes': 4067, 'requires': 3642, 'intense': 2316, 'cgi': 740, 'work': 4940, 'not': 3040, 'knew': 2486, 'would': 4957, 'be': 418, 'bad': 382, 'when': 4862, 'rented': 3628, 'enjoy': 1484, 'laughing': 2533, 'at': 331, 'movies': 2927, 'didnt': 1242, 'how': 2181, 'though': 4461, 'until': 4680, 'after': 143, 'hour': 2176, 'starts': 4159, 'burn': 625, 'fighting': 1709, 'styles': 4250, 'go': 1924, 'between': 475, 'normal': 3033, 'laws': 2540, 'theres': 4440, 'no': 3020, 'real': 3547, 'explanation': 1590, 'has': 2043, 'plot': 3309, 'once': 3106, 'again': 146, 'kids': 2467, 'seems': 3864, 'are': 285, 'explicit': 1591, 'moral': 2902, 'lessons': 2578, 'day': 1129, 'street': 4216, 'or': 3124, 'something': 4066, 'if': 2222, 'say': 3799, 'nine': 3017, 'nothing': 3047, 'about': 67, 'so': 4046, 'lighting': 2596, 'camera': 659, 'almost': 193, 'blair': 497, 'witch': 4909, 'project': 3427, 'only': 3110, 'wasnt': 4807, 'supposed': 4306, 'way': 4820, 'just': 2437, 'drug': 1373, 'fast': 1661, 'through': 4477, 'last': 2521, 'did': 1241, 'help': 2079, 'matters': 2770, 'looked': 2647, 'might': 2835, 'box': 555, 'must': 2950, 'even': 1533, 'special': 4097, 'effects': 1431, 'were': 4848, 'fake': 1635, 'horrible': 2163, 'dialogue': 1234, 'painfully': 3172, 'terrible': 4407, 'my': 2951, 'own': 3158, 'personal': 3240, 'scale': 3802, 'give': 1912, '10': 0, 'expect': 1575, 'blew': 505, 'me': 2778, 'away': 369, 'you': 4986, 'drama': 1346, 'character': 758, 'development': 1225, 'draws': 1352, 'into': 2332, 'makes': 2716, 'care': 684, 'youll': 4988, 'story': 4207, 'played': 3297, 'interaction': 2322, 'lead': 2545, 'characters': 760, 'may': 2775, 'believe': 454, 'continues': 971, 'without': 4913, 'these': 4441, 'pretty': 3384, 'duo': 1386, 'seen': 3865, 'virtually': 4751, 'all': 187, 'films': 1721, 'funniest': 1851, 'reminds': 3620, 'early': 1400, 'jackie': 2374, 'chan': 746, 'admittedly': 123, 'ms': 2931, 'greatest': 1966, 'actress': 105, 'she': 3923, 'very': 4723, 'watch': 4811, 'both': 547, 'martial': 2747, 'artist': 307, 'cute': 1090, 'young': 4989, 'lady': 2507, 'while': 4868, 'probably': 3407, 'best': 469, 'her': 2085, 'most': 2909, 'entertaining': 1499, 'okay': 3099, 'kinda': 2477, 'lame': 2510, 'flick': 1754, 'short': 3946, 'remember': 3616, 'watching': 4815, 'talking': 4360, 'playing': 3300, 'clip': 851, 'two': 4620, 'rap': 3520, 'guy': 2000, 'although': 201, 'could': 1007, 'identify': 2216, 'ice': 2210, 'hammer': 2014, 'music': 2946, 'interested': 2324, 'started': 4157, 'showed': 3956, 'where': 4864, 'band': 391, 'explains': 1589, 'picked': 3266, 'their': 4431, 'name': 2960, 'using': 4698, 'logic': 2638, 'bunch': 623, 'made': 2697, 'up': 4683, 'facts': 1624, 'another': 250, 'rival': 3706, 'visit': 4755, 'school': 3813, 'getting': 1901, 'involved': 2346, 'course': 1019, 'comes': 891, 'leader': 2546, 'loser': 2655, 'because': 432, 'got': 1944, 'couple': 1016, 'years': 4979, 'later': 2525, 'hbo': 2055, 'recorded': 3574, 'laugh': 2529, 'butt': 638, 'off': 3084, 'hours': 2177, 'yes': 4982, 'tap': 4364, 'kind': 2476, 'takes': 4351, 'essentially': 1523, 'same': 3778, 'tone': 4517, 'setting': 3900, 'clips': 852, 'follows': 1775, 'similar': 3978, 'path': 3209, 'now': 3054, 'call': 651, 'behind': 447, 'chemistry': 782, 'gets': 1900, 'famous': 1647, 'too': 4522, 'money': 2888, 'drugs': 1374, 'type': 4621, 'death': 1141, 'breaks': 571, 'hope': 2155, 'more': 2904, 'future': 1856, 'true': 4596, 'catch': 714, 'perhaps': 3235, 'little': 2624, 'success': 4265, 'past': 3207, 'drags': 1345, 'points': 3319, 'mind': 2849, 'reduced': 3579, 'laughs': 2534, 'set': 3898, 'by': 642, 'specific': 4099, 'scenes': 3811, 'oh': 3096, 'food': 1778, 'spot': 4131, 'wants': 4791, 'etc': 1527, 'which': 4867, 'unexpected': 4650, 'humor': 2192, 'can': 665, 'coming': 896, 'big': 478, 'every': 1539, 'joke': 2414, 'jokes': 2415, 'flow': 1762, 'other': 3135, 'had': 2003, 'worked': 4941, 'direct': 1258, 'references': 3583, 'strikes': 4225, 'back': 378, 'subtle': 4260, 'songs': 4072, 'than': 4420, 'bottom': 551, 'theyre': 4445, 'damn': 1100, 'funny': 1852, 'awful': 372, 'video': 4733, 'during': 1387, 'bizarre': 492, 'yet': 4984, 'save': 3794, 'your': 4991, 'time': 4495, 'waste': 4808, 'watched': 4813, 'first': 1736, 'half': 2007, 'bored': 541, 'slightly': 4029, 'less': 2575, 'moments': 2887, 'never': 3001, 'tell': 4395, 'happen': 2026, 'favorite': 1671, 'cold': 872, 'taste': 4369, 'ive': 2372, 'ever': 1538, 'heard': 2062, 'any': 256, 'discover': 1279, 'theyve': 4446, 'been': 438, 'youve': 4995, 'those': 4460, 'guns': 1998, 'each': 1395, 'next': 3007, 'manager': 2724, 'photographer': 3259, 'girl': 1909, 'think': 4452, 'room': 3735, 'forth': 1804, 'someone': 4064, 'shot': 3949, 'find': 1726, 'odd': 3080, 'suffered': 4276, 'none': 3028, 'enough': 1491, 'similarities': 3979, 'cannot': 670, 'ignore': 2224, 'prior': 3400, 'writing': 4971, 'clearly': 840, 'hip': 2114, 'hop': 2154, 'exist': 1569, 'different': 1248, 'documentary': 1307, 'we': 4823, 'recognize': 3569, 'single': 3996, 'actor': 103, 'who': 4871, 'revenge': 3675, 'opinion': 3118, 'lots': 2662, 'information': 2288, 'pace': 3161, 'havent': 2053, 'least': 2554, 'directors': 1266, 'mentioned': 2811, 'doc': 1303, 'somewhat': 4068, 'lost': 2660, 'list': 2617, 'long': 2644, 'director': 1264, 'includes': 2263, 'hitchcock': 2123, 'psycho': 3457, 'birds': 485, 'lynch': 2691, 'falls': 1640, 'wild': 4885, 'heart': 2064, 'blue': 518, 'star': 4150, 'wars': 4804, 'iii': 2227, 'matrix': 2767, 'suspect': 4327, 'sure': 4308, 'boring': 543, 'buy': 640, 'annoyed': 248, 'end': 1468, 'reason': 3557, 'people': 3221, 'keep': 2449, 'cant': 671, 'stand': 4143, 'few': 1700, 'parts': 3199, 'guess': 1989, 'peter': 3247, 'perfect': 3224, 'rendition': 3625, 'either': 1438, 'beautiful': 428, 'backgrounds': 381, 'gorgeous': 1942, 'taken': 4350, 'known': 2492, 'artists': 309, 'covers': 1024, 'trilogy': 4586, 'ring': 3698, 'battle': 414, 'deep': 1154, 'moves': 2925, 'voice': 4761, 'casting': 711, 'top': 4525, 'notch': 3043, 'look': 2646, 'imagined': 2239, 'bit': 488, 'ugly': 4625, 'looks': 2649, 'awesome': 371, 'great': 1964, 'score': 3822, 'completely': 922, 'stories': 4205, 'hate': 2046, 'reading': 3544, 'books': 536, 'try': 4600, 'keeping': 2450, '20': 29, 'ago': 154, 'particular': 3194, 'note': 3044, 'exactly': 1551, 'ralph': 3510, 'jackson': 2375, 'said': 3774, 'many': 2732, 'times': 4497, 'effort': 1432, 'review': 3676, 'cross': 1066, 'twin': 4615, 'differences': 1247, 'comedy': 890, 'non': 3027, 'whole': 4873, 'three': 4469, 'series': 3890, 'tied': 4489, 'pieces': 3273, 'fall': 1637, 'place': 3282, 'douglas': 1334, 'adams': 112, 'novel': 3052, 'detail': 1217, 'thoroughly': 4459, 'post': 3352, 'modern': 2882, 'tragic': 4552, 'thin': 4449, 'lack': 2502, 'provoking': 3452, 'surreal': 4317, 'disturbing': 1300, 'ways': 4822, 'recall': 3562, 'possibly': 3351, 'wonderful': 4928, 'dressed': 1358, 'kill': 2468, 'stars': 4155, 'brad': 560, 'pitt': 3280, 'serial': 3889, 'killer': 2470, 'trip': 4588, 'california': 650, 'buddy': 609, 'company': 910, 'along': 195, 'always': 203, 'anything': 260, 'before': 440, 'surprises': 4314, 'year': 4978, 'realized': 3553, 'suspense': 4330, 'found': 1811, 'shocked': 3939, 'went': 4847, 'edge': 1418, 'seat': 3845, 'kissing': 2484, 'close': 853, 'right': 3696, 'today': 4508, 'others': 3136, 'brian': 576, 'de': 1131, 'works': 4945, 'carrie': 697, '1996': 26, 'tv': 4610, 'desperate': 1208, 'dvd': 1391, 'copy': 994, 'third': 4455, 'youd': 4987, 'curious': 1083, 'museum': 2945, 'mysterious': 2955, 'man': 2721, 'together': 4511, 'apartment': 265, 'happened': 2027, 'reached': 3537, 'rest': 3657, 'however': 2183, 'silent': 3975, 'take': 4349, 'example': 1553, 'hoping': 2160, 'totally': 4532, 'ridiculous': 3693, 'doubt': 1332, 'change': 749, 'masterpiece': 2759, 'tries': 4585, 'pulls': 3464, 'inside': 2297, 'start': 4156, 'reminded': 3619, 'mexican': 2826, '70s': 56, 'del': 1165, 'considering': 952, 'dennis': 1179, 'cool': 989, 'detective': 1220, 'him': 2110, 'die': 1243, 'hard': 2033, '1990': 24, 'plays': 3301, 'ending': 1471, 'understand': 4643, 'imitation': 2241, 'idea': 2213, 'turned': 4606, 'repetitive': 3633, 'instead': 2307, 'showing': 3958, 'nancy': 2964, 'allen': 188, 'dream': 1354, 'happens': 2029, 'amy': 222, 'means': 2783, 'anyone': 259, 'knows': 2493, 'remotely': 3623, 'ones': 3108, 'honestly': 2147, 'finally': 1724, 'legendary': 2565, 'mess': 2818, 'adaptation': 113, 'gore': 1941, 'selling': 3873, 'book': 535, 'version': 4720, 'truly': 4597, 'remains': 3611, 'beginning': 443, 'sex': 3907, 'hollywood': 2137, 'absolute': 71, 'office': 3091, 'literally': 2622, 'screen': 3829, 'critics': 1064, 'audiences': 353, 'release': 3602, 'surprisingly': 4316, 'gain': 1863, 'near': 2979, 'cult': 1077, 'status': 4165, 'among': 217, 'lovers': 2673, 'cinema': 816, 'quite': 3495, 'excited': 1561, 'michael': 2829, 'previous': 3387, 'directing': 1260, 'credits': 1050, 'took': 4523, 'lot': 2661, 'finished': 1733, 'honesty': 2148, 'clue': 864, 'trying': 4601, 'achieve': 92, 'often': 3095, 'incoherent': 2265, 'entire': 1502, 'sequences': 3888, 'edited': 1420, 'such': 4268, 'manner': 2729, 'become': 433, 'nearly': 2981, 'incomprehensible': 2267, 'irritating': 2359, 'footage': 1782, 'fox': 1814, 'picture': 3269, 'regular': 3592, 'judy': 2426, 'shirley': 3936, 'temple': 4398, 'newly': 3004, 'sexual': 3908, 'acts': 107, 'process': 3412, 'doesnt': 1309, 'intended': 2315, 'caused': 724, 'minor': 2857, 'studio': 4240, 'image': 2233, 'blame': 499, 'screenplay': 3831, 'viewers': 4739, 'shake': 3914, 'heads': 2059, 'disbelief': 1277, 'instance': 2304, 'ask': 316, 'critic': 1061, 'rex': 3683, 'reed': 3580, 'major': 2711, 'role': 3726, 'operation': 3117, 'becomes': 434, 'further': 1853, 'follow': 1772, 'attempts': 343, 'over': 3148, 'sleazy': 4023, 'uncle': 4636, 'john': 2409, 'female': 1693, 'student': 4238, 'teach': 4374, 'schools': 3814, 'resident': 3647, 'roger': 3724, 'lesson': 2577, 'everyone': 1542, 'worse': 4951, 'upon': 4684, 'perspective': 3245, 'mention': 2810, 'west': 4852, 'old': 3100, 'appeared': 276, 'retired': 3664, 'apparently': 270, 'still': 4188, 'considered': 951, 'herself': 2092, 'talent': 4354, 'agent': 150, 'men': 2805, 'including': 2264, 'tom': 4514, 'throwing': 4480, 'themselves': 4435, 'werent': 4849, 'deaf': 1134, 'performs': 3234, 'written': 4972, 'halfway': 2008, 'brain': 562, 'damage': 1099, 'listening': 2620, 'naturally': 2974, 'closely': 855, 'resembles': 3646, 'person': 3238, 'reasonable': 3558, 'describe': 1194, 'hell': 2077, 'going': 1931, 'cast': 710, 'appears': 278, 'turning': 4608, 'poorly': 3329, 'part': 3193, 'meaningful': 2781, 'succeeds': 4264, 'making': 2718, 'working': 4944, 'decent': 1147, 'capable': 672, 'received': 3564, 'respect': 3652, 'form': 1798, 'fine': 1729, 'pleasantly': 3303, 'fresh': 1833, 'faced': 1617, 'likable': 2598, 'couldnt': 1008, 'live': 2625, 'description': 1197, 'above': 68, 'agreed': 156, 'do': 1302, 'fun': 1848, 'us': 4690, 'wow': 4962, 'ill': 2228, 'woman': 4921, 'lucy': 2684, 'arrives': 302, 'family': 1645, 'home': 2142, 'husband': 2204, 'france': 1816, 'arrival': 299, 'catholic': 720, 'church': 813, 'marry': 2745, 'satisfy': 3790, 'waiting': 4772, 'learns': 2553, 'legend': 2564, 'beast': 422, 'bed': 436, 'night': 3013, 'begins': 444, 'rape': 3521, 'former': 1800, 'house': 2178, 'interesting': 2325, 'drag': 1342, 'middle': 2833, 'filmmaker': 1719, 'stick': 4185, 'shocking': 3940, 'hilarious': 2106, 'finale': 1723, 'looking': 2648, 'elsewhere': 1449, 'far': 1653, 'sympathetic': 4342, 'subject': 4253, 'weak': 4824, 'stomach': 4196, 'afraid': 140, 'outside': 3146, 'horse': 2170, 'action': 100, 'else': 1448, 'small': 4033, 'theater': 4427, 'usually': 4700, 'amount': 219, 'dragon': 1344, 'why': 4878, 'worst': 4952, 'cg': 739, 'acting': 99, 'script': 3834, 'dialog': 1232, 'editing': 1421, 'god': 1926, 'since': 3990, 'alone': 194, 'felt': 1692, 'free': 1827, 'talk': 4358, 'talked': 4359, 'mighty': 2836, 'power': 3359, 'rangers': 3517, 'godzilla': 1929, 'combat': 882, 'lord': 2652, 'rings': 3699, 'expected': 1577, 'portraying': 3343, 'army': 295, 'creatures': 1046, 'introduce': 2336, 'things': 4451, 'loaded': 2632, 'wide': 4880, 'introduces': 2338, 'develops': 1226, 'asleep': 320, 'overly': 3155, 'simple': 3983, 'myself': 2953, 'holes': 2133, 'americans': 214, 'spoke': 4125, 'broken': 594, 'english': 1483, 'badly': 383, 'final': 1722, 'value': 4709, 'ethan': 1528, 'cry': 1073, 'sarah': 3785, 'hadnt': 2004, 'life': 2592, 'anyways': 262, 'seem': 3861, 'upset': 4687, 'left': 2561, 'knowing': 2490, 'figure': 1711, 'shouldnt': 3952, 'dress': 1357, 'spirit': 4113, 'wearing': 4831, 'borrowed': 545, 'queen': 3485, 'elizabeth': 1445, 'hero': 2088, 'brought': 600, 'finish': 1732, 'job': 2405, 'task': 4368, 'jack': 2373, 'hes': 2093, 'map': 2733, 'helicopter': 2076, 'whats': 4860, 'send': 3875, 'smoke': 4039, 'given': 1913, 'killed': 2469, 'heroes': 2089, 'stayed': 4167, 'wed': 4835, 'paid': 3169, 'soon': 4074, 'hit': 2122, 'door': 1328, 'admit': 122, 'eager': 1396, 'fifteen': 1706, 'minutes': 2859, 'nostalgic': 3039, 'hill': 2108, 'politically': 3325, 'correct': 1000, 'civil': 826, 'rights': 3697, 'possible': 3350, 'controversial': 978, 'topic': 4526, 'threw': 4470, 'stupid': 4247, 'sort': 4077, 'especially': 1520, 'nobody': 3022, 'fully': 1847, 'accept': 80, 'crap': 1031, 'vietnam': 4735, 'war': 4792, 'sit': 4003, 'read': 3543, 'against': 147, 'wanted': 4789, 'body': 527, 'everything': 1544, 'aint': 163, 'dreadful': 1353, 'million': 2847, 'shame': 3918, 'sucks': 4271, 'predictable': 3367, 'quality': 3484, 'wrote': 4974, 'obvious': 3071, 'self': 3869, 'forget': 1793, 'nevertheless': 3002, 'virginia': 4750, 'mother': 2911, 'im': 2232, 'diane': 1238, 'lane': 2515, 'reasons': 3560, 'id': 2212, 'production': 3419, 'values': 4710, 'usual': 4699, 'standards': 4145, 'several': 3905, 'mood': 2898, 'german': 1896, 'noir': 3023, 'want': 4788, 'safe': 3771, 'underrated': 4642, 'show': 3953, 'daughter': 1121, 'feeling': 1685, 'friday': 1834, '13th': 5, 'pointless': 3318, 'supernatural': 4302, 'mean': 2779, 'under': 4639, 'guys': 2001, 'sound': 4081, 'blind': 506, 'failed': 1626, 'execution': 1566, 'walks': 4780, 'kills': 2474, 'used': 4693, 'tired': 4501, 'words': 4938, 'unreal': 4676, 'mistakes': 2873, 'confusing': 942, 'impressive': 2253, 'intriguing': 2335, 'directed': 1259, 'offers': 3090, 'glimpse': 1919, 'spanish': 4092, 'history': 2121, 'author': 359, 'viewer': 4738, 'days': 1130, 'country': 1014, 'friends': 1837, 'meet': 2793, 'countryside': 1015, 'boys': 559, 'happily': 2030, 'evil': 1548, 'age': 148, 'taking': 4352, 'games': 1865, 'adult': 125, 'suffering': 4277, 'treated': 4573, 'health': 2060, 'tough': 4537, 'relationship': 3597, 'consequences': 947, 'older': 3101, 'impression': 2252, 'vulnerable': 4768, 'youth': 4994, 'angela': 232, 'puts': 3481, 'appearance': 274, 'wife': 4884, 'simon': 3982, 'dark': 1115, 'talents': 4356, 'come': 886, 'alive': 186, 'aware': 368, 'theme': 4433, 'explore': 1594, 'western': 4853, 'assault': 324, 'traditional': 4550, 'impossible': 2249, 'expressed': 1601, 'outrageous': 3145, 'vehicle': 4718, 'fantastic': 1651, 'underground': 4640, 'cat': 713, 'white': 4870, 'miracle': 2860, 'recently': 3567, 'promise': 3430, 'slapstick': 4019, 'style': 4249, 'culture': 1079, 'case': 707, 'world': 4946, 'city': 825, 'urban': 4688, 'space': 4090, 'village': 4743, 'exploitation': 1592, 'sense': 3877, 'identity': 2217, 'toward': 4539, 'kid': 2464, 'notion': 3050, 'funeral': 1849, 'mass': 2753, 'wedding': 4836, 'road': 3709, 'represents': 3639, 'ie': 2221, 'tradition': 4549, 'within': 4912, 'context': 968, 'brilliantly': 584, 'unique': 4662, 'serving': 3897, 'portrayal': 3341, 'four': 1812, 'teenage': 4389, 'girls': 1911, 'los': 2653, 'angeles': 233, 'kinds': 2478, 'trouble': 4592, 'parties': 3196, 'cops': 993, 'mixed': 2877, 'parents': 3188, 'foster': 1809, 'pack': 3165, 'unit': 4663, 'shes': 3930, 'slowly': 4032, 'grows': 1985, 'throughout': 4478, 'need': 2987, 'sequence': 3887, 'scott': 3824, 'car': 680, 'full': 1846, 'thugs': 4484, 'longer': 2645, 'strange': 4211, 'pain': 3170, 'downright': 1337, 'late': 2523, 'basically': 407, 'sensitive': 3879, 'loss': 2659, 'tight': 4492, 'bond': 532, 'face': 1616, 'speaks': 4096, 'earned': 1401, 'tears': 4380, 'sympathy': 4343, 'friendship': 1838, 'hopes': 2159, 'sky': 4017, 'highly': 2105, 'easy': 1410, 'gripping': 1976, 'actresses': 106, 'fairly': 1631, 'jake': 2377, 'chris': 806, 'cooper': 990, 'frankly': 1823, 'achievement': 94, 'heat': 2067, 'original': 3129, 'don': 1320, 'narrative': 2966, 'cinematography': 820, 'relies': 3606, 'riveting': 3708, 'situation': 4008, 'trapped': 4564, 'audience': 352, 'feel': 1684, 'homer': 2144, 'desire': 1205, 'father': 1666, 'recognition': 3568, 'create': 1036, 'wins': 4899, '2001': 31, 'japanese': 2382, 'mini': 2854, 'rocket': 3721, 'inspiration': 2300, 'provide': 3448, 'comparison': 914, 'unfolds': 4651, 'crying': 1074, 'loud': 2664, 'claim': 828, 'destiny': 1212, 'criticism': 1063, 'society': 4050, 'starring': 4154, 'outstanding': 3147, 'focuses': 1768, 'ordinary': 3128, 'travel': 4567, 'becoming': 435, 'advertising': 132, 'torn': 4528, 'apart': 264, 'complex': 923, 'extreme': 1609, 'brother': 598, 'feels': 1687, 'married': 2744, 'scared': 3805, 'social': 4049, 'definition': 1163, 'steps': 4177, 'force': 1786, 'dreams': 1355, 'ideal': 2214, 'tour': 4538, 'called': 652, 'fails': 1628, 'girlfriend': 1910, 'decides': 1150, 'leave': 2555, 'finds': 1728, 'strength': 4219, 'determined': 1221, 'sea': 3838, 'attractive': 351, 'regret': 3591, 'told': 4513, 'tried': 4584, 'despite': 1211, 'hurts': 2203, 'legs': 2566, 'needs': 2990, 'move': 2921, 'around': 297, 'crazy': 1035, 'courage': 1018, 'loves': 2674, 'guide': 1993, 'camp': 662, 'let': 2579, 'children': 792, 'learn': 2550, 'tree': 4576, 'poster': 3353, 'board': 522, '2004': 34, 'piece': 3272, 'paper': 3183, 'ticket': 4487, 'heroic': 2090, 'urge': 4689, 'realize': 3552, 'wonder': 4926, 'unlike': 4670, 'opinions': 3119, 'recommend': 3571, 'imdb': 2240, 'touched': 4534, 'sorry': 4076, 'somebody': 4062, 'japan': 2381, 'saying': 3800, 'grave': 1962, 'excuse': 1564, 'hang': 2022, 'expecting': 1578, 'jet': 2400, 'li': 2587, 'mask': 2752, 'wall': 4781, 'running': 3756, 'gruesome': 1986, 'plenty': 3307, 'creative': 1041, 'innocent': 2294, 'arts': 310, 'compared': 912, 'holding': 2130, 'gratuitous': 1961, 'violence': 4747, 'whatsoever': 4861, 'happy': 2032, 'magnificent': 2705, 'wrong': 4973, 'horrendous': 2162, 'dubbing': 1380, 'site': 4005, 'remote': 3622, 'premise': 3370, 'access': 83, 'win': 4892, 'race': 3499, 'winner': 4897, 'game': 1864, 'choice': 797, 'mission': 2870, 'lucky': 2683, 'equipment': 1511, 'spots': 4132, 'stone': 4197, 'square': 4136, 'town': 4541, 'beyond': 476, 'awkward': 374, 'romantic': 3733, 'depressed': 1187, 'whose': 4877, 'climax': 849, 'winning': 4898, 'wishes': 4906, 'government': 1948, 'cover': 1022, 'depicting': 1184, 'machine': 2693, 'rent': 3626, 'kurt': 2499, 'kick': 2460, 'double': 1331, 'twists': 4619, 'position': 3345, 'cinematic': 818, 'musicals': 2948, 'twenty': 4612, 'spell': 4104, 'golden': 1934, 'era': 1513, 'classics': 837, 'period': 3236, 'rain': 3506, 'american': 213, 'paris': 3189, 'seven': 3903, 'brothers': 599, 'south': 4087, 'king': 2479, 'tall': 4362, 'musical': 2947, 'carol': 693, '1968': 16, 'oliver': 3102, 'adapted': 114, 'dickens': 1240, 'successful': 4266, 'stage': 4139, 'six': 4010, 'oscars': 3134, 'award': 366, 'twist': 4617, 'mark': 2739, 'lives': 2628, 'miserable': 2863, 'existence': 1571, 'having': 2054, 'died': 1244, 'giving': 1915, 'birth': 486, 'following': 1774, 'incident': 2260, 'ends': 1474, 'settle': 3902, 'particularly': 3195, 'new': 3003, 'escapes': 1519, 'troubled': 4593, 'journey': 2421, 'london': 2641, 'seek': 3858, 'fortune': 1806, 'wing': 4896, 'child': 789, 'turn': 4605, 'ron': 3734, 'moody': 2899, 'elderly': 1440, 'charge': 761, 'gang': 1867, 'nature': 2975, 'thief': 4448, 'menacing': 2807, 'bill': 481, 'adventures': 131, 'discovers': 1281, 'rich': 3685, 'background': 380, 'chances': 748, 'ambitious': 211, 'consistently': 954, 'eye': 1611, 'acted': 98, 'talented': 4355, 'considerable': 950, 'stealing': 4171, 'performance': 3228, 'genuine': 1891, 'numbers': 3061, 'staged': 4140, 'incredible': 2269, 'oscar': 3133, 'choreography': 802, 'helps': 2082, 'song': 4071, 'dance': 1103, 'memorable': 2802, 'lively': 2627, 'performers': 3232, 'direction': 1261, 'play': 3296, 'unforgettable': 4652, 'tunes': 4603, 'include': 2261, 'glorious': 1921, 'consider': 949, 'pick': 3265, 'immensely': 2243, 'catchy': 717, 'via': 4726, 'put': 3480, 'experience': 1580, 'loses': 2657, 'minute': 2858, 'sick': 3963, 'please': 3304, 'likes': 2602, 'questions': 3489, 'roles': 3727, 'bother': 548, 'boyfriend': 558, 'sat': 3786, 'horror': 2168, 'listed': 2618, 'total': 4531, 'disappointment': 1275, 'lion': 2614, 'easily': 1406, 'disney': 1289, 'animation': 242, 'pride': 3391, 'sequel': 3885, 'feature': 1678, 'deserved': 1200, 'theatrical': 4430, 'exciting': 1563, 'touching': 4536, 'extended': 1604, 'impressed': 2251, 'shorts': 3948, 'television': 4394, 'efforts': 1433, 'blend': 504, 'matthew': 2772, 'robert': 3713, 'kelly': 2452, 'return': 3665, 'goldberg': 1933, 'complete': 921, 'loose': 2650, '100': 1, 'tune': 4602, 'commercials': 903, 'dig': 1250, 'anyway': 261, 'season': 3843, 'secret': 3849, 'already': 197, 'living': 2629, 'rock': 3720, 'women': 4923, 'america': 212, 'nicely': 3009, 'rather': 3528, 'stretch': 4221, 'imagination': 2236, 'mayor': 2777, 'honest': 2146, 'concerned': 932, 'tends': 4402, 'atmosphere': 333, 'weve': 4856, 'grown': 1984, 'gritty': 1977, 'reality': 3551, 'comparing': 913, 'green': 1971, 'valley': 4707, 'admire': 121, 'joan': 2404, 'entertainment': 1500, 'suited': 4286, 'exposed': 1598, 'classical': 836, 'thoughtful': 4463, 'growing': 1983, 'thank': 4421, 'goodness': 1938, 'warm': 4794, 'trite': 4589, 'worn': 4948, 'cliché': 844, 'mad': 2696, 'scientist': 3818, 'gone': 1935, 'centers': 734, 'bring': 585, 'experiment': 1583, 'creates': 1038, 'creature': 1045, 'promising': 3433, 'suspenseful': 4331, 'mediocre': 2791, 'check': 777, 'stop': 4201, 'thriller': 4472, 'veteran': 4724, 'martin': 2748, 'leads': 2548, 'trio': 4587, 'nuclear': 3057, 'dean': 1139, 'hamilton': 2012, 'heavy': 2070, 'massive': 2756, 'beach': 419, 'hot': 2174, 'pearl': 3220, 'walk': 4775, 'thru': 4483, 'promised': 3431, 'kept': 2456, 'thinking': 4453, 'spoiler': 4123, 'alert': 178, 'earth': 1403, 'super': 4295, 'manages': 2725, 'crash': 1033, 'advanced': 128, 'civilization': 827, 'develop': 1222, 'landing': 2512, 'industry': 2280, 'liberal': 2588, 'woody': 4936, 'blacks': 494, 'superman': 4301, 'runs': 3757, 'saving': 3797, 'sticks': 4186, 'europe': 1529, 'areas': 287, '30': 42, 'comments': 901, 'grinch': 1975, 'jim': 2402, 'carrey': 696, 'physical': 3262, 'comedian': 887, 'clever': 841, 'myers': 2952, 'hand': 2015, 'annoying': 249, 'murderer': 2941, 'fond': 1776, 'powers': 3361, 'hat': 2045, 'gags': 1862, 'inappropriate': 2259, 'content': 966, 'dated': 1119, '50': 51, 'mom': 2885, 'villain': 4744, 'pulled': 3462, 'seemed': 3862, 'sets': 3899, 'props': 3439, 'poor': 3328, 'dr': 1340, 'genius': 1887, 'ruin': 3750, 'reputation': 3640, 'lazy': 2543, 'suffer': 4275, 'shower': 3957, 'dinner': 1254, 'sleep': 4024, 'silence': 3974, 'thrill': 4471, 'intimate': 2331, 'false': 1641, 'art': 304, 'thousands': 4466, 'stay': 4166, 'gay': 1876, 'festival': 1697, 'italian': 2367, 'decision': 1151, 'presented': 3376, 'awards': 367, 'excellent': 1555, 'question': 3487, 'fashion': 1659, 'germans': 1897, 'matter': 2769, 'begin': 442, 'neat': 2982, 'quirky': 3493, 'lacks': 2505, 'substance': 4258, 'use': 4692, 'large': 2517, 'students': 4239, 'notice': 3048, 'important': 2247, 'opening': 3114, 'lyrics': 2692, 'singing': 3995, 'duke': 1383, 'earl': 1398, 'sing': 3992, 'wallace': 4782, 'cleverly': 842, 'tension': 4404, 'sorts': 4078, 'flop': 1760, 'week': 4837, 'distinct': 1296, 'field': 1704, 'inspired': 2301, 'handled': 2019, 'hasnt': 2044, 'grace': 1950, 'performed': 3230, 'bollywood': 530, 'grow': 1982, 'jeffrey': 2391, 'insane': 2296, 'cell': 730, 'research': 3644, 'scheme': 3812, 'shark': 3921, 'brand': 565, 'species': 4098, 'hunter': 2199, 'wont': 4932, 'broad': 590, 'william': 4887, 'fight': 1707, 'business': 633, 'executive': 1567, 'arthur': 305, 'roberts': 3714, 'brilliant': 583, 'minds': 2852, 'island': 2361, 'experiments': 1584, 'opportunity': 3121, 'victims': 4730, 'son': 4070, 'professional': 3421, 'affair': 135, 'variety': 4714, 'dying': 1393, 'decided': 1149, 'perform': 3227, 'science': 3816, 'creating': 1039, 'blood': 512, 'flesh': 1753, 'eating': 1413, 'swim': 4337, 'dry': 1377, 'remain': 3609, 'dating': 1120, 'hence': 2083, 'connection': 946, 'besides': 468, 'brings': 587, 'johnson': 2411, 'able': 66, 'escape': 1517, 'onto': 3111, 'sends': 3876, 'sci': 3815, 'fi': 1701, 'channel': 753, 'features': 1680, 'computer': 927, 'generated': 1882, 'quick': 3490, 'format': 1799, 'seeing': 3857, 'gory': 1943, 'vague': 4705, 'attacks': 339, 'monster': 2892, 'itself': 2371, 'victim': 4729, 'screams': 3828, 'certain': 737, 'teeth': 4393, 'shots': 3950, 'swimming': 4338, 'ready': 3546, 'constant': 957, 'attacked': 338, 'deal': 1135, 'bits': 490, 'waters': 4817, 'break': 569, 'ground': 1979, 'ability': 65, 'convey': 982, 'quiet': 3492, 'madness': 2698, 'rare': 3523, 'clean': 838, 'cut': 1089, 'credit': 1049, 'assume': 328, 'group': 1980, 'faces': 1618, 'businessman': 634, 'gun': 1996, 'fate': 1665, 'pleasant': 3302, 'mentioning': 2812, 'hired': 2117, 'allows': 192, 'created': 1037, 'murderous': 2942, 'unnecessary': 4672, 'danger': 1109, 'pay': 3216, 'seriously': 3892, 'human': 2188, 'exotic': 1574, 'backdrop': 379, 'lacking': 2504, 'disjointed': 1287, 'illogical': 2231, 'became': 431, 'mid': 2832, '80s': 59, 'intrigued': 2334, 'ingredients': 2289, 'wise': 4903, 'rescue': 3643, 'dust': 1388, 'faithful': 1634, 'word': 4937, 'forgettable': 1794, 'smile': 4036, 'paul': 3214, 'falk': 1636, 'soundtrack': 4085, 'beautifully': 429, 'fitting': 1742, 'breath': 573, 'air': 164, 'surely': 4309, 'deserves': 1201, 'frequent': 1831, 'walked': 4776, 'warmth': 4796, 'wrapped': 4964, 'treasure': 4571, 'delight': 1167, 'primary': 3394, 'aspect': 321, 'miss': 2866, 'chess': 783, 'private': 3404, 'explain': 1586, 'spoilers': 4124, 'versus': 4722, 'chooses': 800, 'behave': 445, 'aunt': 355, 'described': 1195, 'introduced': 2337, 'listen': 2619, 'asks': 319, 'flashbacks': 1747, 'lit': 2621, 'stunning': 4244, 'various': 4715, 'enemies': 1476, 'actions': 101, 'whos': 4876, 'side': 3965, 'understanding': 4645, 'comment': 898, 'happening': 2028, 'constantly': 958, 'levels': 2585, 'joy': 2422, 'alice': 182, 'fairy': 1632, 'tale': 4353, 'bloody': 513, 'murders': 2943, 'occurred': 3077, 'center': 732, 'johnny': 2410, 'himself': 2111, 'holmes': 2139, 'daddy': 1096, 'infamous': 2284, '13': 4, 'hardcore': 2034, 'occasionally': 3075, 'supporting': 4304, 'players': 3299, 'lucas': 2680, 'kate': 2446, 'lisa': 2616, 'eric': 1514, 'directly': 1263, 'support': 4303, 'gradually': 1952, 'player': 3298, 'charismatic': 763, 'turns': 4609, 'sweet': 4336, 'james': 2378, 'cox': 1026, 'proved': 3446, 'vast': 4716, 'eventually': 1537, 'aids': 161, 'virus': 4752, 'wondering': 4930, 'laid': 2508, 'weapon': 4828, 'average': 362, 'am': 204, 'familiar': 1643, 'seventies': 3904, 'bergman': 466, 'express': 1600, 'inner': 2292, 'feelings': 1686, 'worried': 4949, 'commercial': 902, 'fool': 1779, 'water': 4816, 'desperation': 1210, 'steal': 4170, 'public': 3460, 'porno': 3337, 'neighbor': 2992, 'comfortable': 892, 'pie': 3271, 'number': 3060, '60': 53, 'difficult': 1249, 'selfish': 3870, 'pseudo': 3454, 'limits': 2607, 'subjects': 4254, 'open': 3112, 'anywhere': 263, 'tricks': 4583, 'packed': 3166, 'fooled': 1780, 'originally': 3131, 'filmed': 1717, 'empty': 1465, 'nights': 3016, 'david': 1124, 'produced': 3414, '20th': 38, 'century': 736, 'henry': 2084, 'susan': 4326, 'raymond': 3534, 'moore': 2901, 'second': 3846, 'testament': 4417, 'holy': 2140, 'bible': 477, 'giant': 1905, 'causing': 726, 'problems': 3409, 'typically': 4624, 'designs': 1204, 'photography': 3260, 'sitting': 4007, 'offer': 3087, 'paced': 3162, 'driven': 1365, 'purely': 3472, 'fans': 1650, 'lets': 2580, 'beat': 423, 'burning': 627, 'bush': 632, 'breaking': 570, 'pushing': 3479, 'max': 2774, 'skill': 4013, 'forgotten': 1797, 'cringe': 1059, 'inducing': 2279, 'ghost': 1902, 'mrs': 2930, 'nominated': 3025, 'holds': 2131, 'attention': 345, 'terms': 4406, 'genres': 1889, 'likely': 2601, 'ten': 4399, 'flawless': 1751, 'certainly': 738, 'captured': 677, 'bar': 396, 'high': 2100, 'twice': 4613, 'adventure': 130, 'memories': 2803, 'enter': 1494, 'wwii': 4975, 'continue': 969, 'underlying': 4641, 'justin': 2440, 'hits': 2125, 'intelligent': 2314, 'forms': 1801, 'producers': 3416, 'category': 718, 'persons': 3244, 'closest': 857, 'drives': 1367, 'members': 2801, 'mouth': 2920, 'wishing': 4907, 'indeed': 2271, 'ex': 1549, 'pull': 3461, 'interest': 2323, 'bland': 500, 'flat': 1748, 'extremely': 1610, 'comical': 894, 'generally': 1881, 'required': 3641, 'chick': 786, 'visuals': 4759, 'involving': 2349, 'overall': 3150, 'barely': 399, 'network': 3000, 'simply': 3986, 'resist': 3648, 'enjoying': 1487, 'cable': 644, 'proves': 3447, 'jumps': 2432, 'devoid': 1230, 'independent': 2272, 'bourne': 554, 'chased': 770, 'deeper': 1155, 'favor': 1670, 'armed': 293, 'amateurish': 207, 'believable': 453, 'definitely': 1162, 'credibility': 1047, 'loved': 2670, 'local': 2634, 'police': 3322, 'market': 2740, 'streets': 4217, 'speed': 4103, 'head': 2057, 'editor': 1423, 'seconds': 3848, 'effect': 1428, 'pages': 3168, 'shoot': 3942, 'whilst': 4869, 'drunk': 1375, 'worry': 4950, 'tie': 4488, 'allowing': 191, 'silver': 3977, 'cia': 814, 'tender': 4401, 'treatment': 4574, 'jason': 2383, 'putting': 3482, 'line': 2610, 'male': 2719, 'drops': 1372, 'floor': 1759, 'arent': 288, 'except': 1556, 'females': 1694, 'threat': 4467, 'humanity': 2189, 'fan': 1648, 'drop': 1369, 'suddenly': 4273, 'guilt': 1994, 'pulling': 3463, 'yeah': 4977, 'moment': 2886, 'run': 3755, 'wonders': 4931, 'hearing': 2063, 'nasty': 2968, 'shooting': 3943, 'lovely': 2671, 'utter': 4701, 'rubbish': 3748, 'absolutely': 72, 'therefore': 4439, 'australian': 357, 'atrocious': 335, 'attempt': 340, 'general': 1880, 'news': 3005, 'straight': 4210, 'zone': 4999, 'unintentional': 4658, 'storyline': 4208, 'record': 3573, 'producer': 3415, 'crew': 1053, 'drive': 1363, 'named': 2961, 'lake': 2509, 'rural': 3758, 'somewhere': 4069, 'victoria': 4732, 'picking': 3267, 'sharp': 3922, 'knife': 2487, 'survivors': 4325, 'surface': 4310, 'standard': 4144, 'slasher': 4020, 'creepy': 1052, 'whom': 4875, 'station': 4164, 'competition': 918, 'ah': 158, 'amusing': 221, 'member': 2800, 'tony': 4521, 'actual': 108, 'believed': 455, 'writer': 4968, 'wood': 4933, 'hoped': 2156, 'element': 1442, 'disappointed': 1273, 'pass': 3201, 'whether': 4866, 'search': 3841, 'weekend': 4838, 'warning': 4800, 'internet': 2327, 'porn': 3336, 'wasted': 4809, 'celluloid': 731, 'filmmakers': 1720, 'insult': 2309, 'filled': 1715, 'mr': 2929, 'jr': 2423, 'intellectual': 2312, 'dies': 1245, 'slow': 4031, 'painful': 3171, 'write': 4967, '25': 40, 'british': 589, 'caught': 722, 'bought': 552, 'remembered': 3617, 'colour': 880, 'clothes': 860, 'earlier': 1399, 'anna': 245, 'spring': 4134, 'park': 3190, 'charming': 768, '1940s': 13, 'established': 1524, 'maker': 2714, 'length': 2569, 'regard': 3588, 'pop': 3330, 'melodrama': 2797, 'hide': 2097, 'hysterical': 2208, 'sounds': 4084, 'mouse': 2919, 'disappeared': 1271, 'sight': 3969, 'punk': 3468, 'born': 544, 'dull': 1384, 'cheap': 774, 'control': 977, 'receive': 3563, 'messages': 2820, 'outer': 3143, 'campy': 664, 'christopher': 811, 'lee': 2559, 'gives': 1914, 'strictly': 4223, 'performances': 3229, 'count': 1010, 'reviews': 3679, 'slaughter': 4021, 'fame': 1642, 'suicide': 4283, 'due': 1382, 'current': 1084, 'pathetic': 3210, 'disagree': 1269, 'wondered': 4927, 'naked': 2959, 'embarrassing': 1454, '12': 3, 'grade': 1951, 'agree': 155, 'bath': 411, 'murdered': 2940, 'mystery': 2956, 'hopefully': 2157, 'discovered': 1280, 'doing': 1312, 'tells': 4397, 'teenager': 4390, 'thumbs': 4485, 'steve': 4181, 'stated': 4161, 'moon': 2900, 'ended': 1470, 'paying': 3217, 'dvds': 1392, 'master': 2757, 'plain': 3286, 'motion': 2913, 'redeeming': 3577, 'qualities': 3483, 'presence': 3373, 'ray': 3533, 'transfer': 4559, 'worthwhile': 4955, 'fault': 1668, 'relative': 3599, 'holly': 2136, 'sam': 3777, 'spite': 4117, 'equally': 1510, 'lousy': 2667, 'pamela': 3179, 'wes': 4851, 'dramatic': 1348, 'sole': 4055, 'debut': 1143, 'minimum': 2856, 'table': 4346, 'ahead': 159, 'portray': 3340, 'heroine': 2091, 'act': 97, 'paint': 3173, 'walls': 4783, 'aside': 315, 'spends': 4107, 'majority': 2712, 'crisis': 1060, 'reaction': 3541, 'cheated': 775, 'circumstances': 822, 'extent': 1605, 'speaking': 4095, 'successfully': 4267, 'messed': 2821, 'marriage': 2743, 'passing': 3204, 'gray': 1963, 'speak': 4094, 'responsibility': 3655, 'standing': 4146, 'depicted': 1183, 'elements': 1443, 'alongside': 196, 'forced': 1787, 'choose': 799, 'mistake': 2871, 'focus': 1766, 'soft': 4051, 'confused': 941, 'handsome': 2021, 'developed': 1223, 'nail': 2957, 'lay': 2542, 'arms': 294, 'dangerous': 1110, 'dozen': 1338, 'parallel': 3185, 'event': 1535, 'walking': 4779, 'sign': 3970, 'asking': 318, 'prefer': 3368, 'eyes': 1613, 'gave': 1875, 'bonus': 534, 'term': 4405, 'serious': 3891, 'theaters': 4428, 'fill': 1714, 'comedies': 889, '40': 48, 'virgin': 4749, 'fit': 1740, 'plus': 3311, 'delivers': 1172, 'commentary': 899, 'situations': 4009, 'andy': 230, 'shy': 3962, 'figures': 1713, 'watches': 4814, 'survivor': 4324, 'neighbors': 2994, 'co': 867, 'worker': 4942, 'believes': 456, 'revealed': 3671, 'opposite': 3123, 'passionate': 3206, 'ran': 3513, 'jay': 2386, 'affected': 137, 'cheating': 776, 'store': 4204, 'depressing': 1188, 'magic': 2703, 'baby': 376, 'bodies': 526, 'peoples': 3222, 'thoughts': 4464, 'forward': 1808, 'stuff': 4243, 'graphic': 1958, 'horrifying': 2167, 'scary': 3807, 'asian': 314, 'tonight': 4519, 'nyc': 3065, 'sunshine': 4294, 'anti': 254, 'politics': 3326, 'soldiers': 4054, 'mainly': 2708, 'training': 4558, 'boot': 538, 'returned': 3666, 'surviving': 4323, 'command': 897, 'souls': 4080, 'shed': 3924, 'amazing': 209, 'mtv': 2933, 'dog': 1310, 'dick': 1239, 'fat': 1663, 'color': 877, 'saved': 3795, 'deserve': 1199, 'ensemble': 1492, 'superb': 4296, 'distance': 1294, 'hanging': 2023, 'concept': 930, 'merit': 2816, 'loving': 2675, 'forces': 1788, 'appreciate': 279, 'sadly': 3769, 'available': 361, 'eat': 1411, 'enjoyable': 1485, 'somehow': 4063, 'surprised': 4313, 'came': 656, 'translation': 4562, 'cases': 708, 'european': 1530, 'subtitles': 4259, 'shut': 3961, 'narrator': 2967, 'absurd': 73, 'candy': 668, 'endless': 1473, 'speech': 4102, 'pictures': 3270, 'planning': 3291, 'horribly': 2164, 'experiences': 1582, 'useless': 4695, 'cultural': 1078, 'haunted': 2050, 'abusive': 75, 'demon': 1177, 'angel': 231, 'busy': 635, 'focused': 1767, 'held': 2074, 'finger': 1731, 'flicks': 1755, 'seasons': 3844, 'chief': 788, '1st': 28, 'september': 3884, 'episode': 1507, 'aired': 165, 'lone': 2642, 'broadcast': 591, 'switch': 4339, 'filming': 1718, 'westerns': 4854, '1960s': 15, 'prime': 3395, '17': 9, 'explained': 1587, 'keeps': 2451, 'whatever': 4859, 'quickly': 3491, 'slight': 4027, 'builds': 617, 'cuts': 1091, 'intention': 2319, 'unintentionally': 4659, 'scares': 3806, 'wave': 4818, 'confusion': 943, 'laughter': 2535, 'avoid': 363, 'capturing': 679, 'happiness': 2031, 'perfectly': 3226, 'according': 88, 'stock': 4193, 'locations': 2636, 'bettie': 473, 'page': 3167, 'hugh': 2186, 'official': 3094, 'unsettling': 4679, 'costumes': 1006, 'wait': 4770, 'portrait': 3339, 'reference': 3582, 'images': 2235, 'companion': 909, 'viewing': 4740, 'savage': 3793, 'pulp': 3465, 'magazine': 2701, 'kenneth': 2455, '30s': 44, 'five': 1743, 'tarzan': 4367, 'chance': 747, 'lived': 2626, 'shown': 3959, 'tongue': 4518, 'cheek': 779, 'batman': 413, 'benefit': 465, 'visual': 4757, 'corny': 997, 'cheesy': 781, 'dumb': 1385, 'stereotypes': 4179, 'fascinating': 1658, 'arnold': 296, 'remake': 3612, 'imagine': 2238, 'uwe': 4703, 'nuts': 3064, 'punch': 3466, 'boll': 529, 'dead': 1132, 'normally': 3034, 'credible': 1048, 'released': 3603, 'bigger': 479, 'coherent': 871, 'projects': 3428, 'rushed': 3760, 'law': 2538, 'closed': 854, 'bomb': 531, 'frame': 1815, 'result': 3660, 'cynical': 1093, 'hollywoods': 2138, 'calling': 653, 'ed': 1415, 'easier': 1405, 'ninja': 3018, 'stands': 4147, 'managed': 2723, 'fire': 1734, 'sub': 4252, 'invisible': 2344, 'shell': 3927, 'stunt': 4245, 'existent': 1572, 'costs': 1004, 'area': 286, 'creator': 1043, 'material': 2766, 'louis': 2665, 'stupidity': 4248, 'natural': 2973, 'conclusion': 936, 'andrew': 228, 'davis': 1126, 'ford': 1789, 'steven': 4182, 'seagal': 3839, 'jon': 2416, 'voight': 4764, 'sir': 4000, 'goofy': 1939, 'performer': 3231, 'laughed': 2532, 'investigate': 2342, 'exercise': 1568, 'tim': 4494, 'blake': 498, 'nelson': 2997, 'solid': 4057, 'whenever': 4863, 'settings': 3901, 'population': 3335, 'land': 2511, 'bottle': 550, 'hole': 2132, 'kudos': 2497, 'smith': 4038, 'stanley': 4148, 'baseball': 403, 'weird': 4841, 'events': 1536, 'key': 2458, 'mature': 2773, 'juvenile': 2441, 'college': 875, 'wicked': 4879, '2000': 30, 'decide': 1148, 'cash': 709, 'granted': 1957, 'whoever': 4872, 'ranks': 3519, 'club': 863, '2003': 33, 'river': 3707, 'harry': 2039, 'blow': 514, 'nose': 3037, 'everybody': 1540, 'freak': 1824, 'embarrassed': 1453, 'violent': 4748, 'stooges': 4200, 'howard': 2182, 'needless': 2989, 'produce': 3413, 'monkeys': 2891, 'cameras': 660, 'dollars': 1315, 'dare': 1113, 'streep': 4215, 'germany': 1898, 'countries': 1013, 'wooden': 4934, 'pretentious': 3383, 'ourselves': 3140, 'contrary': 974, 'originality': 3130, 'robin': 3715, 'woods': 4935, 'childrens': 793, 'touches': 4535, 'themes': 4434, 'wish': 4904, 'territory': 4411, 'cube': 1076, 'nowhere': 3056, 'sell': 3871, 'entirely': 1503, 'silly': 3976, 'writers': 4969, 'add': 115, 'language': 2516, 'couldve': 1009, 'gotten': 1947, 'pg': 3250, 'rating': 3529, 'changed': 750, 'wanting': 4790, 'exposure': 1599, 'rate': 3526, 'reasonably': 3559, 'albeit': 173, 'dragged': 1343, 'wouldnt': 4958, 'aged': 149, 'unbearable': 4633, 'teens': 4392, 'fest': 1696, 'chose': 804, 'belongs': 460, 'dawn': 1127, 'terror': 4412, 'notes': 3046, 'clear': 839, 'behavior': 446, 'turkey': 4604, 'widely': 4881, 'accepted': 82, 'issue': 2364, 'moved': 2922, 'connected': 945, 'system': 4345, 'daughters': 1122, 'international': 2326, 'negative': 2991, 'community': 908, 'rocks': 3722, 'nick': 3012, 'figured': 1712, 'featuring': 1681, '75': 57, 'appalling': 268, 'jones': 2418, 'unbelievably': 4635, 'spend': 4105, 'flaw': 1749, 'convoluted': 987, 'clichéd': 845, 'distracting': 1297, 'contains': 964, 'ultimate': 4627, 'landscapes': 2514, 'trees': 4577, 'presumably': 3380, 'importance': 2246, 'message': 2819, 'delivered': 1170, 'artistic': 308, 'executed': 1565, 'level': 2584, 'sucked': 4270, 'biggest': 480, 'stereotypical': 4180, 'blonde': 511, 'smart': 4035, 'huge': 2185, 'boss': 546, 'abc': 63, 'larry': 2520, 'roy': 3745, 'hire': 2116, 'names': 2963, 'improved': 2255, '16': 8, 'fly': 1763, 'crude': 1069, 'barbara': 397, 'streisand': 4218, 'productions': 3420, 'spiritual': 4116, 'witty': 4917, 'classic': 835, 'otherwise': 3137, 'breathtaking': 574, 'problem': 3408, 'lines': 2612, 'ruins': 3752, 'flaws': 1752, 'saves': 3796, 'providing': 3451, 'thanks': 4423, 'basketball': 409, 'eastwood': 1409, 'russian': 3762, 'beauty': 430, 'meaning': 2780, 'scenery': 3810, 'amazed': 208, 'won': 4925, 'sexy': 3911, 'share': 3920, 'humorous': 2193, 'aka': 168, 'warrior': 4802, '60s': 54, 'cameo': 657, 'sake': 3775, 'typical': 4623, 'cars': 702, 'explosion': 1596, 'inevitably': 2283, 'chases': 771, 'cliff': 847, 'sides': 3967, 'ride': 3692, 'waited': 4771, 'choreographed': 801, 'wear': 4830, 'rats': 3531, 'superior': 4300, 'texas': 4418, 'knock': 2488, 'cheese': 780, 'factor': 1622, 'watchable': 4812, 'masters': 2761, 'episodes': 1508, 'financial': 1725, 'compare': 911, 'tales': 4357, 'per': 3223, 'allowed': 190, 'ideas': 2215, 'spent': 4108, 'whereas': 4865, 'unknown': 4668, 'chosen': 805, 'kirk': 2482, 'range': 3516, 'alan': 171, 'horrors': 2169, 'approach': 282, 'regarding': 3589, 'incredibly': 2270, 'base': 402, 'starting': 4158, 'stan': 4142, 'red': 3576, 'gordon': 1940, 'russell': 3761, 'charm': 767, 'light': 2595, 'chasing': 772, 'da': 1094, 'properly': 3437, 'cameron': 661, 'challenge': 743, 'lifetime': 2594, 'recognized': 3570, 'todd': 4510, 'rise': 3702, 'career': 686, 'website': 4834, 'tedious': 4387, 'butler': 637, 'disgusting': 1286, 'worthy': 4956, 'spoof': 4127, 'host': 2173, 'mansion': 2731, 'survive': 4321, 'unable': 4631, 'destruction': 1216, 'fascinated': 1657, 'enjoyed': 1486, 'moving': 2928, 'struggle': 4234, 'sacrifice': 3766, 'convincingly': 986, 'horses': 2171, 'treats': 4575, 'animal': 239, 'recommended': 3572, 'lowest': 2678, 'hundreds': 2196, 'contrast': 975, 'intentions': 2321, 'failure': 1629, 'princess': 3397, 'unbelievable': 4634, 'french': 1830, 'source': 4086, 'scientists': 3819, 'romance': 3732, 'pair': 3176, 'danes': 1108, 'uninspired': 4657, 'interpretation': 2328, 'literature': 2623, '1990s': 25, 'handful': 2017, 'principal': 3398, 'crowd': 1067, 'un': 4630, 'zombie': 4997, 'appearing': 277, 'zombies': 4998, 'unseen': 4678, 'houses': 2180, 'stephen': 4176, 'product': 3418, 'hotel': 2175, 'evening': 1534, 'seemingly': 3863, 'exceptionally': 1559, 'deceased': 1146, 'lovable': 2668, 'ladies': 2506, 'helen': 2075, 'hunt': 2198, 'nude': 3058, 'priceless': 3390, 'funnier': 1850, 'liners': 2611, 'lily': 2605, 'york': 4985, 'higher': 2101, '1933': 12, 'code': 869, 'stanwyck': 4149, 'george': 1893, 'donald': 1321, 'cook': 988, 'ned': 2986, 'stevens': 4183, 'margaret': 2735, 'ann': 244, 'carter': 703, 'harris': 2038, 'wayne': 4821, 'jimmy': 2403, 'deals': 1137, 'brave': 567, 'historically': 2120, 'significant': 3972, 'bringing': 586, 'comic': 893, 'relief': 3605, 'joseph': 2419, 'frank': 1821, 'morgan': 2905, 'delightful': 1168, 'owner': 3159, 'shop': 3945, 'felix': 1689, 'accomplished': 87, 'sullivan': 4288, 'stewart': 4184, 'carrying': 701, 'uses': 4697, 'emotions': 1461, 'fired': 1735, 'shock': 3938, 'anger': 235, 'fear': 1676, 'embarrassment': 1455, 'causes': 725, 'medium': 2792, 'craft': 1028, 'greatly': 1967, 'beating': 425, 'iraq': 2351, 'troops': 4591, 'states': 4163, 'cared': 685, 'military': 2844, 'peace': 3219, 'killers': 2471, 'argument': 291, 'fair': 1630, 'draw': 1349, 'beaten': 424, 'makers': 2715, 'blade': 495, 'vision': 4754, 'corporate': 998, 'technology': 4385, 'sin': 3988, 'creators': 1044, 'department': 1182, 'outcome': 3142, 'crafted': 1029, 'neo': 2998, 'regardless': 3590, 'ben': 463, 'shape': 3919, 'santa': 3783, 'motivation': 2914, 'reactions': 3542, 'needed': 2988, 'recent': 3566, 'decisions': 1152, 'rob': 3710, 'bank': 394, 'stereotype': 4178, 'gonna': 1936, 'comics': 895, 'suck': 4269, 'expectations': 1576, 'sad': 3767, 'restaurant': 3658, 'weapons': 4829, 'destroy': 1213, 'began': 441, 'popularity': 3334, 'mario': 2738, 'tiny': 4500, 'freedom': 1828, 'dimensional': 1253, 'triumph': 4590, 'burt': 629, 'jennifer': 2392, 'pushed': 3478, 'costume': 1005, 'segment': 3867, 'cartoon': 704, 'proper': 3436, 'bitter': 491, 'engage': 1479, 'entertain': 1497, 'neil': 2995, 'evident': 1547, 'walter': 4784, 'matthau': 2771, 'lemmon': 2567, 'types': 4622, 'mixture': 2878, 'sadness': 3770, 'divorce': 1301, 'results': 3662, 'neither': 2996, 'exact': 1550, 'sisters': 4002, 'date': 1118, 'shelley': 3928, 'voices': 4763, 'disneys': 1290, 'timing': 4498, 'despair': 1207, 'spin': 4112, 'missed': 2867, 'represent': 3637, 'depiction': 1185, 'powerful': 3360, 'dialogs': 1233, 'fits': 1741, 'notably': 3042, 'relate': 3593, 'scenario': 3808, 'daniel': 1111, 'lewis': 2586, 'leading': 2547, 'personally': 3243, 'brown': 601, 'strong': 4229, 'tribute': 4581, 'heston': 2094, 'generation': 1883, 'planet': 3289, 'apes': 267, '1973': 19, 'implausible': 2245, 'meat': 2787, 'conspiracy': 956, 'demands': 1175, 'deliver': 1169, 'party': 3200, 'todays': 4509, 'abandoned': 62, '1972': 18, 'contain': 962, 'edward': 1426, 'robinson': 3716, 'involve': 2345, 'usa': 4691, 'disaster': 1276, 'mans': 2730, 'wolf': 4920, 'monkey': 2890, 'eight': 1436, 'education': 1424, 'spending': 4106, 'sue': 4274, '3000': 43, 'gary': 1873, 'pure': 3471, 'convinced': 984, 'epic': 1506, 'rank': 3518, 'soap': 4047, 'opera': 3116, 'gem': 1877, 'drawn': 1351, 'ridiculously': 3694, 'fx': 1858, 'ripped': 3701, '45': 50, 'remarkably': 3614, 'obnoxious': 3067, 'misses': 2868, 'cares': 690, 'failing': 1627, 'tend': 4400, 'trash': 4565, 'hong': 2149, 'kong': 2494, 'mentally': 2809, 'incompetent': 2266, 'dubbed': 1379, 'hollow': 2135, 'asked': 317, 'technically': 4382, 'possibility': 3349, 'adorable': 124, 'met': 2822, 'accent': 78, 'poignant': 3315, 'appropriate': 283, 'equal': 1509, 'wound': 4960, 'committed': 905, 'collection': 874, 'mill': 2845, 'bucks': 606, 'united': 4664, 'nations': 2971, 'plan': 3287, 'arrive': 300, 'building': 615, 'touch': 4533, 'defense': 1159, 'coffee': 870, 'routine': 3743, 'capture': 676, 'hidden': 2096, 'ship': 3934, 'mars': 2746, 'team': 4378, 'flying': 1764, 'monsters': 2893, 'featured': 1679, 'guest': 1992, 'canadian': 667, 'nightmares': 3015, 'afterwards': 145, 'national': 2970, 'symbolism': 4341, 'plant': 3293, 'placed': 3283, 'political': 3324, 'invasion': 2340, 'haunting': 2051, 'library': 2589, 'valuable': 4708, 'dedicated': 1153, 'vacation': 4704, 'leaves': 2556, 'leslie': 2574, 'rental': 3627, 'couples': 1017, 'molly': 2884, 'lloyd': 2630, 'everywhere': 1545, 'prove': 3445, 'hearts': 2066, 'melting': 2799, '2002': 32, 'lesbian': 2573, 'australia': 356, 'warming': 4795, 'progresses': 3426, 'realistic': 3550, 'accurate': 90, 'nor': 3032, 'historical': 2119, 'semi': 3874, 'miles': 2843, 'buildings': 616, 'garbo': 1871, 'exaggerated': 1552, 'meanwhile': 2785, 'ruth': 3763, 'pretending': 3382, 'falling': 1639, 'noticed': 3049, 'foreign': 1790, 'object': 3066, 'replaced': 3634, 'greater': 1965, 'brutal': 603, 'gothic': 1945, 'che': 773, 'cuba': 1075, 'revolution': 3680, 'subsequent': 4257, 'across': 96, 'extraordinary': 1607, 'meeting': 2794, 'hardly': 2036, 'individuals': 2278, 'relationships': 3598, 'wounded': 4961, 'deeply': 1156, 'apparent': 269, 'protect': 3443, 'medical': 2790, 'endure': 1475, 'elaborate': 1439, 'remarkable': 3613, 'beats': 426, 'weeks': 4839, 'portrayed': 3342, 'cutting': 1092, 'hair': 2005, 'attitude': 346, 'staying': 4168, 'combination': 883, 'childish': 791, 'unlikely': 4671, 'bumbling': 622, 'idiots': 2220, 'built': 618, 'details': 1219, 'laughably': 2531, 'match': 2762, 'summer': 4291, 'order': 3126, 'degree': 1164, 'ball': 388, 'scripts': 3836, 'track': 4544, 'firstly': 1737, 'essential': 1522, 'mildly': 2840, 'reveal': 3670, 'secondly': 3847, 'intelligence': 2313, 'developing': 1224, 'hearted': 2065, 'popcorn': 3331, 'importantly': 2248, 'ha': 2002, 'religion': 3607, 'alex': 179, 'passion': 3205, 'cliche': 843, 'nowadays': 3055, 'potential': 3355, 'cameos': 658, 'suit': 4284, 'marie': 2737, 'babe': 375, 'missing': 2869, '14': 6, 'winters': 4901, 'improvement': 2256, 'thousand': 4465, 'inferior': 2285, 'travesty': 4570, 'chicago': 785, 'mountain': 2917, 'resort': 3650, 'throws': 4482, 'cure': 1081, 'strike': 4224, 'mountains': 2918, 'mary': 2751, 'louise': 2666, 'parker': 3191, 'associated': 327, 'assumed': 329, 'psychological': 3458, 'satisfying': 3791, 'reflection': 3585, 'protagonist': 3441, 'cop': 991, 'mentions': 2813, 'focusing': 1769, 'catherine': 719, 'closer': 856, 'trust': 4598, 'legal': 2563, 'lover': 2672, 'kiss': 2483, 'leaving': 2557, 'removed': 3624, 'bothered': 549, 'hated': 2047, 'painted': 3174, 'respected': 3653, 'popular': 3333, 'opposed': 3122, 'teacher': 4375, 'necessarily': 2983, 'convince': 983, 'meets': 2795, 'merely': 2815, 'broadway': 592, 'blatant': 502, 'activities': 102, 'mix': 2876, 'uncomfortable': 4637, 'precious': 3366, 'basis': 408, 'kitchen': 2485, 'sink': 3999, 'thrown': 4481, 'combined': 885, 'overcome': 3151, 'basic': 406, 'report': 3635, 'sunday': 4293, 'phone': 3255, 'central': 735, 'suppose': 4305, 'consistent': 953, 'frustrated': 1842, 'related': 3594, 'vaguely': 4706, 'grim': 1974, 'structure': 4233, 'morning': 2906, 'bang': 393, 'media': 2789, '24': 39, 'location': 2635, 'fish': 1738, 'sees': 3866, 'dignity': 1252, 'ludicrous': 2685, 'huh': 2187, 'finest': 1730, 'endings': 1472, 'random': 3514, 'concert': 935, 'traveling': 4568, 'hates': 2048, 'laurel': 2537, 'conversation': 980, 'conversations': 981, 'accident': 84, 'household': 2179, 'driving': 1368, 'rarely': 3524, 'checking': 778, 'answers': 252, 'thrilling': 4474, 'undoubtedly': 4648, 'nudity': 3059, 'appeal': 271, 'teenagers': 4391, 'adults': 126, 'charlie': 765, 'exception': 1557, 'audio': 354, 'wake': 4774, 'gag': 1861, 'closing': 859, 'sister': 4001, 'victor': 4731, 'places': 3284, 'pet': 3246, 'memory': 2804, 'fred': 1825, 'fortunately': 1805, 'justify': 2439, 'heavily': 2069, 'influenced': 2287, 'homage': 2141, 'altogether': 202, 'latter': 2528, 'belief': 451, 'suits': 4287, 'menace': 2806, 'resulting': 3661, 'jeff': 2390, 'depth': 1190, 'passed': 3202, 'hands': 2020, 'inane': 2258, 'individual': 2277, 'blond': 510, 'vampire': 4711, 'emotional': 1459, 'angry': 238, 'sounding': 4083, 'praise': 3364, 'hyde': 2206, 'teen': 4388, 'ape': 266, 'satire': 3788, 'loosely': 2651, 'ass': 323, 'crappy': 1032, 'extras': 1608, 'trailer': 4554, 'trailers': 4555, 'quest': 3486, 'midnight': 2834, 'splatter': 4118, 'wrestling': 4966, 'multi': 2935, 'issues': 2365, 'facing': 1620, 'britain': 588, 'hitting': 2126, 'shallow': 3917, 'section': 3853, 'obscure': 3068, 'chain': 741, 'alas': 172, 'test': 4416, '1950s': 14, 'mere': 2814, 'opens': 3115, 'corner': 996, 'ties': 4490, 'eddie': 1416, 'grew': 1972, 'sings': 3997, 'amazingly': 210, 'split': 4120, 'hatred': 2049, 'poverty': 3357, 'overwhelming': 3157, 'excitement': 1562, 'prepared': 3371, 'dollar': 1314, 'bin': 483, 'initially': 2291, 'helped': 2080, 'glad': 1916, 'uk': 4626, 'claimed': 829, 'gangster': 1868, 'con': 928, 'definite': 1161, 'superbly': 4297, 'conceived': 929, 'buck': 605, 'universe': 4666, 'throw': 4479, 'techniques': 4384, 'quotes': 3497, 'photos': 3261, 'mob': 2879, 'confidence': 938, 'trick': 4582, 'hiding': 2099, 'enemy': 1477, 'intentionally': 2320, 'tracy': 4546, 'saturday': 3792, 'north': 3036, 'wouldve': 4959, 'stuck': 4237, 'argue': 290, 'effectively': 1430, 'fell': 1690, 'trained': 4557, 'killing': 2472, 'destroying': 1215, 'personalities': 3241, 'fears': 1677, 'carried': 698, 'skills': 4014, 'brief': 579, 'torture': 4529, 'lying': 2690, 'feet': 1688, 'drivel': 1364, 'desired': 1206, 'questionable': 3488, '11': 2, 'nonsense': 3030, 'billy': 482, 'phantom': 3251, 'miller': 2846, 'orders': 3127, 'vs': 4767, 'pro': 3406, 'rules': 3754, 'fonda': 1777, 'addition': 118, 'gold': 1932, 'surprising': 4315, 'amounts': 220, 'tad': 4347, '90': 60, 'class': 833, 'device': 1227, 'brando': 566, 'pilot': 3276, 'korean': 2495, 'conservative': 948, 'relations': 3596, 'theatre': 4429, 'lights': 2597, 'useful': 4694, 'learning': 2552, 'dancing': 1107, 'clothing': 861, 'critical': 1062, 'potentially': 3356, 'changes': 751, 'chaos': 755, 'shoots': 3944, 'evidence': 1546, 'arrested': 298, 'doctor': 1304, 'weakest': 4825, 'imagery': 2234, 'caring': 691, 'chilling': 794, 'decades': 1145, 'pops': 3332, 'boat': 523, 'screaming': 3827, 'shadow': 3912, 'heck': 2071, 'snake': 4042, 'feminist': 1695, 'overlooked': 3154, 'wonderfully': 4929, 'atmospheric': 334, '40s': 49, 'iron': 2354, 'neck': 2985, 'introduction': 2339, 'primarily': 3393, 'viewed': 4737, 'analysis': 224, 'common': 906, 'absence': 70, 'difference': 1246, 'appear': 273, 'curiosity': 1082, 'talks': 4361, 'understood': 4647, 'captivating': 675, 'stood': 4199, 'carries': 699, 'shall': 3916, 'matt': 2768, 'charles': 764, 'shines': 3932, 'portrays': 3344, 'alcohol': 176, 'facial': 1619, 'expressions': 1603, 'calm': 655, 'alcoholic': 177, 'pleasure': 3306, 'inspiring': 2302, 'pool': 3327, 'hold': 2129, 'taxi': 4371, '1930s': 11, 'model': 2880, 'wannabe': 4787, 'beneath': 464, 'pink': 3277, 'airplane': 166, 'sellers': 3872, 'led': 2558, 'offered': 3088, 'supposedly': 4307, 'liking': 2604, 'miserably': 2864, 'skip': 4016, 'unusual': 4681, 'cats': 721, 'core': 995, 'improve': 2254, 'severe': 3906, 'mall': 2720, 'surrounded': 4318, 'relatively': 3600, 'raped': 3522, 'security': 3854, 'guard': 1988, 'kim': 2475, 'immediately': 2242, 'towards': 4540, 'scream': 3826, 'foot': 1781, 'hood': 2151, 'fix': 1744, 'summary': 4290, 'carry': 700, 'sneak': 4043, 'push': 3477, 'refuses': 3587, 'radio': 3504, 'dude': 1381, 'witness': 4914, 'murder': 2939, 'officer': 3092, 'possibilities': 3348, 'raising': 3509, 'hunting': 2201, 'hardy': 2037, 'factory': 1623, 'fourth': 1813, 'crack': 1027, 'eyed': 1612, 'drinking': 1362, 'ocean': 3079, 'window': 4894, 'reads': 3545, 'escaped': 1518, 'sleeping': 4025, 'eg': 1434, 'string': 4227, 'blows': 517, 'rage': 3505, 'till': 4493, 'prison': 3401, 'heres': 2087, 'favourite': 1673, 'hear': 2061, 'ruined': 3751, 'erotic': 1515, 'thrillers': 4473, 'strip': 4228, 'kane': 2442, 'werewolf': 4850, 'transformation': 4560, 'mate': 2765, 'oddly': 3081, 'winds': 4895, 'folks': 1771, 'target': 4366, 'christ': 807, 'quote': 3496, '15': 7, 'changing': 752, 'devil': 1228, 'soul': 4079, 'bear': 420, 'nazis': 2978, 'irish': 2353, 'bull': 619, 'headed': 2058, 'beer': 439, 'jealous': 2388, 'glenn': 1918, 'cinderella': 815, 'chorus': 803, 'orson': 3132, 'welles': 4844, 'ignorant': 2223, 'icon': 2211, 'tremendous': 4579, 'cary': 706, 'attraction': 350, 'spike': 4111, 'measure': 2786, 'remind': 3618, 'travels': 4569, '90s': 61, '2006': 36, 'spoil': 4121, 'stinks': 4192, 'handle': 2018, 'miike': 2837, 'entertained': 1498, 'abuse': 74, 'sold': 4052, 'succeeded': 4263, 'covered': 1023, 'neighborhood': 2993, 'cave': 727, 'roll': 3728, 'step': 4175, 'modesty': 2883, 'crucial': 1068, 'wasting': 4810, 'plausible': 3295, 'wilson': 4891, 'convincing': 985, 'letting': 2583, 'sequels': 3886, 'ritter': 3705, 'lasted': 2522, 'randomly': 3515, 'starred': 4153, 'worthless': 4954, 'prevent': 3385, 'colorful': 878, 'satisfied': 3789, 'visually': 4758, 'eerie': 1427, 'hurt': 2202, 'provided': 3449, 'mine': 2853, 'added': 116, 'frequently': 1832, 'producing': 3417, 'bakshi': 386, 'engaged': 1480, 'march': 2734, 'effective': 1429, 'dirty': 1268, 'pretend': 3381, 'gotta': 1946, 'hung': 2197, 'magical': 2704, 'remarks': 3615, 'secrets': 3852, 'realism': 3549, 'lies': 2591, 'tragedy': 4551, 'shakespeare': 3915, 'study': 4242, 'darkness': 1117, 'soldier': 4053, 'welcome': 4842, 'hints': 2113, 'plans': 3292, 'terrific': 4409, 'spider': 4109, 'instantly': 2306, 'georges': 1894, 'powell': 3358, 'heaven': 2068, 'shoes': 3941, 'buffs': 612, 'jaw': 2384, 'shirt': 3937, 'wet': 4855, 'rolling': 3730, 'amongst': 218, 'telling': 4396, 'forbidden': 1785, 'criminal': 1057, 'prince': 3396, 'anthony': 253, 'glory': 1922, 'judge': 2424, 'encounter': 1466, 'unfortunate': 4653, 'sudden': 4272, 'impact': 2244, 'inspector': 2299, 'sent': 3880, 'nearby': 2980, 'synopsis': 4344, 'sons': 4073, 'join': 2412, 'jean': 2389, 'van': 4713, 'previously': 3388, 'risk': 3704, 'simplistic': 3985, 'rough': 3741, 'mistaken': 2872, 'england': 1482, 'studios': 4241, 'grand': 1953, 'notable': 3041, 'truck': 4595, '2005': 35, 'worlds': 4947, 'aspects': 322, 'perry': 3237, 'clark': 832, 'contact': 961, 'goal': 1925, 'persona': 3239, 'slap': 4018, 'delivery': 1173, 'charisma': 762, 'spread': 4133, 'propaganda': 3435, 'garbage': 1870, 'robbins': 3712, 'warren': 4801, 'beatty': 427, 'overrated': 3156, 'arguably': 289, 'communist': 907, 'gandhi': 1866, 'revolutionary': 3681, 'physically': 3263, 'uninteresting': 4660, 'kubrick': 2496, 'carefully': 689, 'jungle': 2434, 'massacre': 2754, 'careers': 687, 'orange': 3125, 'chest': 784, 'simpson': 3987, 'cup': 1080, 'theyll': 4444, 'pot': 3354, 'hundred': 2195, 'vote': 4766, 'hint': 2112, 'sean': 3840, 'idiotic': 2219, 'dialogues': 1235, 'pregnant': 3369, 'slave': 4022, 'captain': 674, 'stolen': 4195, 'painting': 3175, 'devoted': 1231, 'describes': 1196, 'separate': 3883, 'challenging': 744, 'adds': 119, 'plastic': 3294, 'mirror': 2861, 'composed': 926, 'size': 4012, 'versions': 4721, 'childhood': 790, 'christmas': 810, 'lou': 2663, 'taylor': 4372, 'duty': 1390, 'bound': 553, '1983': 22, 'timothy': 4499, 'dalton': 1098, 'jane': 2380, 'eyre': 1614, 'bbc': 417, 'bright': 581, 'shadows': 3913, 'rochester': 3719, 'domestic': 1318, 'novels': 3053, 'technical': 4381, 'christian': 808, 'text': 4419, 'piano': 3264, 'performing': 3233, 'decade': 1144, 'lonely': 2643, 'willing': 4889, 'lips': 2615, 'charlotte': 766, 'burns': 628, 'thus': 4486, 'counter': 1011, 'doomed': 1327, 'honor': 2150, 'realizes': 3554, 'st': 4137, 'pig': 3274, 'prize': 3405, 'manage': 2722, 'unfunny': 4655, 'below': 462, 'chase': 769, 'hall': 2009, 'proceedings': 3410, 'steel': 4173, 'titles': 4506, 'williams': 4888, 'friendly': 1836, 'daily': 1097, 'appearances': 275, 'design': 1202, 'similarly': 3980, 'contrived': 976, 'elvis': 1451, 'voiced': 4762, 'handed': 2016, 'anymore': 258, 'linda': 2609, 'insight': 2298, 'parent': 3187, 'fathers': 1667, 'losing': 2658, 'humour': 2194, 'trap': 4563, 'avoided': 364, 'ultimately': 4628, 'resolution': 3649, 'occur': 3076, 'eccentric': 1414, 'ridden': 3691, 'cardboard': 682, 'emotionally': 1460, 'compelled': 915, 'indie': 2276, 'horrific': 2166, 'mile': 2842, 'alike': 185, 'spoiled': 4122, 'aimed': 162, 'crush': 1072, 'rocky': 3723, 'allow': 189, 'kung': 2498, 'fu': 1844, 'tons': 4520, 'overacting': 3149, 'uneven': 4649, 'curtis': 1087, 'returns': 3668, 'claims': 830, 'secretary': 3850, 'secretly': 3851, 'ellen': 1446, 'trial': 4580, 'sentence': 3881, 'doubts': 1333, 'arrived': 301, 'partner': 3198, 'oil': 3097, 'wealthy': 4827, 'guilty': 1995, 'knowledge': 2491, 'train': 4556, 'wreck': 4965, 'personality': 3242, 'commit': 904, 'witnesses': 4916, 'jazz': 2387, 'melodramatic': 2798, 'zero': 4996, 'humble': 2191, 'nightmare': 3014, 'elm': 1447, 'price': 3389, 'tag': 4348, 'faith': 1633, 'obsessed': 3069, 'sidney': 3968, 'fare': 1655, 'dinosaur': 1255, 'clown': 862, 'dinosaurs': 1256, 'fed': 1682, 'hamlet': 2013, 'branagh': 564, 'passes': 3203, 'faults': 1669, '70': 55, 'vhs': 4725, 'titanic': 4503, 'carl': 692, 'navy': 2976, 'nonetheless': 3029, 'odds': 3082, 'hal': 2006, 'careful': 688, 'advice': 133, 'crocodile': 1065, 'bargain': 400, 'tommy': 4516, 'peters': 3248, 'hospital': 2172, 'jump': 2429, 'skin': 4015, 'itll': 2369, 'farm': 1656, 'desperately': 1209, 'sally': 3776, 'paltrow': 3178, 'emma': 1457, 'elegant': 1441, 'jeremy': 2394, 'directions': 1262, 'norman': 3035, 'hoffman': 2128, 'serves': 3895, 'adequate': 120, 'burton': 630, 'poetic': 3313, 'prisoners': 3403, 'formula': 1802, 'ironic': 2355, 'harsh': 2040, 'parody': 3192, 'meaningless': 2782, 'views': 4742, 'bridge': 578, 'purpose': 3474, 'aliens': 184, 'villains': 4745, 'chinese': 796, 'tense': 4403, 'sheer': 3925, 'defeat': 1157, 'overlook': 3153, 'em': 1452, 'heights': 2073, 'bay': 416, 'murphy': 2944, 'lower': 2677, 'diamond': 1236, 'intensity': 2317, 'franchise': 1817, 'tame': 4363, 'fulci': 1845, 'giallo': 1904, 'yellow': 4981, 'clues': 865, 'blunt': 520, 'refreshing': 3586, 'complicated': 925, 'necessary': 2984, 'surfing': 4311, 'sandler': 3781, 'expression': 1602, 'cried': 1054, 'favorites': 1672, 'positive': 3346, 'roman': 3731, 'polanski': 3321, 'paranoia': 3186, 'balance': 387, 'darker': 1116, 'protagonists': 3442, 'captures': 678, 'betty': 474, 'bare': 398, 'spain': 4091, 'ii': 2226, 'balls': 390, 'presents': 3377, 'countless': 1012, 'halloween': 2010, 'tape': 4365, 'satan': 3787, 'doll': 1313, 'naive': 2958, 'jesus': 2399, 'brains': 563, 'mistress': 2874, 'upper': 4685, 'fiction': 1702, 'walker': 4778, 'native': 2972, 'response': 3654, 'indian': 2274, 'thirty': 4456, 'educational': 1425, 'currently': 1085, 'julia': 2427, 'cusack': 1088, 'walken': 4777, 'hank': 2024, 'greedy': 1969, 'americas': 215, 'lately': 2524, 'cruise': 1071, 'responsible': 3656, 'coach': 868, 'shining': 3933, 'abysmal': 76, 'hitler': 2124, 'raised': 3508, 'insulting': 2310, 'millions': 2848, 'rat': 3525, 'realise': 3548, 'included': 2262, 'state': 4160, 'religious': 3608, 'beliefs': 452, 'segments': 3868, 'sitcom': 4004, 'farce': 1654, 'movement': 2923, 'concern': 931, 'soviet': 4089, 'program': 3424, 'irony': 2357, 'pacing': 3163, 'suggest': 4280, 'involves': 2348, 'wit': 4908, 'tracks': 4545, 'picks': 3268, 'resemblance': 3645, 'ireland': 2352, 'dan': 1102, 'harder': 2035, 'grab': 1949, 'highlight': 2103, 'authority': 360, 'court': 1020, 'kings': 2481, 'justice': 2438, 'drunken': 1376, 'entry': 1504, 'gene': 1879, 'riding': 3695, 'bruce': 602, 'desert': 1198, 'hed': 2072, 'smiling': 4037, 'warned': 4798, 'afternoon': 144, 'dorothy': 1330, 'kidnapped': 2466, 'joe': 2407, 'danny': 1112, 'jonathan': 2417, 'reel': 3581, 'julie': 2428, 'warner': 4799, 'kevin': 2457, 'vincent': 4746, 'craven': 1034, 'canada': 666, 'drew': 1360, 'gentle': 1890, 'suspects': 4328, 'provides': 3450, 'gift': 1906, 'banned': 395, 'contract': 973, 'university': 4667, 'staff': 4138, 'nicholson': 3011, 'stylish': 4251, 'attempting': 342, 'struggles': 4235, 'maintain': 2710, 'theory': 4437, 'bold': 528, 'dynamic': 1394, 'logical': 2639, 'castle': 712, 'burned': 626, 'lab': 2501, 'agrees': 157, 'corpse': 999, 'present': 3374, 'spy': 4135, 'complexity': 924, 'technique': 4383, 'briefly': 580, 'revelation': 3674, 'campbell': 663, 'berlin': 467, 'nation': 2969, 'writes': 4970, 'nazi': 2977, 'poetry': 3314, 'lie': 2590, 'laura': 2536, 'multiple': 2936, 'reveals': 3673, 'reflect': 3584, 'colors': 879, 'storytelling': 4209, 'strongly': 4231, 'belong': 459, 'stale': 4141, 'lees': 2560, 'idiot': 2218, 'fighter': 1708, 'dogs': 1311, 'sum': 4289, 'bullet': 620, 'metal': 2823, 'block': 508, 'numerous': 3062, 'bite': 489, 'newspaper': 3006, 'et': 1526, 'al': 170, 'karen': 2444, 'disappoint': 1272, 'thinks': 4454, 'unpredictable': 4675, 'hanks': 2025, 'stellar': 4174, 'exceptional': 1558, 'ian': 2209, 'celebrity': 729, 'months': 2897, 'fay': 1674, 'spoken': 4126, 'angle': 236, 'marvelous': 2750, 'vegas': 4717, 'beloved': 461, 'offensive': 3086, 'relatives': 3601, 'gangsters': 1869, 'sloppy': 4030, 'battles': 415, 'makeup': 2717, 'energy': 1478, 'explosions': 1597, 'union': 4661, 'reminiscent': 3621, 'choices': 798, 'theyd': 4443, 'rooms': 3736, 'illegal': 2229, 'ratings': 3530, 'hooked': 2153, 'gadget': 1860, 'centered': 733, 'twisted': 4618, 'india': 2273, 'terribly': 4408, 'kapoor': 2443, 'redemption': 3578, 'junior': 2435, 'wished': 4905, 'floating': 1758, 'annie': 247, 'revealing': 3672, 'sutherland': 4333, 'emotion': 1458, 'crimes': 1056, 'cousin': 1021, 'outfit': 3144, 'michelle': 2830, 'cards': 683, 'eve': 1532, 'sid': 3964, 'interview': 2329, 'attend': 344, 'suitable': 4285, 'seed': 3856, 'mainstream': 2709, 'downhill': 1336, 'generic': 1885, 'unrealistic': 4677, 'par': 3184, 'screening': 3830, 'highlights': 2104, 'eastern': 1408, 'followed': 1773, 'chair': 742, 'engaging': 1481, 'endearing': 1469, 'awe': 370, 'catching': 716, 'distribution': 1298, 'spielberg': 4110, 'psychiatrist': 3455, 'link': 2613, 'columbo': 881, 'experienced': 1581, 'patrick': 3213, 'harvey': 2042, 'hart': 2041, 'albert': 174, 'bela': 450, 'lugosi': 2686, 'bride': 577, 'deaths': 1142, 'reporter': 3636, 'solve': 4060, 'lust': 2689, 'attracted': 349, 'reviewer': 3677, 'occasion': 3073, 'attempted': 341, 'grasp': 1960, 'influence': 2286, 'ear': 1397, 'portion': 3338, 'china': 795, 'kicked': 2461, 'ages': 152, 'sports': 4130, '2007': 37, 'acceptable': 81, 'warn': 4797, 'grandmother': 1955, 'taught': 4370, 'raw': 3532, 'raise': 3507, 'ho': 2127, 'stunts': 4246, 'royal': 3746, 'dropping': 1371, 'bathroom': 412, 'visits': 4756, 'bacall': 377, 'rose': 3739, 'aid': 160, 'proceeds': 3411, 'workers': 4943, 'deliberately': 1166, 'damon': 1101, 'remaining': 3610, 'bell': 458, 'emphasis': 1463, 'frustration': 1843, 'digital': 1251, 'suffers': 4278, 'fights': 1710, 'plots': 3310, 'safety': 3772, 'womans': 4922, 'vengeance': 4719, 'maria': 2736, 'ignored': 2225, 'arrogant': 303, 'anime': 243, 'dozens': 1339, 'blockbuster': 509, 'progress': 3425, 'colonel': 876, 'singer': 3993, 'prisoner': 3402, 'scottish': 3825, 'toys': 4543, 'catches': 715, 'concerns': 934, 'helping': 2081, 'grandfather': 1954, 'pleased': 3305, 'instant': 2305, 'subplot': 4255, 'empire': 1464, 'flight': 1757, 'flynn': 1765, 'splendid': 4119, 'spirited': 4114, 'appealing': 272, 'genuinely': 1892, 'richardson': 3688, 'grant': 1956, 'hippie': 2115, 'stinker': 4191, 'channels': 754, 'exists': 1573, 'gas': 1874, 'ted': 4386, 'jumping': 2431, 'irrelevant': 2358, 'von': 4765, 'chaplin': 756, 'locked': 2637, 'luck': 2681, 'ironically': 2356, 'robbery': 3711, 'expert': 1585, 'comedic': 888, 'ego': 1435, 'flash': 1745, 'tooth': 4524, 'toilet': 4512, 'jail': 2376, 'lol': 2640, 'examples': 1554, 'priest': 3392, 'ham': 2011, 'jerry': 2396, 'gross': 1978, 'wind': 4893, 'stranger': 4213, 'bleak': 503, 'repeat': 3630, 'ryan': 3765, 'brazil': 568, 'spirits': 4115, 'consists': 955, 'journalist': 2420, 'ups': 4686, 'hideous': 2098, 'yesterday': 4983, 'timeless': 4496, 'reach': 3536, 'stilted': 4190, 'horrid': 2165, 'likewise': 2603, 'user': 4696, 'pal': 3177, 'noble': 3021, 'gods': 1928, 'profound': 3423, 'birthday': 487, 'circle': 821, 'flawed': 1750, 'hey': 2095, 'survived': 4322, 'african': 142, 'plane': 3288, 'angles': 237, 'involvement': 2347, 'smoking': 4040, 'accents': 79, 'marks': 2742, 'sentimental': 3882, 'opened': 3113, 'forty': 1807, 'forgot': 1796, 'disturbed': 1299, 'futuristic': 1857, 'recording': 3575, 'amateur': 206, 'capital': 673, 'alien': 183, 'imaginative': 2237, 'karloff': 2445, 'sinister': 3998, 'kay': 2447, 'disappear': 1270, 'bore': 540, 'witnessed': 4915, 'scores': 3823, 'carpenter': 694, 'guessing': 1991, 'cage': 645, 'enters': 1496, 'hopper': 2161, 'purchased': 3470, 'africa': 141, 'cartoons': 705, 'stops': 4203, 'suggests': 4282, 'patient': 3211, 'wizard': 4919, 'oz': 3160, 'mexico': 2827, 'essence': 1521, 'obsession': 3070, 'whale': 4857, 'jaws': 2385, 'enormous': 1490, 'hunters': 2200, 'disappointing': 1274, 'encounters': 1467, 'rachel': 3500, 'increasingly': 2268, 'accidentally': 85, 'demand': 1174, 'fatal': 1664, 'bo': 521, 'derek': 1192, 'leg': 2562, 'utterly': 4702, 'dave': 1123, 'wore': 4939, 'stretched': 4222, '18': 10, 'throat': 4476, 'president': 3378, 'aforementioned': 139, 'thick': 4447, 'overdone': 3152, 'la': 2500, 'occasional': 3074, 'characterization': 759, 'extra': 1606, 'wealth': 4826, 'sophisticated': 4075, 'wacky': 4769, 'superficial': 4298, 'dancers': 1105, 'card': 681, 'presentation': 3375, 'depression': 1189, 'mgm': 2828, 'dear': 1140, 'ruby': 3749, 'dances': 1106, 'bus': 631, '35': 45, 'philip': 3252, '1970s': 17, 'screenwriter': 3833, 'lumet': 2688, 'bears': 421, 'sexuality': 3909, 'manhattan': 2726, 'hilariously': 2107, 'threatening': 4468, 'advance': 127, 'doctors': 1305, 'copies': 992, 'fury': 1855, 'finding': 1727, 'keaton': 2448, '1984': 23, 'broke': 593, 'ruthless': 3764, 'corruption': 1002, 'formulaic': 1803, 'serve': 3893, 'freddy': 1826, 'lifestyle': 2593, 'mann': 2728, 'southern': 4088, 'buddies': 608, 'cost': 1003, 'dealing': 1136, 'fbi': 1675, 'indians': 2275, 'estate': 1525, 'edgar': 1417, 'fancy': 1649, 'fellow': 1691, 'pays': 3218, 'daring': 1114, 'intent': 2318, 'brooklyn': 595, 'everyones': 1543, 'greek': 1970, 'jesse': 2397, 'partly': 3197, 'pointed': 3317, 'conflicts': 940, 'sidekick': 3966, 'football': 1783, 'plague': 3285, 'widmark': 4882, 'trademark': 4548, 'folk': 1770, 'miscast': 2862, 'sinatra': 3989, 'survival': 4320, 'served': 3894, 'lawyer': 2541, 'photographed': 3258, 'struggling': 4236, 'perfection': 3225, 'plight': 3308, 'sadistic': 3768, 'answer': 251, 'sheriff': 3929, 'assigned': 325, 'italy': 2368, 'mst3k': 2932, 'baker': 385, 'struck': 4232, 'cowboy': 1025, 'instinct': 2308, 'gerard': 1895, 'eaten': 1412, 'directs': 1267, 'pan': 3180, 'snl': 4044, 'depicts': 1186, 'fail': 1625, 'feed': 1683, 'clichés': 846, 'spectacular': 4101, 'laughable': 2530, 'morris': 2908, 'cd': 728, 'forest': 1791, '1980s': 21, 'scare': 3803, 'sixties': 4011, 'pile': 3275, 'topless': 4527, 'occurs': 3078, 'tea': 4373, 'angels': 234, 'notorious': 3051, 'preview': 3386, 'leo': 2571, 'videos': 4734, 'renting': 3629, 'someones': 4065, 'buying': 641, 'scrooge': 3837, 'holiday': 2134, 'bob': 524, 'root': 3737, 'authentic': 358, 'empathy': 1462, 'relation': 3595, 'initial': 2290, 'creation': 1040, 'disease': 1285, 'destroyed': 1214, 'condition': 937, 'blown': 516, 'defined': 1160, 'edition': 1422, 'motives': 2916, 'roots': 3738, 'anderson': 227, 'creativity': 1042, 'exploration': 1593, 'twilight': 4614, 'ashamed': 312, 'championship': 745, 'acid': 95, 'concerning': 933, 'display': 1291, 'buried': 624, 'inept': 2281, 'constructed': 959, 'relevant': 3604, 'dire': 1257, 'displays': 1293, 'disc': 1278, 'chapter': 757, 'innovative': 2295, 'dad': 1095, 'practically': 3362, 'francis': 1818, 'husbands': 2205, '2nd': 41, 'humans': 2190, 'junk': 2436, 'latin': 2527, 'east': 1407, 'corrupt': 1001, 'forever': 1792, 'claire': 831, 'enjoys': 1489, 'deadly': 1133, 'terrorists': 4414, 'agents': 151, 'killings': 2473, 'maggie': 2702, 'poem': 3312, 'sappy': 3784, 'appreciated': 280, 'mitchell': 2875, 'solution': 4059, 'designed': 1203, 'lengthy': 2570, 'ballet': 389, 'sounded': 4082, 'kennedy': 2454, 'airport': 167, 'repeated': 3631, 'astaire': 330, 'rogers': 3725, 'cagney': 646, '50s': 52, 'andrews': 229, 'singers': 3994, 'teachers': 4376, 'pacino': 3164, 'installment': 2303, 'racial': 3501, 'press': 3379, 'thrills': 4475, 'competent': 917, 'stones': 4198, 'vicious': 4728, 'inevitable': 2282, 'fictional': 1703, 'mickey': 2831, 'cruel': 1070, 'mail': 2706, 'letters': 2582, 'clumsy': 866, 'explaining': 1588, 'rule': 3753, 'judging': 2425, 'blank': 501, 'calls': 654, 'basement': 405, 'ancient': 225, 'cinemas': 817, 'web': 4833, 'documentaries': 1306, 'slightest': 4028, 'rush': 3759, 'minimal': 2855, 'album': 175, 'wandering': 4785, 'stays': 4169, 'buff': 611, 'cake': 648, 'scripted': 3835, 'breasts': 572, 'prostitute': 3440, 'sport': 4129, 'boxing': 556, 'method': 2824, 'rolled': 3729, 'cabin': 643, 'fever': 1699, '3rd': 47, 'frightening': 1839, 'contest': 967, 'solo': 4058, 'dislike': 1288, 'react': 3540, 'mild': 2839, 'staring': 4152, 'ghosts': 1903, 'statement': 4162, 'realizing': 3555, 'fabulous': 1615, 'rambo': 3511, 'fetched': 1698, 'intrigue': 2333, 'snow': 4045, 'kicks': 2463, 'richards': 3687, 'purple': 3473, 'innocence': 2293, 'widow': 4883, 'repeatedly': 3632, 'closet': 858, 'discovery': 1282, 'bands': 392, 'beings': 449, 'letter': 2581, 'solely': 4056, 'largely': 2518, 'inventive': 2341, 'luke': 2687, 'reynolds': 3684, 'jessica': 2398, 'photo': 3257, 'commented': 900, 'shelf': 3926, 'directorial': 1265, 'denzel': 1181, 'washington': 4806, 'suspicious': 4332, 'stargate': 4151, 'suspend': 4329, 'offering': 3089, 'returning': 3667, 'account': 89, 'steals': 4172, 'trade': 4547, 'suggested': 4281, 'sexually': 3910, 'rubber': 3747, 'homeless': 2143, 'learned': 2551, 'brenda': 575, 'brutally': 604, 'succeed': 4262, 'cinematographer': 819, 'compelling': 916, 'seeking': 3859, 'errors': 1516, 'ears': 1402, 'conflict': 939, 'stole': 4194, 'chuck': 812, 'universal': 4665, 'generous': 1886, 'rabbit': 3498, 'slick': 4026, 'furthermore': 1854, 'enjoyment': 1488, 'cole': 873, 'bet': 470, 'sincere': 3991, 'impress': 2250, 'smooth': 4041, 'specifically': 4100, 'subtlety': 4261, 'groups': 1981, 'cities': 823, 'officers': 3093, 'guts': 1999, 'ad': 110, 'displayed': 1292, 'detailed': 1218, 'interviews': 2330, 'families': 1644, 'elvira': 1450, 'guarantee': 1987, 'pitch': 3279, 'troubles': 4594, 'ought': 3138, 'freeman': 1829, 'advantage': 129, 'academy': 77, 'prequel': 3372, 'alfred': 181, 'striking': 4226, 'abraham': 69, 'blues': 519, 'conventional': 979, 'mental': 2808, 'brady': 561, 'waitress': 4773, 'gifted': 1907, 'month': 2896, 'nervous': 2999, '1980': 20, 'afford': 138, 'sun': 4292, 'brilliance': 582, 'elephant': 1444, 'attorney': 348, 'shine': 3931, 'revolves': 3682, 'adding': 117, 'wears': 4832, 'faster': 1662, 'assistant': 326, 'alternate': 200, 'drink': 1361, 'service': 3896, 'bud': 607, 'christians': 809, 'mothers': 2912, 'amanda': 205, 'moronic': 2907, 'petty': 3249, 'minded': 2850, 'planned': 3290, 'classes': 834, 'reviewers': 3678, 'unaware': 4632, 'simplicity': 3984, 'jerk': 2395, 'titled': 4505, 'enterprise': 1495, 'trek': 4578, 'citizen': 824, 'pity': 3281, 'purchase': 3469, 'eva': 1531, 'sandra': 3782, 'wrap': 4963, 'curse': 1086, 'button': 639, 'climactic': 848, 'showdown': 3955, 'bone': 533, 'graphics': 1959, 'league': 2549, 'matched': 2763, 'everyday': 1541, 'garden': 1872, 'rotten': 3740, 'tomatoes': 4515, 'construction': 960, 'noted': 3045, 'anne': 246, 'caliber': 649, 'lincoln': 2608, 'adam': 111, 'psychic': 3456, 'seeks': 3860, 'continued': 970, 'winter': 4900, 'accused': 91, 'mechanical': 2788, 'blowing': 515, 'complaint': 920, 'toy': 4542, 'professor': 3422, 'smaller': 4034, 'stopped': 4202, 'homosexual': 2145, 'dropped': 1370, 'brooks': 596, 'june': 2433, 'appreciation': 281, 'driver': 1366, 'print': 3399, 'spare': 4093, 'unconvincing': 4638, 'dolph': 1317, 'visible': 4753, 'criminals': 1058, 'panic': 3181, 'wanna': 4786, 'lacked': 2503, 'offended': 3085, 'hype': 2207, 'merits': 2817, 'muslim': 2949, 'sword': 4340, 'hills': 2109, 'showcase': 3954, 'dreary': 1356, 'shortly': 3947, 'screens': 3832, 'ward': 4793, 'fields': 1705, 'awake': 365, 'distant': 1295, 'opportunities': 3120, 'dressing': 1359, 'simmons': 3981, 'possessed': 3347, 'understandable': 4644, 'environment': 1505, 'kicking': 2462, 'craig': 1030, 'narration': 2965, 'godfather': 1927, 'patients': 3212, 'emily': 1456, 'barry': 401, 'limited': 2606, 'receives': 3565, 'samurai': 3779, 'retarded': 3663, 'pit': 3278, 'attached': 336, 'larger': 2519, 'thankfully': 4422, 'ease': 1404, 'strangely': 4212, 'load': 2631, 'proud': 3444, 'philosophical': 3253, 'integrity': 2311, 'bugs': 613, 'glass': 1917, 'tortured': 4530, 'prom': 3429, 'trashy': 4566, 'jamie': 2379, 'terrifying': 4410, 'dancer': 1104, 'turner': 4607, 'iran': 2350, 'animals': 240, 'arm': 292, 'complain': 919, 'reunion': 3669, 'rick': 3689, 'wisdom': 4902, 'loads': 2633, 'lena': 2568, 'ginger': 1908, 'tiresome': 4502, 'discuss': 1283, 'swear': 4334, 'doom': 1326, 'demented': 1176, 'san': 3780, 'francisco': 1819, 'joey': 2408, 'ashley': 313, 'donna': 1323, 'enthusiasm': 1501, 'storm': 4206, 'expensive': 1579, 'alright': 198, 'stiller': 4189, 'unpleasant': 4674, 'lesser': 2576, 'cannibal': 669, 'bird': 484, 'mel': 2796, 'dealt': 1138, 'row': 3744, 'twins': 4616, 'dentist': 1180, 'robot': 3717, 'practice': 3363, 'mindless': 2851, 'wendy': 4846, 'jumped': 2430, 'continuity': 972, 'investigation': 2343, '1999': 27, 'drawing': 1350, 'hook': 2152, 'polished': 3323, 'dub': 1378, 'landscape': 2513, 'movements': 2924, 'joined': 2413, 'mummy': 2937, 'nicholas': 3010, 'foul': 1810, 'doors': 1329, 'mysteries': 2954, 'olivier': 3103, 'descent': 1193, 'aging': 153, 'signs': 3973, 'terrorist': 4413, 'purposes': 3475, 'generations': 1884, 'global': 1920, 'bedroom': 437, 'morality': 2903, 'scientific': 3817, 'jewish': 2401, 'explored': 1595, 'border': 539, 'pursuit': 3476, 'boom': 537, 'viewings': 4741, 'caine': 647, 'manipulative': 2727, 'unhappy': 4656, 'ps': 3453, 'fisher': 1739, 'losers': 2656, 'glover': 1923, 'transition': 4561, 'wives': 4918, 'surrounding': 4319, 'masterpieces': 2760, 'ensues': 1493, 'eighties': 1437, 'fallen': 1638, 'ultra': 4629, 'combine': 884, 'nurse': 3063, 'connect': 944, 'bag': 384, 'matches': 2764, 'quit': 3494, 'machines': 2694, 'demons': 1178, 'senseless': 3878, 'flashback': 1746, 'blah': 496, 'namely': 2962, 'womens': 4924, 'marty': 2749, 'represented': 3638, 'marketing': 2741, 'akshay': 169, 'attitudes': 347, 'artificial': 306, 'methods': 2825, 'subplots': 4256, 'believing': 457, 'yelling': 4980, 'montage': 2894, 'khan': 2459, 'anybody': 257, 'searching': 3842, 'dawson': 1128, 'forgive': 1795, 'stress': 4220, 'alexander': 180, 'equivalent': 1512, 'understated': 4646, 'weight': 4840, 'rising': 3703, 'highest': 2102, 'dolls': 1316, 'psychotic': 3459, 'leonard': 2572, 'luckily': 2682, 'vampires': 4712, 'stiff': 4187, 'resources': 3651, 'nonsensical': 3031, 'hello': 2078, 'willis': 4890, 'madonna': 2699, 'suffice': 4279, 'diana': 1237, 'amitabh': 216, 'existed': 1570, 'dracula': 1341, 'noise': 3024, 'antics': 255, 'spooky': 4128, 'le': 2544, 'models': 2881, 'frankenstein': 1822, 'vivid': 4760, 'davies': 1125, 'bullets': 621, 'accompanied': 86, 'abilities': 64, 'familys': 1646, 'rid': 3690, 'loyal': 2679, 'tear': 4379, 'lawrence': 2539, 'pants': 3182, '80': 58, 'ships': 3935, 'swedish': 4335, 'nomination': 3026, 'illness': 2230, 'hudson': 2184, 'excessive': 1560, 'clint': 850, 'bat': 410, 'niro': 3019, 'masterful': 2758, 'fashioned': 1660, 'robots': 3718, 'advise': 134, 'witches': 4910, 'punishment': 3467, 'flies': 1756, 'superhero': 4299, 'nostalgia': 3038, 'trail': 4553, 'reaching': 3539, 'discussion': 1284, 'restored': 3659, 'masses': 2755, 'property': 3438, 'pokemon': 3320, 'strangers': 4214, 'mundane': 2938, 'latest': 2526, 'awfully': 373, 'carradine': 695, 'scope': 3821, 'sits': 4006, 'monk': 2889, 'april': 284, 'pat': 3208, 'misery': 2865, 'terry': 4415, 'delivering': 1171, 'motivations': 2915, 'guessed': 1990, 'online': 3109, 'contained': 963, 'philosophy': 3254, 'kingdom': 2480, 'proof': 3434, 'soccer': 4048, 'waves': 4819, 'scarecrow': 3804, 'gender': 1878, 'achieved': 93, 'brosnan': 597, 'blob': 507, 'contemporary': 965, 'signed': 3971, 'creep': 1051, 'wells': 4845, 'teaching': 4377, 'promises': 3432, 'paulie': 3215, 'ken': 2453, 'warriors': 4803, 'macy': 2695, 'grey': 1973, 'franco': 1820, 'affect': 136, 'bobby': 525, 'chicks': 787, 'ramones': 3512, 'rebel': 3561, 'devils': 1229, 'bette': 471, 'greed': 1968, 'hopeless': 2158, 'edie': 1419, 'florida': 1761, 'dutch': 1389, 'saga': 3773, 'scooby': 3820, 'doo': 1325, 'unwatchable': 4682, 'unoriginal': 4673, 'montana': 2895, 'ya': 4976, 'domino': 1319, 'gundam': 1997, 'jenny': 2393, 'isolated': 2363, 'tiger': 4491, 'mafia': 2700, 'der': 1191, 'omen': 3104, 'atlantis': 332, '3d': 46, 'wholly': 4874, 'reaches': 3538, 'mildred': 2841, 'phony': 3256, 'gabriel': 1859}\n"
     ]
    }
   ],
   "source": [
    "print(str(vocabulary))"
   ]
  },
  {
   "cell_type": "markdown",
   "metadata": {},
   "source": [
    "Once you have added the endpoint name to the Lambda function, click on **Save**. Your Lambda function is now up and running. Next we need to create a way for our web app to execute the Lambda function."
   ]
  },
  {
   "cell_type": "markdown",
   "metadata": {},
   "source": [
    "### Setting up API Gateway\n",
    "\n",
    "Now that our Lambda function is set up, it is time to create a new API using API Gateway that will trigger the Lambda function we have just created.\n",
    "\n",
    "Using AWS Console, navigate to **Amazon API Gateway** and then click on **Get started**.\n",
    "\n",
    "On the next page, make sure that **New API** is selected and give the new api a name, for example, `sentiment_analysis_web_app`. Then, click on **Create API**.\n",
    "\n",
    "Now we have created an API, however it doesn't currently do anything. What we want it to do is to trigger the Lambda function that we created earlier.\n",
    "\n",
    "Select the **Actions** dropdown menu and click **Create Method**. A new blank method will be created, select its dropdown menu and select **POST**, then click on the check mark beside it.\n",
    "\n",
    "For the integration point, make sure that **Lambda Function** is selected and click on the **Use Lambda Proxy integration**. This option makes sure that the data that is sent to the API is then sent directly to the Lambda function with no processing. It also means that the return value must be a proper response object as it will also not be processed by API Gateway.\n",
    "\n",
    "Type the name of the Lambda function you created earlier into the **Lambda Function** text entry box and then click on **Save**. Click on **OK** in the pop-up box that then appears, giving permission to API Gateway to invoke the Lambda function you created.\n",
    "\n",
    "The last step in creating the API Gateway is to select the **Actions** dropdown and click on **Deploy API**. You will need to create a new Deployment stage and name it anything you like, for example `prod`.\n",
    "\n",
    "You have now successfully set up a public API to access your SageMaker model. Make sure to copy or write down the URL provided to invoke your newly created public API as this will be needed in the next step. This URL can be found at the top of the page, highlighted in blue next to the text **Invoke URL**."
   ]
  },
  {
   "cell_type": "markdown",
   "metadata": {},
   "source": [
    "## Step 7: Deploying our web app\n",
    "\n",
    "Now that we have a publicly available API, we can start using it in a web app. For our purposes, we have provided a simple static html file which can make use of the public api you created earlier.\n",
    "\n",
    "In the `website` folder there should be a file called `index.html`. Download the file to your computer and open that file up in a text editor of your choice. There should be a line which contains **\\*\\*REPLACE WITH PUBLIC API URL\\*\\***. Replace this string with the url that you wrote down in the last step and then save the file.\n",
    "\n",
    "Now, if you open `index.html` on your local computer, your browser will behave as a local web server and you can use the provided site to interact with your SageMaker model.\n",
    "\n",
    "If you'd like to go further, you can host this html file anywhere you'd like, for example using github or hosting a static site on Amazon's S3. Once you have done this you can share the link with anyone you'd like and have them play with it too!\n",
    "\n",
    "> **Important Note** In order for the web app to communicate with the SageMaker endpoint, the endpoint has to actually be deployed and running. This means that you are paying for it. Make sure that the endpoint is running when you want to use the web app but that you shut it down when you don't need it, otherwise you will end up with a surprisingly large AWS bill."
   ]
  },
  {
   "cell_type": "markdown",
   "metadata": {},
   "source": [
    "### Delete the endpoint\n",
    "\n",
    "Remember to always shut down your endpoint if you are no longer using it. You are charged for the length of time that the endpoint is running so if you forget and leave it on you could end up with an unexpectedly large bill."
   ]
  },
  {
   "cell_type": "code",
   "execution_count": 49,
   "metadata": {},
   "outputs": [],
   "source": [
    "xgb_predictor.delete_endpoint()"
   ]
  },
  {
   "cell_type": "markdown",
   "metadata": {},
   "source": [
    "## Optional: Clean up\n",
    "\n",
    "The default notebook instance on SageMaker doesn't have a lot of excess disk space available. As you continue to complete and execute notebooks you will eventually fill up this disk space, leading to errors which can be difficult to diagnose. Once you are completely finished using a notebook it is a good idea to remove the files that you created along the way. Of course, you can do this from the terminal or from the notebook hub if you would like. The cell below contains some commands to clean up the created files from within the notebook."
   ]
  },
  {
   "cell_type": "code",
   "execution_count": null,
   "metadata": {},
   "outputs": [],
   "source": [
    "# First we will remove all of the files contained in the data_dir directory\n",
    "!rm $data_dir/*\n",
    "\n",
    "# And then we delete the directory itself\n",
    "!rmdir $data_dir\n",
    "\n",
    "# Similarly we remove the files in the cache_dir directory and the directory itself\n",
    "!rm $cache_dir/*\n",
    "!rmdir $cache_dir"
   ]
  },
  {
   "cell_type": "code",
   "execution_count": null,
   "metadata": {},
   "outputs": [],
   "source": []
  }
 ],
 "metadata": {
  "kernelspec": {
   "display_name": "conda_python3",
   "language": "python",
   "name": "conda_python3"
  },
  "language_info": {
   "codemirror_mode": {
    "name": "ipython",
    "version": 3
   },
   "file_extension": ".py",
   "mimetype": "text/x-python",
   "name": "python",
   "nbconvert_exporter": "python",
   "pygments_lexer": "ipython3",
   "version": "3.6.10"
  }
 },
 "nbformat": 4,
 "nbformat_minor": 2
}
